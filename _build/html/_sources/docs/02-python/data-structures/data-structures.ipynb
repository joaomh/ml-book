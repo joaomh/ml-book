{
 "cells": [
  {
   "cell_type": "markdown",
   "id": "5673a831-97fc-4668-b5d2-e4ace1863e37",
   "metadata": {
    "panel-layout": {
     "height": 443.1770935058594,
     "visible": true,
     "width": 100
    }
   },
   "source": [
    "# Data Structures in Python\n",
    "\n",
    "In programming, a **data structure** is a specialized format for organizing, processing, retrieving, and storing data. They are fundamental building blocks that allow you to manage data efficiently and effectively. Choosing the right data structure for a given task is crucial for writing performant, readable, and maintainable code.\n",
    "\n",
    "Python offers several powerful built-in data structures, each with unique properties and use cases. Understanding their characteristics is key to leveraging Python's full potential.\n",
    "\n",
    "## Lists\n",
    "\n",
    "A `list` is Python's most versatile and widely used ordered collection of items. Lists are created by enclosing a comma-separated sequence of items within square brackets `[]`\n",
    "\n",
    "  * **Definition/Purpose:** A sequence of items, similar to an array in other languages, but with greater flexibility.\n",
    "\n",
    "  * **Key Characteristics:**\n",
    "\n",
    "      * **Ordered:** Items are stored in a defined sequence based on their insertion order. This order will not change unless explicitly modified.\n",
    "      * **Mutable:** You can change, add, or remove items after the list has been created. This \"changeability\" is a primary distinction from tuples.\n",
    "      * **Allows Duplicates:** Can contain multiple items with the same value.\n",
    "      * **Indexed:** Items can be accessed using an integer index, starting from `0` for the first element. Negative indexing allows access from the end (`-1` for the last element).\n",
    "      * **Slicing:** Supports slicing to extract sub-sequences of elements.\n",
    "      * **Heterogeneous:** Can contain items of different data types within the same list (integers, strings, floats, booleans, other lists, tuples, dictionaries, etc.).\n",
    "      * **Dynamic Size:** Can grow or shrink as needed.\n",
    "\n",
    "  * **Syntax:**\n",
    "    `[item1, item2, item3, ...]`\n"
   ]
  },
  {
   "cell_type": "code",
   "execution_count": 1,
   "id": "b0d1e8d7-ebb2-4855-8fa0-0fd5a4e7e7a6",
   "metadata": {
    "panel-layout": {
     "height": 0,
     "visible": true,
     "width": 100
    }
   },
   "outputs": [
    {
     "name": "stdout",
     "output_type": "stream",
     "text": [
      "Empty list: []\n",
      "List of numbers: [10, 20, 30, 40, 50]\n",
      "Mixed list: ['apple', 1, True, 3.14, [6, 7]]\n"
     ]
    }
   ],
   "source": [
    "# Creating a list\n",
    "empty_list = []\n",
    "my_numbers = [10, 20, 30, 40, 50]\n",
    "mixed_list = [\"apple\", 1, True, 3.14, [6, 7]]\n",
    "\n",
    "print(f\"Empty list: {empty_list}\")\n",
    "print(f\"List of numbers: {my_numbers}\")\n",
    "print(f\"Mixed list: {mixed_list}\")"
   ]
  },
  {
   "cell_type": "markdown",
   "id": "fbd3312e-9259-480a-b6a2-b66d9acd8602",
   "metadata": {
    "panel-layout": {
     "height": 78.19792175292969,
     "visible": true,
     "width": 100
    }
   },
   "source": [
    "### Common List Methods\n",
    "Python's lists come with a rich set of built-in methods for manipulation. Remember that many of these methods modify the list **in-place** and do not return a new list."
   ]
  },
  {
   "cell_type": "code",
   "execution_count": 2,
   "id": "7ffafa00-6b48-4cb4-9f0e-4691552ff0d1",
   "metadata": {
    "panel-layout": {
     "height": 871.6979370117188,
     "visible": true,
     "width": 100
    }
   },
   "outputs": [
    {
     "data": {
      "text/plain": [
       "['__add__',\n",
       " '__class__',\n",
       " '__class_getitem__',\n",
       " '__contains__',\n",
       " '__delattr__',\n",
       " '__delitem__',\n",
       " '__dir__',\n",
       " '__doc__',\n",
       " '__eq__',\n",
       " '__format__',\n",
       " '__ge__',\n",
       " '__getattribute__',\n",
       " '__getitem__',\n",
       " '__getstate__',\n",
       " '__gt__',\n",
       " '__hash__',\n",
       " '__iadd__',\n",
       " '__imul__',\n",
       " '__init__',\n",
       " '__init_subclass__',\n",
       " '__iter__',\n",
       " '__le__',\n",
       " '__len__',\n",
       " '__lt__',\n",
       " '__mul__',\n",
       " '__ne__',\n",
       " '__new__',\n",
       " '__reduce__',\n",
       " '__reduce_ex__',\n",
       " '__repr__',\n",
       " '__reversed__',\n",
       " '__rmul__',\n",
       " '__setattr__',\n",
       " '__setitem__',\n",
       " '__sizeof__',\n",
       " '__str__',\n",
       " '__subclasshook__',\n",
       " 'append',\n",
       " 'clear',\n",
       " 'copy',\n",
       " 'count',\n",
       " 'extend',\n",
       " 'index',\n",
       " 'insert',\n",
       " 'pop',\n",
       " 'remove',\n",
       " 'reverse',\n",
       " 'sort']"
      ]
     },
     "execution_count": 2,
     "metadata": {},
     "output_type": "execute_result"
    }
   ],
   "source": [
    "dir(list)"
   ]
  },
  {
   "cell_type": "markdown",
   "id": "e689eb4c-6f73-41f7-a69d-cfb38fc62a89",
   "metadata": {
    "panel-layout": {
     "height": 43.19791793823242,
     "visible": true,
     "width": 100
    }
   },
   "source": [
    "#### **`append(item)`:** Adds a single `item` to the end of the list."
   ]
  },
  {
   "cell_type": "code",
   "execution_count": 3,
   "id": "03bede48-cd81-4550-b8d8-3603f6d9db4c",
   "metadata": {
    "panel-layout": {
     "height": 0,
     "visible": true,
     "width": 100
    }
   },
   "outputs": [
    {
     "name": "stdout",
     "output_type": "stream",
     "text": [
      "Initial list: ['apple', 'banana', 'cherry']\n",
      "After append('date'): ['apple', 'banana', 'cherry', 'date']\n"
     ]
    }
   ],
   "source": [
    "fruits = [\"apple\", \"banana\", \"cherry\"]\n",
    "print(f\"Initial list: {fruits}\")\n",
    "\n",
    "# append()\n",
    "fruits.append(\"date\")\n",
    "print(f\"After append('date'): {fruits}\") "
   ]
  },
  {
   "cell_type": "markdown",
   "id": "90430eaa-d8ff-4751-a8e5-9cd0bf0201ca",
   "metadata": {
    "panel-layout": {
     "height": 43.19791793823242,
     "visible": true,
     "width": 100
    }
   },
   "source": [
    "#### **`extend(iterable)`:** Adds all items from an `iterable` (like another list) to the end of the list."
   ]
  },
  {
   "cell_type": "code",
   "execution_count": 4,
   "id": "78699091-de5c-46c0-884a-d25e6d301fbd",
   "metadata": {
    "panel-layout": {
     "height": 0,
     "visible": true,
     "width": 100
    }
   },
   "outputs": [
    {
     "name": "stdout",
     "output_type": "stream",
     "text": [
      "Initial list: ['apple', 'banana', 'cherry', 'date']\n",
      "After extend(['elderberry', 'fig']): ['apple', 'banana', 'cherry', 'date', 'elderberry', 'fig']\n"
     ]
    }
   ],
   "source": [
    "# extend()\n",
    "print(f\"Initial list: {fruits}\")\n",
    "fruits.extend([\"elderberry\", \"fig\"])\n",
    "print(f\"After extend(['elderberry', 'fig']): {fruits}\")"
   ]
  },
  {
   "cell_type": "markdown",
   "id": "9319e8fc-ee55-4ba1-9d02-33d2fb01db43",
   "metadata": {
    "panel-layout": {
     "height": 43.19791793823242,
     "visible": true,
     "width": 100
    }
   },
   "source": [
    "#### **`insert(index, item)`:** Inserts an `item` at a specific `index`."
   ]
  },
  {
   "cell_type": "code",
   "execution_count": 5,
   "id": "7b7b94d2-3958-4529-9241-9b8a5e765400",
   "metadata": {
    "panel-layout": {
     "height": 0,
     "visible": true,
     "width": 100
    }
   },
   "outputs": [
    {
     "name": "stdout",
     "output_type": "stream",
     "text": [
      "Initial list: ['apple', 'banana', 'cherry', 'date', 'elderberry', 'fig']\n",
      "After insert(1,'apple'): ['apple', 'grapes', 'banana', 'cherry', 'date', 'elderberry', 'fig']\n"
     ]
    }
   ],
   "source": [
    "# insert\n",
    "print(f\"Initial list: {fruits}\")\n",
    "fruits.insert(1,'grapes')\n",
    "print(f\"After insert(1,'apple'): {fruits}\")"
   ]
  },
  {
   "cell_type": "markdown",
   "id": "5f9d494a-b770-4408-a5c4-b4faecd05827",
   "metadata": {
    "panel-layout": {
     "height": 43.19791793823242,
     "visible": true,
     "width": 100
    }
   },
   "source": [
    "#### **`remove(value)`:** Removes the **first occurrence** of a specified `value`. Raises a `ValueError` if the value is not found."
   ]
  },
  {
   "cell_type": "code",
   "execution_count": 6,
   "id": "e5f1a157-4cb8-4a3c-bcfd-4eb816905eab",
   "metadata": {
    "panel-layout": {
     "height": 0,
     "visible": true,
     "width": 100
    }
   },
   "outputs": [
    {
     "name": "stdout",
     "output_type": "stream",
     "text": [
      "Initial list: ['apple', 'grapes', 'banana', 'cherry', 'date', 'elderberry', 'fig']\n",
      "After remove('banana'): ['apple', 'grapes', 'cherry', 'date', 'elderberry', 'fig']\n"
     ]
    }
   ],
   "source": [
    "# remove()\n",
    "print(f\"Initial list: {fruits}\")\n",
    "fruits.remove(\"banana\")\n",
    "print(f\"After remove('banana'): {fruits}\")"
   ]
  },
  {
   "cell_type": "markdown",
   "id": "a0649995-898d-420c-8421-f489461e935c",
   "metadata": {
    "panel-layout": {
     "height": 43.19791793823242,
     "visible": true,
     "width": 100
    }
   },
   "source": [
    "#### **`clear()`:** Removes all items from the list, making it empty."
   ]
  },
  {
   "cell_type": "code",
   "execution_count": 7,
   "id": "424da653-c839-46f4-b230-913352054689",
   "metadata": {
    "panel-layout": {
     "height": 0,
     "visible": true,
     "width": 100
    }
   },
   "outputs": [
    {
     "name": "stdout",
     "output_type": "stream",
     "text": [
      "Initial list: ['apple', 'grapes', 'cherry', 'date', 'elderberry', 'fig']\n",
      "After clear(): []\n"
     ]
    }
   ],
   "source": [
    "print(f\"Initial list: {fruits}\")\n",
    "fruits.clear()\n",
    "print(f'After clear(): {fruits}')"
   ]
  },
  {
   "cell_type": "markdown",
   "id": "e871b991-7ce3-4857-95e2-93c7987a8d75",
   "metadata": {
    "panel-layout": {
     "height": 43.19791793823242,
     "visible": true,
     "width": 100
    }
   },
   "source": [
    "#### **`pop([index])`:** Removes the item at the given `index` and **returns it**. If no index is specified, it removes and returns the last item."
   ]
  },
  {
   "cell_type": "code",
   "execution_count": 8,
   "id": "7ce2b1c3-2211-4c17-82d4-562720e890f6",
   "metadata": {
    "panel-layout": {
     "height": 0,
     "visible": true,
     "width": 100
    }
   },
   "outputs": [
    {
     "name": "stdout",
     "output_type": "stream",
     "text": [
      "Initial list: ['apple', 'banana', 'cherry']\n",
      "Popped last: cherry, Popped first: apple, List: ['banana']\n"
     ]
    }
   ],
   "source": [
    "# pop()\n",
    "fruits = [\"apple\", \"banana\", \"cherry\"]\n",
    "print(f\"Initial list: {fruits}\")\n",
    "last_fruit = fruits.pop() \n",
    "first_fruit = fruits.pop(0) \n",
    "print(f\"Popped last: {last_fruit}, Popped first: {first_fruit}, List: {fruits}\")"
   ]
  },
  {
   "cell_type": "markdown",
   "id": "f13e8349-20bf-4d57-a137-3a331d64d27d",
   "metadata": {
    "panel-layout": {
     "height": 43.19791793823242,
     "visible": true,
     "width": 100
    }
   },
   "source": [
    "#### **`index(value)`:** Returns the index of the first occurrence of a `value`. Raises a `ValueError` if the value is not found."
   ]
  },
  {
   "cell_type": "code",
   "execution_count": 9,
   "id": "5999585d-319c-480a-8b5d-95c46c707da3",
   "metadata": {
    "panel-layout": {
     "height": 0,
     "visible": true,
     "width": 100
    }
   },
   "outputs": [
    {
     "name": "stdout",
     "output_type": "stream",
     "text": [
      "Index of first '5': 1\n"
     ]
    }
   ],
   "source": [
    "# index() and count()\n",
    "numbers = [1, 5, 8, 5, 2, 5, 7, 7]\n",
    "print(f\"Index of first '5': {numbers.index(5)}\") "
   ]
  },
  {
   "cell_type": "markdown",
   "id": "466d09e8-13e7-40e7-8877-e069df2282a6",
   "metadata": {
    "panel-layout": {
     "height": 43.19791793823242,
     "visible": true,
     "width": 100
    }
   },
   "source": [
    "#### **`count(value)`:** Returns the number of times a `value` appears in the list."
   ]
  },
  {
   "cell_type": "code",
   "execution_count": 10,
   "id": "41a0ecd8-0a9c-4838-b504-7597ab2410fb",
   "metadata": {
    "panel-layout": {
     "height": 0,
     "visible": true,
     "width": 100
    }
   },
   "outputs": [
    {
     "name": "stdout",
     "output_type": "stream",
     "text": [
      "Count of '5': 3\n"
     ]
    }
   ],
   "source": [
    "print(f\"Count of '5': {numbers.count(5)}\")"
   ]
  },
  {
   "cell_type": "markdown",
   "id": "1fcf266d-8bd1-4a7f-b4cf-5a10d6fdfce1",
   "metadata": {
    "panel-layout": {
     "height": 43.19791793823242,
     "visible": true,
     "width": 100
    }
   },
   "source": [
    "#### **`sort()`:** Sorts the list's items **in-place** in ascending order. You can use `reverse=True` for descending order."
   ]
  },
  {
   "cell_type": "code",
   "execution_count": 11,
   "id": "bfb4f2f8-a9ce-43d7-9cb5-c8bffc85e616",
   "metadata": {
    "panel-layout": {
     "height": 0,
     "visible": true,
     "width": 100
    }
   },
   "outputs": [
    {
     "name": "stdout",
     "output_type": "stream",
     "text": [
      "Initial list of numbers: [1, 5, 8, 5, 2, 5, 7, 7]\n",
      "After sort(): [1, 2, 5, 5, 5, 7, 7, 8]\n"
     ]
    }
   ],
   "source": [
    "# sort()\n",
    "numbers = [1, 5, 8, 5, 2, 5, 7, 7]\n",
    "print(f\"Initial list of numbers: {numbers}\")\n",
    "numbers.sort()\n",
    "print(f\"After sort(): {numbers}\") "
   ]
  },
  {
   "cell_type": "markdown",
   "id": "dab2a24d-19fe-4af6-8986-0c612312c8ef",
   "metadata": {
    "panel-layout": {
     "height": 43.19791793823242,
     "visible": true,
     "width": 100
    }
   },
   "source": [
    "#### **`reverse()`:** Reverses the order of the list's items **in-place**."
   ]
  },
  {
   "cell_type": "code",
   "execution_count": 12,
   "id": "0a323ef9-58a5-4851-a033-346ce1a85455",
   "metadata": {
    "panel-layout": {
     "height": 0,
     "visible": true,
     "width": 100
    }
   },
   "outputs": [
    {
     "name": "stdout",
     "output_type": "stream",
     "text": [
      "Inicial list of numbers: [1, 5, 8, 5, 2, 5, 7, 7]\n",
      "After reverse(): [7, 7, 5, 2, 5, 8, 5, 1]\n"
     ]
    }
   ],
   "source": [
    "# reverse()\n",
    "numbers = [1, 5, 8, 5, 2, 5, 7, 7]\n",
    "print(f\"Inicial list of numbers: {numbers}\")\n",
    "numbers.reverse()\n",
    "print(f\"After reverse(): {numbers}\") "
   ]
  },
  {
   "cell_type": "markdown",
   "id": "74d14d10-bfed-4fe1-8f57-c7c98cfe1c6d",
   "metadata": {
    "panel-layout": {
     "height": 43.19791793823242,
     "visible": true,
     "width": 100
    }
   },
   "source": [
    "#### **`copy()`:** Returns a **shallow copy** of the list. This is important to avoid modifying the original list unintentionally."
   ]
  },
  {
   "cell_type": "code",
   "execution_count": 13,
   "id": "029af111-9470-49c8-9a64-5401366fc6fb",
   "metadata": {
    "panel-layout": {
     "height": 0,
     "visible": true,
     "width": 100
    }
   },
   "outputs": [
    {
     "name": "stdout",
     "output_type": "stream",
     "text": [
      "Original after modifying copy: [[99, 2], 3, 4]\n",
      "Copied list: [[99, 2], 3, 4]\n"
     ]
    }
   ],
   "source": [
    "# copy()\n",
    "# A shallow copy creates a new list, but references to nested objects are shared.\n",
    "original = [[1, 2], 3, 4]\n",
    "copied = original.copy()\n",
    "copied[0][0] = 99 # This will change the original list too, as the inner list is shared!\n",
    "print(f\"Original after modifying copy: {original}\") \n",
    "print(f\"Copied list: {copied}\") "
   ]
  },
  {
   "cell_type": "markdown",
   "id": "293f66e4-93e9-42ff-a622-4203ae6f364c",
   "metadata": {
    "panel-layout": {
     "height": 122.57292175292969,
     "visible": true,
     "width": 100
    }
   },
   "source": [
    "#### Using the `del` statement\n",
    "\n",
    "The `del` keyword is a **statement**, not a list method (which is why it's not called like `del()`). It is a general-purpose statement in Python used to delete objects, including items from a list at a specified index or a slice.\n",
    "\n",
    "  * **Syntax:** `del list[index]` or `del list[start:end]`\n",
    "  * **Behavior:** It removes the item(s) from the list at the specified position(s) and does **not** return the removed item(s)."
   ]
  },
  {
   "cell_type": "code",
   "execution_count": 14,
   "id": "f4a584fb-84e0-41b0-9099-7dcc3f3cfccc",
   "metadata": {
    "panel-layout": {
     "height": 0,
     "visible": true,
     "width": 100
    }
   },
   "outputs": [
    {
     "name": "stdout",
     "output_type": "stream",
     "text": [
      "Using 'del' statement:\n",
      "Original list: ['red', 'green', 'blue', 'yellow']\n",
      "After 'del colors[1]': ['red', 'blue', 'yellow']\n",
      "After 'del colors[1:3]': ['red']\n"
     ]
    }
   ],
   "source": [
    "# del statement (removes by index)\n",
    "print(f\"Using 'del' statement:\")\n",
    "colors = ['red', 'green', 'blue', 'yellow']\n",
    "print(f\"Original list: {colors}\")\n",
    "del colors[1]\n",
    "print(f\"After 'del colors[1]': {colors}\") \n",
    "del colors[1:3]\n",
    "print(f\"After 'del colors[1:3]': {colors}\") "
   ]
  },
  {
   "cell_type": "markdown",
   "id": "052c3fc4-e07f-469e-a191-dd4bea055d10",
   "metadata": {
    "panel-layout": {
     "height": 124.46875,
     "visible": true,
     "width": 100
    }
   },
   "source": [
    "### Using Lists as Stacks\n",
    "\n",
    "A **Stack** is a data structure that follows the **LIFO (Last-In, First-Out)** principle. The last item added is the first one to be removed. You can easily implement a stack using a list.\n",
    "\n",
    "  * **Pushing an item:** Use `append()` to add an item to the top of the stack.\n",
    "  * **Popping an item:** Use `pop()` to remove and return the item from the top of the stack."
   ]
  },
  {
   "cell_type": "code",
   "execution_count": 15,
   "id": "85cc2238-3954-47b0-8d11-ebb9492e05a9",
   "metadata": {
    "panel-layout": {
     "height": 0,
     "visible": true,
     "width": 100
    }
   },
   "outputs": [
    {
     "name": "stdout",
     "output_type": "stream",
     "text": [
      "Initial stack: ['Task 1: Prepare slides', 'Task 2: Write code', 'Task 3: Review documentation']\n"
     ]
    }
   ],
   "source": [
    "# Create a stack of tasks\n",
    "task_stack = []\n",
    "\n",
    "# Push items onto the stack (append)\n",
    "task_stack.append(\"Task 1: Prepare slides\")\n",
    "task_stack.append(\"Task 2: Write code\")\n",
    "task_stack.append(\"Task 3: Review documentation\")\n",
    "\n",
    "print(f\"Initial stack: {task_stack}\")"
   ]
  },
  {
   "cell_type": "code",
   "execution_count": 16,
   "id": "992dc881-f1b3-4424-a8c2-3b454abff65d",
   "metadata": {
    "panel-layout": {
     "height": 0,
     "visible": true,
     "width": 100
    }
   },
   "outputs": [
    {
     "name": "stdout",
     "output_type": "stream",
     "text": [
      "Popped task: 'Task 3: Review documentation'\n",
      "Popped task: 'Task 2: Write code'\n",
      "Stack after popping: ['Task 1: Prepare slides']\n"
     ]
    }
   ],
   "source": [
    "# Pop items from the stack (the last one added is removed first)\n",
    "last_task = task_stack.pop()\n",
    "print(f\"Popped task: '{last_task}'\") \n",
    "current_task = task_stack.pop()\n",
    "print(f\"Popped task: '{current_task}'\")\n",
    "\n",
    "print(f\"Stack after popping: {task_stack}\") "
   ]
  },
  {
   "cell_type": "markdown",
   "id": "0073bbc6-5122-4884-8d75-2edd6a6ce943",
   "metadata": {
    "panel-layout": {
     "height": 182.73959350585938,
     "visible": true,
     "width": 100
    }
   },
   "source": [
    "### Using Lists as Queues\n",
    "\n",
    "A **Queue** is a data structure that follows the **FIFO (First-In, First-Out)** principle. The first item added is the first one to be removed.\n",
    "\n",
    "  * **Enqueuing (adding):** Use `append()` to add an item to the end of the queue.\n",
    "  * **Dequeuing (removing):** Use `pop(0)` to remove and return the item from the beginning of the queue.\n",
    "\n",
    "**Important Performance Note:** For large lists, `pop(0)` is **very inefficient**. Removing the first element requires shifting all other elements one position to the left, which can be a slow operation (O(n) time complexity).\n",
    "\n",
    "**Recommendation:** For a true and efficient queue, use `collections.deque`. It's a double-ended queue designed for fast appends and pops from both ends.\n"
   ]
  },
  {
   "cell_type": "code",
   "execution_count": 17,
   "id": "80849c3b-ab70-4ae7-88d5-0c425bf28dab",
   "metadata": {
    "panel-layout": {
     "height": 0,
     "visible": true,
     "width": 100
    }
   },
   "outputs": [
    {
     "name": "stdout",
     "output_type": "stream",
     "text": [
      "Initial queue: deque(['Customer A', 'Customer B', 'Customer C'])\n",
      "After adding 'Customer D': deque(['Customer A', 'Customer B', 'Customer C', 'Customer D'])\n",
      "Serving customer: 'Customer A'\n",
      "Queue after serving: deque(['Customer B', 'Customer C', 'Customer D'])\n"
     ]
    }
   ],
   "source": [
    "from collections import deque\n",
    "\n",
    "# Using deque for an efficient queue\n",
    "customer_queue = deque([\"Customer A\", \"Customer B\", \"Customer C\"])\n",
    "\n",
    "print(f\"Initial queue: {customer_queue}\")\n",
    "\n",
    "# Enqueue an item (append to the right)\n",
    "customer_queue.append(\"Customer D\")\n",
    "print(f\"After adding 'Customer D': {customer_queue}\")\n",
    "\n",
    "# Dequeue an item (pop from the left)\n",
    "next_customer = customer_queue.popleft()\n",
    "print(f\"Serving customer: '{next_customer}'\")\n",
    "\n",
    "print(f\"Queue after serving: {customer_queue}\")"
   ]
  },
  {
   "cell_type": "markdown",
   "id": "d2e34ff9-a555-4819-8ecd-fc32e5184c02",
   "metadata": {
    "panel-layout": {
     "height": 107.33333587646484,
     "visible": true,
     "width": 100
    }
   },
   "source": [
    "### List Comprehensions\n",
    "\n",
    "List comprehensions provide a concise and elegant way to create lists. They are a more readable and often faster alternative to using `for` loops with `append()`.\n",
    "\n",
    "  * **Syntax:** `[expression for item in iterable if condition]`"
   ]
  },
  {
   "cell_type": "code",
   "execution_count": 18,
   "id": "bc824883-c90b-41a9-a67e-1a3f9691de3d",
   "metadata": {
    "panel-layout": {
     "height": 0,
     "visible": true,
     "width": 100
    }
   },
   "outputs": [
    {
     "name": "stdout",
     "output_type": "stream",
     "text": [
      "Squares (old way): [1, 4, 9, 16, 25]\n",
      "Squares (new way): [1, 4, 9, 16, 25]\n",
      "Even numbers squared: [4, 16, 36, 64, 100]\n"
     ]
    }
   ],
   "source": [
    "# Old way: Using a for loop\n",
    "squares_old = []\n",
    "for i in range(1, 6):\n",
    "    squares_old.append(i**2)\n",
    "print(f\"Squares (old way): {squares_old}\")\n",
    "\n",
    "# New way: Using a list comprehension\n",
    "squares_new = [i**2 for i in range(1, 6)]\n",
    "print(f\"Squares (new way): {squares_new}\")\n",
    "\n",
    "# List comprehension with a conditional (filtering)\n",
    "even_squares = [i**2 for i in range(1, 11) if i % 2 == 0]\n",
    "print(f\"Even numbers squared: {even_squares}\") "
   ]
  },
  {
   "cell_type": "markdown",
   "id": "45312094-bc59-403a-9cfc-5871e3ef0085",
   "metadata": {
    "panel-layout": {
     "height": 78.19792175292969,
     "visible": true,
     "width": 100
    }
   },
   "source": [
    "### Nested List Comprehensions\n",
    "\n",
    "You can also use list comprehensions to create nested lists, often replacing nested loops. This is useful for creating matrices or grids."
   ]
  },
  {
   "cell_type": "code",
   "execution_count": 19,
   "id": "a00733f1-13ee-488d-b010-08031866796f",
   "metadata": {
    "panel-layout": {
     "height": 0,
     "visible": true,
     "width": 100
    }
   },
   "outputs": [
    {
     "name": "stdout",
     "output_type": "stream",
     "text": [
      "3x3 matrix: [[0, 1, 2], [0, 1, 2], [0, 1, 2]]\n",
      "Flattened list: [1, 2, 3, 4, 5, 6, 7, 8, 9]\n"
     ]
    }
   ],
   "source": [
    "# Create a 3x3 matrix (list of lists)\n",
    "matrix = [[j for j in range(3)] for i in range(3)]\n",
    "print(f\"3x3 matrix: {matrix}\")\n",
    "\n",
    "# Flatten a nested list into a single list\n",
    "nested_list = [[1, 2, 3], [4, 5, 6], [7, 8, 9]]\n",
    "flattened_list = [num for sublist in nested_list for num in sublist]\n",
    "print(f\"Flattened list: {flattened_list}\") "
   ]
  },
  {
   "cell_type": "markdown",
   "id": "c9b1510e-2cdf-4f43-9b6c-ada124a58aec",
   "metadata": {
    "panel-layout": {
     "height": 338.0208435058594,
     "visible": true,
     "width": 100
    }
   },
   "source": [
    "## Tuples\n",
    "\n",
    "A `tuple` is an ordered, immutable collection of items. Tuples are defined by enclosing comma-separated values within parentheses `()`\n",
    "\n",
    "  * **Definition/Purpose:** Often used for fixed collections of items where the content is not expected to change, such as coordinates, database records, or function arguments.\n",
    "\n",
    "  * **Key Characteristics:**\n",
    "\n",
    "      * **Ordered:** Items have a defined order, similar to lists.\n",
    "      * **Immutable:** This is its key feature. Once a tuple is created, you **cannot** change its elements, add new ones, or remove existing ones.\n",
    "      * **Allows Duplicates:** Can hold multiple items with the same value.\n",
    "      * **Indexed:** Items can be accessed using an integer index.\n",
    "      * **Slicing:** Supports slicing to extract sub-sequences.\n",
    "      * **Heterogeneous:** Can contain items of different data types.\n",
    "      * **Fixed Size:** Its size is determined at creation and cannot change.\n",
    "\n",
    "  * **Syntax:**\n",
    "    `(item1, item2, item3, ...)`\n",
    "    For a single-item tuple, you must include a trailing comma: `(item,)`"
   ]
  },
  {
   "cell_type": "code",
   "execution_count": 20,
   "id": "e03eaf1e-3526-420a-b217-59349eecfa5f",
   "metadata": {
    "panel-layout": {
     "height": 0,
     "visible": true,
     "width": 100
    }
   },
   "outputs": [
    {
     "name": "stdout",
     "output_type": "stream",
     "text": [
      "Empty tuple: ()\n",
      "My tuple: ('red', 'green', 'blue', 123, 1, 'green')\n",
      "Single item tuple: (42,)\n",
      "Another tuple: ('apple', 'banana')\n"
     ]
    }
   ],
   "source": [
    "# Creating a tuple\n",
    "empty_tuple = ()\n",
    "my_tuple = (\"red\", \"green\", \"blue\", 123,1, \"green\")\n",
    "single_item_tuple = (42,) # Note the comma for single item tuple\n",
    "another_tuple = \"apple\", \"banana\" # Parentheses are often optional during creation\n",
    "\n",
    "print(f\"Empty tuple: {empty_tuple}\")\n",
    "print(f\"My tuple: {my_tuple}\")\n",
    "print(f\"Single item tuple: {single_item_tuple}\")\n",
    "print(f\"Another tuple: {another_tuple}\")"
   ]
  },
  {
   "cell_type": "code",
   "execution_count": 21,
   "id": "82d5e4df-a865-4a56-aedd-b6e4c407f738",
   "metadata": {
    "panel-layout": {
     "height": 0,
     "visible": true,
     "width": 100
    }
   },
   "outputs": [
    {
     "name": "stdout",
     "output_type": "stream",
     "text": [
      "Accessing Elements:\n",
      "First element (my_tuple[0]): red\n",
      "Last element (my_tuple[-1]): green\n"
     ]
    }
   ],
   "source": [
    "# Accessing elements\n",
    "print(f\"Accessing Elements:\")\n",
    "print(f\"First element (my_tuple[0]): {my_tuple[0]}\")\n",
    "print(f\"Last element (my_tuple[-1]): {my_tuple[-1]}\")"
   ]
  },
  {
   "cell_type": "code",
   "execution_count": 22,
   "id": "e25d82a3-0f82-4e42-992d-317b4f58813c",
   "metadata": {},
   "outputs": [
    {
     "name": "stdout",
     "output_type": "stream",
     "text": [
      "Attempting to Modify:\n",
      "Error! Tuples are immutable: 'tuple' object does not support item assignment\n"
     ]
    }
   ],
   "source": [
    "# --- Attempting to modify (will cause a TypeError!) ---\n",
    "print(f\"Attempting to Modify:\")\n",
    "try:\n",
    "    my_tuple[0] = \"yellow\"\n",
    "except TypeError as e:\n",
    "    print(f\"Error! Tuples are immutable: {e}\")"
   ]
  },
  {
   "cell_type": "code",
   "execution_count": 23,
   "id": "cd59ab48-bc00-4b56-af12-25e460628c45",
   "metadata": {
    "panel-layout": {
     "height": 0,
     "visible": true,
     "width": 100
    }
   },
   "outputs": [
    {
     "name": "stdout",
     "output_type": "stream",
     "text": [
      "Slicing Tuples:\n",
      "Sliced tuple (my_tuple[1:3]): ('green', 'blue')\n"
     ]
    }
   ],
   "source": [
    "# Slicing tuples (returns a new tuple)\n",
    "print(f\"Slicing Tuples:\")\n",
    "print(f\"Sliced tuple (my_tuple[1:3]): {my_tuple[1:3]}\") "
   ]
  },
  {
   "cell_type": "code",
   "execution_count": 24,
   "id": "f1b72d86-0e34-45f6-b81b-209a79f33c26",
   "metadata": {
    "panel-layout": {
     "height": 0,
     "visible": true,
     "width": 100
    }
   },
   "outputs": [
    {
     "name": "stdout",
     "output_type": "stream",
     "text": [
      "Tuple Packing and Unpacking:\n",
      "Coordinates: x=10, y=20\n"
     ]
    }
   ],
   "source": [
    "# Tuple packing and unpacking\n",
    "print(f\"Tuple Packing and Unpacking:\")\n",
    "coordinates = (10, 20) # Packing\n",
    "x, y = coordinates     # Unpacking\n",
    "print(f\"Coordinates: x={x}, y={y}\")"
   ]
  },
  {
   "cell_type": "code",
   "execution_count": 25,
   "id": "4808ce46-2a01-4bc5-a611-c45392d2209e",
   "metadata": {
    "panel-layout": {
     "height": 0,
     "visible": true,
     "width": 100
    }
   },
   "outputs": [
    {
     "name": "stdout",
     "output_type": "stream",
     "text": [
      "Min: 1, Max: 20\n"
     ]
    }
   ],
   "source": [
    "# Functions returning multiple values often return them as a tuple\n",
    "def get_min_max(numbers):\n",
    "    return min(numbers), max(numbers)\n",
    "\n",
    "min_val, max_val = get_min_max([10, 5, 20, 1])\n",
    "print(f\"Min: {min_val}, Max: {max_val}\")"
   ]
  },
  {
   "cell_type": "markdown",
   "id": "c60aa79f-fc35-401a-8676-4f4de0333426",
   "metadata": {
    "panel-layout": {
     "height": 44.07291793823242,
     "visible": true,
     "width": 100
    }
   },
   "source": [
    "### Common Tuples Methods"
   ]
  },
  {
   "cell_type": "code",
   "execution_count": 26,
   "id": "55b1e76a-1439-4c18-8523-0cbe2b450880",
   "metadata": {
    "panel-layout": {
     "height": 648.9375,
     "visible": true,
     "width": 100
    }
   },
   "outputs": [
    {
     "data": {
      "text/plain": [
       "['__add__',\n",
       " '__class__',\n",
       " '__class_getitem__',\n",
       " '__contains__',\n",
       " '__delattr__',\n",
       " '__dir__',\n",
       " '__doc__',\n",
       " '__eq__',\n",
       " '__format__',\n",
       " '__ge__',\n",
       " '__getattribute__',\n",
       " '__getitem__',\n",
       " '__getnewargs__',\n",
       " '__getstate__',\n",
       " '__gt__',\n",
       " '__hash__',\n",
       " '__init__',\n",
       " '__init_subclass__',\n",
       " '__iter__',\n",
       " '__le__',\n",
       " '__len__',\n",
       " '__lt__',\n",
       " '__mul__',\n",
       " '__ne__',\n",
       " '__new__',\n",
       " '__reduce__',\n",
       " '__reduce_ex__',\n",
       " '__repr__',\n",
       " '__rmul__',\n",
       " '__setattr__',\n",
       " '__sizeof__',\n",
       " '__str__',\n",
       " '__subclasshook__',\n",
       " 'count',\n",
       " 'index']"
      ]
     },
     "execution_count": 26,
     "metadata": {},
     "output_type": "execute_result"
    }
   ],
   "source": [
    "dir(tuple)"
   ]
  },
  {
   "cell_type": "markdown",
   "id": "4e021b61-60fa-46bb-8dfa-252843ed9222",
   "metadata": {
    "panel-layout": {
     "height": 43.19791793823242,
     "visible": true,
     "width": 100
    }
   },
   "source": [
    "#### **`index(value)`:** Returns the index of the first occurrence of a `value`. Raises a `ValueError` if the value is not found."
   ]
  },
  {
   "cell_type": "code",
   "execution_count": 27,
   "id": "0d095190-0e75-42c4-986b-d92c0466031b",
   "metadata": {
    "panel-layout": {
     "height": 0,
     "visible": true,
     "width": 100
    }
   },
   "outputs": [
    {
     "name": "stdout",
     "output_type": "stream",
     "text": [
      "Index of green value in tuple is: 1\n"
     ]
    }
   ],
   "source": [
    "my_tuple.index(\"green\")\n",
    "print(f'Index of green value in tuple is: {my_tuple.index(\"green\")}') "
   ]
  },
  {
   "cell_type": "markdown",
   "id": "50bc86e0-bd89-43dc-a47e-54c3b7f1aaf0",
   "metadata": {
    "panel-layout": {
     "height": 43.19791793823242,
     "visible": true,
     "width": 100
    }
   },
   "source": [
    "#### **`count(value)`:** Returns the number of times a `value` appears in the list."
   ]
  },
  {
   "cell_type": "code",
   "execution_count": 28,
   "id": "045dcf9e-9a81-4b20-a4de-307f35200fc6",
   "metadata": {
    "panel-layout": {
     "height": 0,
     "visible": true,
     "width": 100
    }
   },
   "outputs": [
    {
     "name": "stdout",
     "output_type": "stream",
     "text": [
      "Count of green value in tuple is: 1\n"
     ]
    }
   ],
   "source": [
    "my_tuple.count(\"green\")\n",
    "print(f'Count of green value in tuple is: {my_tuple.index(\"green\")}') "
   ]
  },
  {
   "cell_type": "markdown",
   "id": "c8098103-b0ac-4437-bb69-6d69fd2638f2",
   "metadata": {
    "panel-layout": {
     "height": 320.88543701171875,
     "visible": true,
     "width": 100
    }
   },
   "source": [
    "## Sets\n",
    "\n",
    "A `set` is an unordered collection of **unique** items. Sets can be created using curly braces `{}` or the `set()` constructor.\n",
    "\n",
    "\n",
    "  * **Definition/Purpose:** Primarily used for membership testing, removing duplicates from a sequence, and mathematical set operations (union, intersection, difference).\n",
    "\n",
    "  * **Key Characteristics:**\n",
    "\n",
    "      * **Unordered:** Items do not have a defined order and cannot be accessed by index or key. The order of elements when printed might vary.\n",
    "      * **Mutable:** You can add or remove items from a set, but you cannot change individual elements in place (as elements are not indexed).\n",
    "      * **No Duplicates:** Automatically removes duplicate elements. If you add an existing element, the set remains unchanged.\n",
    "      * **Unindexed:** Does not support indexing or slicing.\n",
    "      * **Elements Must Be Hashable:** Elements must be immutable and hashable (like numbers, strings, tuples containing only immutable types). Lists or dictionaries cannot be direct elements of a set.\n",
    "      * **Heterogeneous:** Can contain items of different data types within the same list (integers, strings, floats, booleans, other lists, tuples, dictionaries, etc.).\n",
    "      * **Dynamic Size:** Can grow or shrink.\n",
    "\n",
    "  * **Syntax:**\n",
    "    `{item1, item2, ...}` (use `set()` to create an empty set, as `{}` creates an empty dictionary)."
   ]
  },
  {
   "cell_type": "code",
   "execution_count": 29,
   "id": "494432c9-dc68-409b-8ae9-3554ff3df323",
   "metadata": {
    "panel-layout": {
     "height": 0,
     "visible": true,
     "width": 100
    }
   },
   "outputs": [
    {
     "name": "stdout",
     "output_type": "stream",
     "text": [
      "Set with duplicates removed: {'cherry', 'apple', 'banana'}\n"
     ]
    }
   ],
   "source": [
    "# Creating a set with duplicate values\n",
    "my_set = {\"apple\", \"banana\", \"cherry\", \"apple\", \"banana\"}\n",
    "print(f\"Set with duplicates removed: {my_set}\")"
   ]
  },
  {
   "cell_type": "code",
   "execution_count": 30,
   "id": "9e853c2e-a918-483c-b7e9-03130e97ce17",
   "metadata": {
    "panel-layout": {
     "height": 0,
     "visible": true,
     "width": 100
    }
   },
   "outputs": [
    {
     "name": "stdout",
     "output_type": "stream",
     "text": [
      "Empty set: set()\n"
     ]
    }
   ],
   "source": [
    "# Creating an empty set\n",
    "empty_set = set()\n",
    "print(f\"Empty set: {empty_set}\")"
   ]
  },
  {
   "cell_type": "code",
   "execution_count": 31,
   "id": "6cdc802c-389a-40b6-9b7e-94094c7b5417",
   "metadata": {
    "panel-layout": {
     "height": 134.875,
     "visible": true,
     "width": 100
    }
   },
   "outputs": [
    {
     "data": {
      "text/plain": [
       "['banana', 'apple', 'cherry', 'banana', 'cherry']"
      ]
     },
     "execution_count": 31,
     "metadata": {},
     "output_type": "execute_result"
    }
   ],
   "source": [
    "# we can use set() to create an set from others data scturecures\n",
    "fruits_list = ['banana', 'apple', 'cherry','banana', 'cherry'] \n",
    "fruits_list"
   ]
  },
  {
   "cell_type": "code",
   "execution_count": 32,
   "id": "84216b5a-7d28-4cae-b54b-8628a5585290",
   "metadata": {
    "panel-layout": {
     "height": 27.135417938232422,
     "visible": true,
     "width": 100
    }
   },
   "outputs": [
    {
     "data": {
      "text/plain": [
       "{'apple', 'banana', 'cherry'}"
      ]
     },
     "execution_count": 32,
     "metadata": {},
     "output_type": "execute_result"
    }
   ],
   "source": [
    "fruits_set = set(fruits_list)\n",
    "fruits_set"
   ]
  },
  {
   "cell_type": "code",
   "execution_count": 33,
   "id": "9861f345-8639-4c1c-a4b5-97f03f6bd434",
   "metadata": {
    "panel-layout": {
     "height": 27.135417938232422,
     "visible": true,
     "width": 100
    }
   },
   "outputs": [
    {
     "data": {
      "text/plain": [
       "3"
      ]
     },
     "execution_count": 33,
     "metadata": {},
     "output_type": "execute_result"
    }
   ],
   "source": [
    "# we can use len\n",
    "len(my_set)"
   ]
  },
  {
   "cell_type": "code",
   "execution_count": 34,
   "id": "233d0090-6e78-46cd-8ef2-72d2a3a6ac1e",
   "metadata": {
    "panel-layout": {
     "height": 27.135417938232422,
     "visible": true,
     "width": 100
    }
   },
   "outputs": [
    {
     "data": {
      "text/plain": [
       "False"
      ]
     },
     "execution_count": 34,
     "metadata": {},
     "output_type": "execute_result"
    }
   ],
   "source": [
    "# since set its not index, we need to use if to check if an element is present\n",
    "# (very fast!)\n",
    "'orange' in my_set"
   ]
  },
  {
   "cell_type": "code",
   "execution_count": 35,
   "id": "e5b4e8c1-08bf-42b9-be4b-ce752c23dafd",
   "metadata": {},
   "outputs": [
    {
     "name": "stdout",
     "output_type": "stream",
     "text": [
      "CHERRY\n",
      "APPLE\n",
      "BANANA\n"
     ]
    }
   ],
   "source": [
    "# we can use for loops to print each element\n",
    "for fruits in my_set:\n",
    "    print(fruits.upper())"
   ]
  },
  {
   "cell_type": "markdown",
   "id": "b464cfea-c4f7-4090-b0d1-4f7d1cc6e0be",
   "metadata": {
    "panel-layout": {
     "height": 44.07291793823242,
     "visible": true,
     "width": 100
    }
   },
   "source": [
    "### Common Set Methods"
   ]
  },
  {
   "cell_type": "code",
   "execution_count": 36,
   "id": "c9939a49-4031-416c-bcc3-e07ae01fb031",
   "metadata": {
    "panel-layout": {
     "height": 1025.916748046875,
     "visible": true,
     "width": 100
    }
   },
   "outputs": [
    {
     "data": {
      "text/plain": [
       "['__and__',\n",
       " '__class__',\n",
       " '__class_getitem__',\n",
       " '__contains__',\n",
       " '__delattr__',\n",
       " '__dir__',\n",
       " '__doc__',\n",
       " '__eq__',\n",
       " '__format__',\n",
       " '__ge__',\n",
       " '__getattribute__',\n",
       " '__getstate__',\n",
       " '__gt__',\n",
       " '__hash__',\n",
       " '__iand__',\n",
       " '__init__',\n",
       " '__init_subclass__',\n",
       " '__ior__',\n",
       " '__isub__',\n",
       " '__iter__',\n",
       " '__ixor__',\n",
       " '__le__',\n",
       " '__len__',\n",
       " '__lt__',\n",
       " '__ne__',\n",
       " '__new__',\n",
       " '__or__',\n",
       " '__rand__',\n",
       " '__reduce__',\n",
       " '__reduce_ex__',\n",
       " '__repr__',\n",
       " '__ror__',\n",
       " '__rsub__',\n",
       " '__rxor__',\n",
       " '__setattr__',\n",
       " '__sizeof__',\n",
       " '__str__',\n",
       " '__sub__',\n",
       " '__subclasshook__',\n",
       " '__xor__',\n",
       " 'add',\n",
       " 'clear',\n",
       " 'copy',\n",
       " 'difference',\n",
       " 'difference_update',\n",
       " 'discard',\n",
       " 'intersection',\n",
       " 'intersection_update',\n",
       " 'isdisjoint',\n",
       " 'issubset',\n",
       " 'issuperset',\n",
       " 'pop',\n",
       " 'remove',\n",
       " 'symmetric_difference',\n",
       " 'symmetric_difference_update',\n",
       " 'union',\n",
       " 'update']"
      ]
     },
     "execution_count": 36,
     "metadata": {},
     "output_type": "execute_result"
    }
   ],
   "source": [
    "dir(set)"
   ]
  },
  {
   "cell_type": "markdown",
   "id": "84d5895f-a335-484c-86ee-5491fb52e31a",
   "metadata": {
    "panel-layout": {
     "height": 43.19791793823242,
     "visible": true,
     "width": 100
    }
   },
   "source": [
    "#### **`add(value)`**: This operation incorporates a single, new element into the set. If the element is already present, the set remains unchanged."
   ]
  },
  {
   "cell_type": "code",
   "execution_count": 37,
   "id": "282e07fd-8dfb-46c5-8944-c98380d0f9cb",
   "metadata": {
    "panel-layout": {
     "height": 0,
     "visible": true,
     "width": 100
    }
   },
   "outputs": [
    {
     "name": "stdout",
     "output_type": "stream",
     "text": [
      "Inicial set {'cherry', 'apple', 'banana'}:\n",
      "Set after adding 'orange' and 'cherry': {'cherry', 'apple', 'orange', 'banana'}\n"
     ]
    }
   ],
   "source": [
    "# Adding elements\n",
    "print(f\"Inicial set {my_set}:\")\n",
    "my_set.add(\"orange\")\n",
    "my_set.add(\"cherry\") # Adding an existing element has no effect\n",
    "print(f\"Set after adding 'orange' and 'cherry': {my_set}\")"
   ]
  },
  {
   "cell_type": "markdown",
   "id": "a4b08d28-35d2-4f60-8a9a-a77b092cbb28",
   "metadata": {
    "panel-layout": {
     "height": 43.19791793823242,
     "visible": true,
     "width": 100
    }
   },
   "source": [
    "#### **`remove(value)`**: This operation removes a specified element from the set. If the element is not found in the set, it raises a `KeyError`."
   ]
  },
  {
   "cell_type": "code",
   "execution_count": 38,
   "id": "3f6f319d-4e3d-403c-b140-c74da82630f5",
   "metadata": {
    "panel-layout": {
     "height": 0,
     "visible": true,
     "width": 100
    }
   },
   "outputs": [
    {
     "name": "stdout",
     "output_type": "stream",
     "text": [
      "Inicial set {'cherry', 'apple', 'orange', 'banana'}:\n",
      "Set after removing 'banana': {'cherry', 'apple', 'orange'}\n"
     ]
    }
   ],
   "source": [
    "# Removing elements\n",
    "print(f\"Inicial set {my_set}:\")\n",
    "my_set.remove(\"banana\") # Removes a specific element\n",
    "print(f\"Set after removing 'banana': {my_set}\")"
   ]
  },
  {
   "cell_type": "code",
   "execution_count": 39,
   "id": "fd2d2243-ed58-4170-817a-47f82ad7387b",
   "metadata": {},
   "outputs": [
    {
     "name": "stdout",
     "output_type": "stream",
     "text": [
      "Inicial set {'cherry', 'apple', 'orange'}:\n",
      "Error! Element not found in the set: 'grape'\n"
     ]
    }
   ],
   "source": [
    "print(f\"Inicial set {my_set}:\")\n",
    "try:\n",
    "    my_set.remove(\"grape\")\n",
    "except KeyError as e:\n",
    "    print(f\"Error! Element not found in the set: {e}\")"
   ]
  },
  {
   "cell_type": "markdown",
   "id": "f8659431-ffdc-4347-9ea4-e85e78777a7f",
   "metadata": {
    "panel-layout": {
     "height": 43.19791793823242,
     "visible": true,
     "width": 100
    }
   },
   "source": [
    "#### **`discard(value)`**: This operation removes a specified element from the set if it is present. Unlike `remove`, it does not raise an error if the element is not found."
   ]
  },
  {
   "cell_type": "code",
   "execution_count": 40,
   "id": "4ae30b7e-a7fe-4971-b664-88b45c8b260c",
   "metadata": {
    "panel-layout": {
     "height": 0,
     "visible": true,
     "width": 100
    }
   },
   "outputs": [
    {
     "name": "stdout",
     "output_type": "stream",
     "text": [
      "Inicial set {'cherry', 'apple', 'banana'}:\n",
      "Set after discarding 'grape': {'cherry', 'apple', 'banana'}\n"
     ]
    }
   ],
   "source": [
    "my_set = {\"apple\", \"banana\", \"cherry\", \"apple\", \"banana\"}\n",
    "print(f\"Inicial set {my_set}:\")\n",
    "my_set.discard(\"grape\") # Removes 'grape' if it exists, but does not raise an error if not found\n",
    "print(f\"Set after discarding 'grape': {my_set}\")"
   ]
  },
  {
   "cell_type": "markdown",
   "id": "cad7d7c3-4092-4b6b-9b4f-8d6676409051",
   "metadata": {
    "panel-layout": {
     "height": 60.333335876464844,
     "visible": true,
     "width": 100
    }
   },
   "source": [
    "#### **`pop()`**: This operation don't requerie argument and removes and returns an arbitrary element from the set. Since sets are unordered, there's no way to predict which element will be removed. An error is raised if the set is empty."
   ]
  },
  {
   "cell_type": "code",
   "execution_count": 41,
   "id": "c6d78df3-3364-4343-9bf6-d066cba12970",
   "metadata": {
    "panel-layout": {
     "height": 0,
     "visible": true,
     "width": 100
    }
   },
   "outputs": [
    {
     "name": "stdout",
     "output_type": "stream",
     "text": [
      "Inicial set {'cherry', 'apple', 'banana'}:\n",
      "Popped item: cherry, Set: {'apple', 'banana'}\n"
     ]
    }
   ],
   "source": [
    "# pop\n",
    "my_set = {\"apple\", \"banana\", \"cherry\", \"apple\", \"banana\"}\n",
    "print(f\"Inicial set {my_set}:\")\n",
    "popped_item = my_set.pop() # Removes and returns an arbitrary element\n",
    "print(f\"Popped item: {popped_item}, Set: {my_set}\")"
   ]
  },
  {
   "cell_type": "markdown",
   "id": "bb4a76ca-b627-4b56-aa53-46cc07ebf886",
   "metadata": {
    "panel-layout": {
     "height": 43.19791793823242,
     "visible": true,
     "width": 100
    }
   },
   "source": [
    "#### **`clear()`**: This operation removes all elements from the set, resulting in an empty set."
   ]
  },
  {
   "cell_type": "code",
   "execution_count": 42,
   "id": "63d7de10-ec94-4873-9193-8852e92f33b6",
   "metadata": {
    "panel-layout": {
     "height": 0,
     "visible": true,
     "width": 100
    }
   },
   "outputs": [
    {
     "name": "stdout",
     "output_type": "stream",
     "text": [
      "Inicial set {'cherry', 'apple', 'banana'}:\n",
      "After clear(): set()\n"
     ]
    }
   ],
   "source": [
    "my_set = {\"apple\", \"banana\", \"cherry\", \"apple\", \"banana\"}\n",
    "print(f\"Inicial set {my_set}:\")\n",
    "popped_item = my_set.clear() # clear\n",
    "print(f\"After clear(): {my_set}\")"
   ]
  },
  {
   "cell_type": "markdown",
   "id": "66c0cac2-4a34-459e-9413-9851a3ee2a34",
   "metadata": {
    "panel-layout": {
     "height": 43.19791793823242,
     "visible": true,
     "width": 100
    }
   },
   "source": [
    "#### **`copy()`**: This operation creates a new set that is an exact duplicate of the original set. Changes made to the new set will not affect the original."
   ]
  },
  {
   "cell_type": "code",
   "execution_count": 43,
   "id": "d96b51fa-7175-43c3-84db-719b663ad5a7",
   "metadata": {
    "panel-layout": {
     "height": 0,
     "visible": true,
     "width": 100
    }
   },
   "outputs": [
    {
     "name": "stdout",
     "output_type": "stream",
     "text": [
      "Inicial set {'cherry', 'apple', 'banana'}:\n",
      "Copied set: {'cherry', 'apple', 'banana'}\n"
     ]
    }
   ],
   "source": [
    "my_set = {\"apple\", \"banana\", \"cherry\", \"apple\", \"banana\"}\n",
    "print(f\"Inicial set {my_set}:\")\n",
    "copied = my_set.copy()\n",
    "print(f\"Copied set: {copied}\") "
   ]
  },
  {
   "cell_type": "markdown",
   "id": "cc531259-0341-465b-b1cc-9d490b382dc7",
   "metadata": {
    "panel-layout": {
     "height": 43.19791793823242,
     "visible": true,
     "width": 100
    }
   },
   "source": [
    "#### **`update()`**: This operation adds all elements from an iterable (like another set, list, or tuple) into the original set. Duplicate elements are ignored"
   ]
  },
  {
   "cell_type": "code",
   "execution_count": 44,
   "id": "e4b09692-aacc-4383-8522-d073eba885e0",
   "metadata": {
    "panel-layout": {
     "height": 0,
     "visible": true,
     "width": 100
    }
   },
   "outputs": [
    {
     "name": "stdout",
     "output_type": "stream",
     "text": [
      "My Items: {'A', 'B'}, New Items: ['B', 'C', 'D'], More Items: {'E', 'D'}\n",
      "After update(new_items, more_items): {'E', 'A', 'D', 'C', 'B'}\n"
     ]
    }
   ],
   "source": [
    "my_items = {\"A\", \"B\"}\n",
    "new_items = [\"B\", \"C\", \"D\"] # Can update from a list\n",
    "more_items = {\"D\", \"E\"}     # Can update from another set\n",
    "\n",
    "print(f\"My Items: {my_items}, New Items: {new_items}, More Items: {more_items}\")\n",
    "\n",
    "my_items.update(new_items, more_items)\n",
    "print(f\"After update(new_items, more_items): {my_items}\") \n"
   ]
  },
  {
   "cell_type": "markdown",
   "id": "8c35d682-8539-45b2-8e65-34f2dc3584b1",
   "metadata": {
    "panel-layout": {
     "height": 43.19791793823242,
     "visible": true,
     "width": 100
    }
   },
   "source": [
    "#### **`union(other_set) or |`**: This operation returns a new set containing all unique elements from both the original set and another specified set(s)."
   ]
  },
  {
   "cell_type": "code",
   "execution_count": 45,
   "id": "dd23689a-0733-4144-b7d2-1018ce5d2d7d",
   "metadata": {
    "panel-layout": {
     "height": 0,
     "visible": true,
     "width": 100
    }
   },
   "outputs": [
    {
     "name": "stdout",
     "output_type": "stream",
     "text": [
      "After |= ('C', 'D'):\n",
      "{'C', 'A', 'D', 'B'}\n"
     ]
    }
   ],
   "source": [
    "# union(other_set) or |\n",
    "my_items = {\"A\", \"B\"}\n",
    "my_items |= {\"C\", \"D\"}\n",
    "print(f\"After |= {'C', 'D'}:\\n{my_items}\")"
   ]
  },
  {
   "cell_type": "code",
   "execution_count": 46,
   "id": "fbf9dac6-f822-4bc3-8c67-4b9598c0ed47",
   "metadata": {
    "panel-layout": {
     "height": 0,
     "visible": true,
     "width": 100
    }
   },
   "outputs": [
    {
     "name": "stdout",
     "output_type": "stream",
     "text": [
      "All Fruits: {'apple', 'banana'}, \n",
      "Tropical Fruits: {'mango', 'banana'}, \n",
      "Berries: {'blueberry', 'strawberry'}\n",
      "Union (all_fruits.union(tropical_fruits)): {'mango', 'apple', 'banana'}\n",
      "Union (all_fruits.union(tropical_fruits, berries)): {'mango', 'blueberry', 'apple', 'strawberry', 'banana'}\n",
      "Union (all_fruits | tropical_fruits): {'mango', 'apple', 'banana'}\n"
     ]
    }
   ],
   "source": [
    "all_fruits = {\"apple\", \"banana\"}\n",
    "tropical_fruits = {\"banana\", \"mango\"}\n",
    "berries = {\"strawberry\", \"blueberry\"}\n",
    "\n",
    "print(f\"All Fruits: {all_fruits}, \\nTropical Fruits: {tropical_fruits}, \\nBerries: {berries}\")\n",
    "\n",
    "combined_fruits = all_fruits.union(tropical_fruits)\n",
    "print(f\"Union (all_fruits.union(tropical_fruits)): {combined_fruits}\") \n",
    "\n",
    "all_three = all_fruits.union(tropical_fruits, berries)\n",
    "print(f\"Union (all_fruits.union(tropical_fruits, berries)): {all_three}\")\n",
    "\n",
    "union_operator = all_fruits | tropical_fruits\n",
    "print(f\"Union (all_fruits | tropical_fruits): {union_operator}\")"
   ]
  },
  {
   "cell_type": "markdown",
   "id": "bdd40eef-4a1f-4f80-b91a-91f08638e187",
   "metadata": {
    "panel-layout": {
     "height": 43.19791793823242,
     "visible": true,
     "width": 100
    }
   },
   "source": [
    "#### **`difference(other_set) or -`**: This operation returns a new set containing all elements that are present in the first set but not in another specified set(s)."
   ]
  },
  {
   "cell_type": "code",
   "execution_count": 47,
   "id": "94525236-1363-414f-b15e-e9b264d793cc",
   "metadata": {
    "panel-layout": {
     "height": 0,
     "visible": true,
     "width": 100
    }
   },
   "outputs": [
    {
     "name": "stdout",
     "output_type": "stream",
     "text": [
      "Set A: {1, 2, 3, 4}, Set B: {3, 4, 5, 6}, Set C: {4, 7}\n",
      "Elements in A but not in B (A.difference(B)): {1, 2}\n",
      "Elements in A but not in B or C (A.difference(B, C)): {1, 2}\n",
      "Elements in A but not in B (A - B): {1, 2}\n"
     ]
    }
   ],
   "source": [
    "# difference\n",
    "set_a = {1, 2, 3, 4}\n",
    "set_b = {3, 4, 5, 6}\n",
    "set_c = {4, 7}\n",
    "print(f\"Set A: {set_a}, Set B: {set_b}, Set C: {set_c}\")\n",
    "\n",
    "diff_ab = set_a.difference(set_b)\n",
    "print(f\"Elements in A but not in B (A.difference(B)): {diff_ab}\") \n",
    "\n",
    "diff_abc = set_a.difference(set_b, set_c)\n",
    "print(f\"Elements in A but not in B or C (A.difference(B, C)): {diff_abc}\") \n",
    "\n",
    "diff_operator = set_a - set_b\n",
    "print(f\"Elements in A but not in B (A - B): {diff_operator}\") "
   ]
  },
  {
   "cell_type": "markdown",
   "id": "cd4da611-a34a-47e9-82e6-2013e4aa27fe",
   "metadata": {
    "panel-layout": {
     "height": 43.19791793823242,
     "visible": true,
     "width": 100
    }
   },
   "source": [
    "#### **`difference_update(other_set) or -=`**: This operation modifies the original set by removing all elements that are also present in another specified set(s). We can use the operador"
   ]
  },
  {
   "cell_type": "code",
   "execution_count": 48,
   "id": "b4d25f86-4cb0-454a-90f0-23d5b06bd6f0",
   "metadata": {
    "panel-layout": {
     "height": 0,
     "visible": true,
     "width": 100
    }
   },
   "outputs": [
    {
     "name": "stdout",
     "output_type": "stream",
     "text": [
      "Remove elements of B on A using A.difference_update(B): {1, 2}\n",
      "Remove elements of set_b from set_a using operator -=: {1, 2}\n"
     ]
    }
   ],
   "source": [
    "# difference_update\n",
    "set_a.difference_update(set_b)\n",
    "print(f\"Remove elements of B on A using A.difference_update(B): {set_a}\") \n",
    "\n",
    "set_a -= set_b\n",
    "print(f\"Remove elements of set_b from set_a using operator -=: {set_a}\") # {1, 2}"
   ]
  },
  {
   "cell_type": "markdown",
   "id": "d1ab955b-7b73-4e52-bf1d-26a0bc8d1440",
   "metadata": {
    "panel-layout": {
     "height": 43.19791793823242,
     "visible": true,
     "width": 100
    }
   },
   "source": [
    "#### **`intersection(other_set) or &`**: This operation returns a new set containing only the elements that are common to both the original set and another specified set(s)."
   ]
  },
  {
   "cell_type": "code",
   "execution_count": 49,
   "id": "85f26571-a70e-451d-97c0-eb9f2c5bcb33",
   "metadata": {
    "panel-layout": {
     "height": 0,
     "visible": true,
     "width": 100
    }
   },
   "outputs": [
    {
     "name": "stdout",
     "output_type": "stream",
     "text": [
      "Set A: {1, 2, 3, 4}, Set B: {3, 4, 5, 6}, Set C: {4, 7}\n",
      "Common elements of A and B (A.intersection(B)): {3, 4}\n",
      "Common elements of A, B, and C (A.intersection(B, C)): {4}\n",
      "Common elements of A and B (A & B): {3, 4}\n"
     ]
    }
   ],
   "source": [
    "# intersection\n",
    "set_a = {1, 2, 3, 4}\n",
    "set_b = {3, 4, 5, 6}\n",
    "set_c = {4, 7}\n",
    "print(f\"Set A: {set_a}, Set B: {set_b}, Set C: {set_c}\")\n",
    "\n",
    "common_ab = set_a.intersection(set_b)\n",
    "print(f\"Common elements of A and B (A.intersection(B)): {common_ab}\") # {3, 4}\n",
    "\n",
    "common_abc = set_a.intersection(set_b, set_c)\n",
    "print(f\"Common elements of A, B, and C (A.intersection(B, C)): {common_abc}\") # {4}\n",
    "\n",
    "common_operator = set_a & set_b\n",
    "print(f\"Common elements of A and B (A & B): {common_operator}\") # {3, 4}\n"
   ]
  },
  {
   "cell_type": "markdown",
   "id": "7ac30a40-91a5-48dd-b1fc-0c84313fc9e1",
   "metadata": {
    "panel-layout": {
     "height": 43.19791793823242,
     "visible": true,
     "width": 100
    }
   },
   "source": [
    "#### **`intersection_update(other_set) or &=`**: This operation modifies the original set to contain only the elements that are common to both the original set and another specified set(s)."
   ]
  },
  {
   "cell_type": "code",
   "execution_count": 50,
   "id": "9deb82f8-80a4-43b1-b9cf-056ddcaa7616",
   "metadata": {
    "panel-layout": {
     "height": 0,
     "visible": true,
     "width": 100
    }
   },
   "outputs": [
    {
     "name": "stdout",
     "output_type": "stream",
     "text": [
      "Update elements of A with common elements of A,B using A.intersection_update(B): {3, 4}\n",
      "Update elements of A with common elements of A,B using operator &=: {3, 4}\n"
     ]
    }
   ],
   "source": [
    "# intersection_update\n",
    "set_a.intersection_update(set_b)\n",
    "print(f\"Update elements of A with common elements of A,B using A.intersection_update(B): {set_a}\") # {4}\n",
    "\n",
    "set_a &= set_b\n",
    "print(f\"Update elements of A with common elements of A,B using operator &=: {set_a}\") # {4}"
   ]
  },
  {
   "cell_type": "markdown",
   "id": "7a92b977-08d5-4398-9982-9ee94afe34f0",
   "metadata": {
    "panel-layout": {
     "height": 43.19791793823242,
     "visible": true,
     "width": 100
    }
   },
   "source": [
    "#### **`isdisjoint(other_set)`**: This operation checks if two sets have no elements in common. It returns `True` if they are disjoint, and `False` otherwise."
   ]
  },
  {
   "cell_type": "code",
   "execution_count": 51,
   "id": "b0fc76ea-a541-4a95-91c7-16e2bf7fe049",
   "metadata": {
    "panel-layout": {
     "height": 0,
     "visible": true,
     "width": 100
    }
   },
   "outputs": [
    {
     "name": "stdout",
     "output_type": "stream",
     "text": [
      "Set Evens: {2, 4, 6}, \n",
      "Set Odds: {1, 3, 5}, \n",
      "Set Primes: {2, 3, 5}\n",
      "Are Evens and Odds disjoint? True\n",
      "Are Evens and Primes disjoint? False\n"
     ]
    }
   ],
   "source": [
    "# isdisjoin\n",
    "set_evens = {2, 4, 6}\n",
    "set_odds = {1, 3, 5}\n",
    "set_primes = {2, 3, 5}\n",
    "\n",
    "print(f\"Set Evens: {set_evens}, \\nSet Odds: {set_odds}, \\nSet Primes: {set_primes}\")\n",
    "\n",
    "print(f\"Are Evens and Odds disjoint? {set_evens.isdisjoint(set_odds)}\") \n",
    "print(f\"Are Evens and Primes disjoint? {set_evens.isdisjoint(set_primes)}\")"
   ]
  },
  {
   "cell_type": "markdown",
   "id": "d2d82a40-97de-4fd4-8940-b7715ceb52cb",
   "metadata": {
    "panel-layout": {
     "height": 43.19791793823242,
     "visible": true,
     "width": 100
    }
   },
   "source": [
    "#### **`issubset(other_set) or <=`**: This operation checks if all elements of one set are also present in another set. It returns `True` if the first set is a subset of the second, and `False` otherwise."
   ]
  },
  {
   "cell_type": "code",
   "execution_count": 52,
   "id": "2543deb5-d9d6-42fd-8757-4218bd74d8f7",
   "metadata": {
    "panel-layout": {
     "height": 0,
     "visible": true,
     "width": 100
    }
   },
   "outputs": [
    {
     "name": "stdout",
     "output_type": "stream",
     "text": [
      "Main Set: {1, 2, 3, 4, 5}, \n",
      "Sub Set: {2, 3}, \n",
      "Non Sub Set: {1, 6}\n",
      "Is {2, 3} a subset of {1, 2, 3, 4, 5}? True\n",
      "Is {2, 3} <= {1, 2, 3, 4, 5}? True\n",
      "Is {1, 6} a subset of {1, 2, 3, 4, 5}? False\n"
     ]
    }
   ],
   "source": [
    "# issuperset\n",
    "main_set = {1, 2, 3, 4, 5}\n",
    "sub_set = {2, 3}\n",
    "non_sub_set = {1, 6}\n",
    "\n",
    "print(f\"Main Set: {main_set}, \\nSub Set: {sub_set}, \\nNon Sub Set: {non_sub_set}\")\n",
    "print(f\"Is {sub_set} a subset of {main_set}? {sub_set.issubset(main_set)}\") \n",
    "print(f\"Is {sub_set} <= {main_set}? {sub_set <= main_set}\") \n",
    "print(f\"Is {non_sub_set} a subset of {main_set}? {non_sub_set.issubset(main_set)}\") "
   ]
  },
  {
   "cell_type": "markdown",
   "id": "a4faa2f5-1e79-4be6-afbb-980084800268",
   "metadata": {
    "panel-layout": {
     "height": 43.19791793823242,
     "visible": true,
     "width": 100
    }
   },
   "source": [
    "#### **`issuperset(other_set) or >=`**: This operation checks if one set contains all the elements of another set. It returns `True` if the first set is a superset of the second, and `False` otherwise."
   ]
  },
  {
   "cell_type": "code",
   "execution_count": 53,
   "id": "a02d896b-d446-4d7e-b6ae-c000f1842942",
   "metadata": {
    "panel-layout": {
     "height": 0,
     "visible": true,
     "width": 100
    }
   },
   "outputs": [
    {
     "name": "stdout",
     "output_type": "stream",
     "text": [
      "Main Set: {1, 2, 3, 4, 5}, \n",
      "Sub Set: {2, 3}\n",
      "Is {1, 2, 3, 4, 5} a superset of {2, 3}? True\n",
      "Is {1, 2, 3, 4, 5} >= {2, 3}? True\n",
      "Is {2, 3} a superset of {1, 2, 3, 4, 5}? False\n"
     ]
    }
   ],
   "source": [
    "# isuperset\n",
    "main_set = {1, 2, 3, 4, 5}\n",
    "sub_set = {2, 3}\n",
    "\n",
    "print(f\"Main Set: {main_set}, \\nSub Set: {sub_set}\")\n",
    "\n",
    "print(f\"Is {main_set} a superset of {sub_set}? {main_set.issuperset(sub_set)}\") \n",
    "print(f\"Is {main_set} >= {sub_set}? {main_set >= sub_set}\")\n",
    "print(f\"Is {sub_set} a superset of {main_set}? {sub_set.issuperset(main_set)}\") #"
   ]
  },
  {
   "cell_type": "markdown",
   "id": "9f078992-1921-42b1-802b-279849c0f84d",
   "metadata": {
    "panel-layout": {
     "height": 43.19791793823242,
     "visible": true,
     "width": 100
    }
   },
   "source": [
    "#### **`symmetric_difference(other_set) or ^`**: This operation returns a new set containing all elements that are in either of two sets, but not in their intersection (i.e., elements unique to each set)."
   ]
  },
  {
   "cell_type": "code",
   "execution_count": 54,
   "id": "389dc326-e890-42d4-b54e-72c7a8e5d13d",
   "metadata": {
    "panel-layout": {
     "height": 0,
     "visible": true,
     "width": 100
    }
   },
   "outputs": [
    {
     "name": "stdout",
     "output_type": "stream",
     "text": [
      "Set X: {1, 2, 3, 4}, \n",
      "Set Y: {3, 4, 5, 6}\n",
      "Symmetric difference (X.symmetric_difference(Y)): {1, 2, 5, 6}\n",
      "Symmetric difference (X ^ Y): {1, 2, 5, 6}\n",
      "My Data: {1, 2, 3}, \n",
      "New Data: {3, 4, 5}\n"
     ]
    }
   ],
   "source": [
    "# symmetric_difference\n",
    "set_x = {1, 2, 3, 4}\n",
    "set_y = {3, 4, 5, 6}\n",
    "\n",
    "print(f\"Set X: {set_x}, \\nSet Y: {set_y}\")\n",
    "\n",
    "sym_diff = set_x.symmetric_difference(set_y)\n",
    "print(f\"Symmetric difference (X.symmetric_difference(Y)): {sym_diff}\") \n",
    "sym_diff_operator = set_x ^ set_y\n",
    "print(f\"Symmetric difference (X ^ Y): {sym_diff_operator}\") \n",
    "my_data = {1, 2, 3}\n",
    "new_data = {3, 4, 5}\n",
    "print(f\"My Data: {my_data}, \\nNew Data: {new_data}\")"
   ]
  },
  {
   "cell_type": "markdown",
   "id": "4fba568f-a659-4ee8-b199-606e3ba49326",
   "metadata": {
    "panel-layout": {
     "height": 43.19791793823242,
     "visible": true,
     "width": 100
    }
   },
   "source": [
    "#### **`symmetric_difference_update(other_set) or ^=`**: This operation modifies the original set to contain only the elements that are in either of the original set or another specified set, but not in their intersection."
   ]
  },
  {
   "cell_type": "code",
   "execution_count": 55,
   "id": "eb85c551-e79c-4d39-b14d-d8e358ce3677",
   "metadata": {
    "panel-layout": {
     "height": 0,
     "visible": true,
     "width": 100
    }
   },
   "outputs": [
    {
     "name": "stdout",
     "output_type": "stream",
     "text": [
      "After symmetric_difference_update(new_data): {1, 3, 6}\n",
      "After ^= another_data: {1, 3, 6}\n"
     ]
    }
   ],
   "source": [
    "# symmetric_difference_update(other_set)\n",
    "my_data = {1, 2, 3}\n",
    "another_data = {2, 6}\n",
    "my_data.symmetric_difference_update(another_data)\n",
    "print(f\"After symmetric_difference_update(new_data): {my_data}\") \n",
    "\n",
    "# Using the operator\n",
    "my_data = {1, 2, 3}\n",
    "another_data = {2, 6}\n",
    "my_data ^= another_data\n",
    "print(f\"After ^= another_data: {my_data}\")"
   ]
  },
  {
   "cell_type": "markdown",
   "id": "18a46369-1401-457f-8ece-e0ba3cc2d864",
   "metadata": {
    "panel-layout": {
     "height": 78.86458587646484,
     "visible": true,
     "width": 100
    }
   },
   "source": [
    "### `frozenset`\n",
    "\n",
    "A `frozenset` is an **immutable** version of a `set`. Once created, you cannot add or remove elements. This makes `frozenset`s hashable, meaning they can be used as elements in other sets or as keys in dictionaries.\n"
   ]
  },
  {
   "cell_type": "code",
   "execution_count": 56,
   "id": "e21be853-0d11-4511-a83a-a36718a854c4",
   "metadata": {
    "panel-layout": {
     "height": 0,
     "visible": true,
     "width": 100
    }
   },
   "outputs": [
    {
     "name": "stdout",
     "output_type": "stream",
     "text": [
      "Frozenset: frozenset({1, 2, 3})\n",
      "Type of frozenset: <class 'frozenset'>\n",
      "Error! Frozensets are immutable: 'frozenset' object has no attribute 'add'\n",
      "Nested set with frozensets: {frozenset({3, 4}), frozenset({1, 2})}\n"
     ]
    }
   ],
   "source": [
    "# Creating a frozenset\n",
    "immutable_set = frozenset([1, 2, 3, 2])\n",
    "print(f\"Frozenset: {immutable_set}\")\n",
    "print(f\"Type of frozenset: {type(immutable_set)}\")\n",
    "\n",
    "# Attempting to add/remove (will raise an AttributeError)\n",
    "try:\n",
    "    immutable_set.add(4)\n",
    "except AttributeError as e:\n",
    "    print(f\"Error! Frozensets are immutable: {e}\")\n",
    "\n",
    "# Frozensets can be elements of a regular set\n",
    "nested_set = {frozenset([1, 2]), frozenset([3, 4])}\n",
    "print(f\"Nested set with frozensets: {nested_set}\")"
   ]
  },
  {
   "cell_type": "markdown",
   "id": "b76ea89d-2a86-4dae-815a-6806f9400cbf",
   "metadata": {
    "panel-layout": {
     "height": 338.0208435058594,
     "visible": true,
     "width": 100
    }
   },
   "source": [
    "## Dictionaries\n",
    "\n",
    "A `dict` (dictionary) is a collection of **key-value pairs**. Each unique key maps to a specific value, they are typically created using curly braces `{}` with key-value pairs separated by colons `:` and individual pairs separated by commas `,`\n",
    "\n",
    "  * **Definition/Purpose:** Ideal for storing data where each piece of information is associated with a unique identifier (the key), allowing for very fast lookups.\n",
    "\n",
    "  * **Key Characteristics:**\n",
    "\n",
    "      * **Ordered (since Python 3.7):** Items are kept in the order they were inserted. Before 3.7, they were unordered.\n",
    "      * **Mutable:** You can add new key-value pairs, remove existing ones, and change the values associated with keys.\n",
    "      * **Keys are Unique:** Each key must be unique within a dictionary. If you assign a new value to an existing key, it overwrites the old value.\n",
    "      * **Keys Must Be Immutable and Hashable:** Keys must be of an immutable type (e.g., strings, numbers, tuples containing only immutable types). Lists and dictionaries cannot be keys.\n",
    "      * **Values Can Be Anything:** Values can be of any data type and can be duplicates.\n",
    "      * **Mapped:** You access values using their associated keys, not a numerical index.\n",
    "      * **Dynamic Size:** Can grow or shrink as needed.\n",
    "\n",
    "  * **Syntax:**\n",
    "    `{key1: value1, key2: value2, ...}`"
   ]
  },
  {
   "cell_type": "code",
   "execution_count": 57,
   "id": "5eceac3d-e0ae-4440-9505-0ea03b6c6c51",
   "metadata": {
    "panel-layout": {
     "height": 0,
     "visible": true,
     "width": 100
    }
   },
   "outputs": [
    {
     "name": "stdout",
     "output_type": "stream",
     "text": [
      "Empty dictionary: {}\n",
      "Person dictionary: {'name': 'Alice', 'age': 30, 'city': 'New York', 'occupation': 'Engineer', 'skills': ['Python', 'SQL', 'ML']}\n"
     ]
    }
   ],
   "source": [
    "# Creating a dictionary\n",
    "empty_dict = {}\n",
    "my_dict = {\n",
    "    \"name\": \"Alice\",\n",
    "    \"age\": 30,\n",
    "    \"city\": \"New York\",\n",
    "    \"occupation\": \"Engineer\",\n",
    "    \"skills\": [\"Python\", \"SQL\", \"ML\"] # Value can be a list\n",
    "}\n",
    "\n",
    "print(f\"Empty dictionary: {empty_dict}\")\n",
    "print(f\"Person dictionary: {my_dict}\")"
   ]
  },
  {
   "cell_type": "code",
   "execution_count": 58,
   "id": "525d744b-a6f7-4ab2-9fcc-8355eeff6d2b",
   "metadata": {
    "panel-layout": {
     "height": 0,
     "visible": true,
     "width": 100
    }
   },
   "outputs": [
    {
     "name": "stdout",
     "output_type": "stream",
     "text": [
      "\n",
      "Checking Key Existence:\n",
      "Is 'name' in person? True\n",
      "Is 'salary' in person? False\n"
     ]
    }
   ],
   "source": [
    "# Checking for key existence\n",
    "print(f\"\\nChecking Key Existence:\")\n",
    "print(f\"Is 'name' in person? {'name' in my_dict}\") # Output: True\n",
    "print(f\"Is 'salary' in person? {'salary' in my_dict}\") # Output: False"
   ]
  },
  {
   "cell_type": "markdown",
   "id": "10d3ca68-83c1-48a7-88d1-ce1e1775a496",
   "metadata": {
    "panel-layout": {
     "height": 44.07291793823242,
     "visible": true,
     "width": 100
    }
   },
   "source": [
    "### Common Dictionary Methods"
   ]
  },
  {
   "cell_type": "code",
   "execution_count": 59,
   "id": "1bcc00a8-3197-4321-8de8-9edfcf57af43",
   "metadata": {
    "panel-layout": {
     "height": 837.4271240234375,
     "visible": true,
     "width": 100
    }
   },
   "outputs": [
    {
     "data": {
      "text/plain": [
       "['__class__',\n",
       " '__class_getitem__',\n",
       " '__contains__',\n",
       " '__delattr__',\n",
       " '__delitem__',\n",
       " '__dir__',\n",
       " '__doc__',\n",
       " '__eq__',\n",
       " '__format__',\n",
       " '__ge__',\n",
       " '__getattribute__',\n",
       " '__getitem__',\n",
       " '__getstate__',\n",
       " '__gt__',\n",
       " '__hash__',\n",
       " '__init__',\n",
       " '__init_subclass__',\n",
       " '__ior__',\n",
       " '__iter__',\n",
       " '__le__',\n",
       " '__len__',\n",
       " '__lt__',\n",
       " '__ne__',\n",
       " '__new__',\n",
       " '__or__',\n",
       " '__reduce__',\n",
       " '__reduce_ex__',\n",
       " '__repr__',\n",
       " '__reversed__',\n",
       " '__ror__',\n",
       " '__setattr__',\n",
       " '__setitem__',\n",
       " '__sizeof__',\n",
       " '__str__',\n",
       " '__subclasshook__',\n",
       " 'clear',\n",
       " 'copy',\n",
       " 'fromkeys',\n",
       " 'get',\n",
       " 'items',\n",
       " 'keys',\n",
       " 'pop',\n",
       " 'popitem',\n",
       " 'setdefault',\n",
       " 'update',\n",
       " 'values']"
      ]
     },
     "execution_count": 59,
     "metadata": {},
     "output_type": "execute_result"
    }
   ],
   "source": [
    "dir(dict)"
   ]
  },
  {
   "cell_type": "markdown",
   "id": "13f65968-33a8-4080-8255-b1d2f7a75528",
   "metadata": {
    "panel-layout": {
     "height": 43.19791793823242,
     "visible": true,
     "width": 100
    }
   },
   "source": [
    "#### **`clear()`**: Removes all key-value pairs from the dictionary."
   ]
  },
  {
   "cell_type": "code",
   "execution_count": 60,
   "id": "427898d6-bad9-4b0a-aeba-afe5f51eff74",
   "metadata": {
    "panel-layout": {
     "height": 0,
     "visible": true,
     "width": 100
    }
   },
   "outputs": [
    {
     "name": "stdout",
     "output_type": "stream",
     "text": [
      "Original dictionary: {'name': 'Alice', 'age': 30, 'city': 'New York', 'occupation': 'Engineer', 'skills': ['Python', 'SQL', 'ML']}\n",
      "Dictionary after clear(): {}\n"
     ]
    }
   ],
   "source": [
    "# clear\n",
    "print(f\"Original dictionary: {my_dict}\") \n",
    "my_dict.clear()\n",
    "print(f\"Dictionary after clear(): {my_dict}\")  # {}"
   ]
  },
  {
   "cell_type": "markdown",
   "id": "5a4addbe-a563-4f94-bc7b-fab72afcc950",
   "metadata": {
    "panel-layout": {
     "height": 43.19791793823242,
     "visible": true,
     "width": 100
    }
   },
   "source": [
    "#### **`copy()`**: Returns a **shallow copy** of the dictionary. This means a new dictionary is created, but nested mutable objects (like lists or other dictionaries) within the original will still be referenced by the copy."
   ]
  },
  {
   "cell_type": "code",
   "execution_count": 61,
   "id": "a95935cf-90e5-41dc-8dde-e3f326dd1ce1",
   "metadata": {
    "panel-layout": {
     "height": 0,
     "visible": true,
     "width": 100
    }
   },
   "outputs": [
    {
     "name": "stdout",
     "output_type": "stream",
     "text": [
      "Original dictionary: {'a': 1, 'b': [2, 3]}\n",
      "Copied dictionary: {'a': 1, 'b': [2, 3]}\n"
     ]
    }
   ],
   "source": [
    "# copy\n",
    "original_dict = {'a': 1, 'b': [2, 3]}\n",
    "copied_dict = original_dict.copy()\n",
    "print(f\"Original dictionary: {original_dict}\") \n",
    "print(f\"Copied dictionary: {copied_dict}\")    "
   ]
  },
  {
   "cell_type": "markdown",
   "id": "0d964972-39b0-4fdb-a181-82ab536c527c",
   "metadata": {
    "panel-layout": {
     "height": 43.19791793823242,
     "visible": true,
     "width": 100
    }
   },
   "source": [
    "#### **`items()`**: Returns a **new view** of the dictionary's key-value pairs as tuples (`(key, value)`). This view is dynamic, meaning it reflects changes made to the dictionary."
   ]
  },
  {
   "cell_type": "code",
   "execution_count": 62,
   "id": "ede2f19c-2c2e-4b1c-b4ea-41259dfefcd0",
   "metadata": {
    "panel-layout": {
     "height": 0,
     "visible": true,
     "width": 100
    }
   },
   "outputs": [
    {
     "name": "stdout",
     "output_type": "stream",
     "text": [
      "Person dictionary: {'name': 'David', 'age': 35, 'city': 'London'}\n",
      "All items (person.items()): dict_items([('name', 'David'), ('age', 35), ('city', 'London')])\n",
      "Iterating over items:\n",
      "name: David\n",
      "age: 35\n",
      "city: London\n",
      "Items after adding 'occupation': dict_items([('name', 'David'), ('age', 35), ('city', 'London'), ('occupation', 'Artist')])\n"
     ]
    }
   ],
   "source": [
    "person = {'name': 'David', 'age': 35, 'city': 'London'}\n",
    "print(f\"Person dictionary: {person}\")\n",
    "\n",
    "all_items = person.items()\n",
    "print(f\"All items (person.items()): {all_items}\") \n",
    "\n",
    "# Iterate over items\n",
    "print(\"Iterating over items:\")\n",
    "for key, value in all_items:\n",
    "    print(f\"{key}: {value}\")\n",
    "\n",
    "# The view is dynamic\n",
    "person['occupation'] = 'Artist'\n",
    "print(f\"Items after adding 'occupation': {all_items}\") "
   ]
  },
  {
   "cell_type": "markdown",
   "id": "605fb1d7-870c-47f4-84db-c08ce1302c00",
   "metadata": {
    "panel-layout": {
     "height": 43.19791793823242,
     "visible": true,
     "width": 100
    }
   },
   "source": [
    "####  **`values()`**: Returns a **new view** of the dictionary's values. This view is dynamic, reflecting changes made to the dictionary."
   ]
  },
  {
   "cell_type": "code",
   "execution_count": 63,
   "id": "ef7779cc-4d6c-41e6-b7df-440a7b68958f",
   "metadata": {
    "panel-layout": {
     "height": 0,
     "visible": true,
     "width": 100
    }
   },
   "outputs": [
    {
     "name": "stdout",
     "output_type": "stream",
     "text": [
      "All items (person.values()): dict_values(['David', 35, 'London', 'Artist'])\n",
      "Iterating over keys:\n",
      "David\n",
      "35\n",
      "London\n",
      "Artist\n",
      "Values after chaging name to 'John': dict_values(['John', 35, 'London', 'Artist'])\n"
     ]
    }
   ],
   "source": [
    "all_values = person.values()\n",
    "print(f\"All items (person.values()): {all_values}\") \n",
    "\n",
    "# Iterate over items\n",
    "print(\"Iterating over keys:\")\n",
    "for value in all_values:\n",
    "    print(f\"{value}\")\n",
    "\n",
    "# The view is dynamic\n",
    "person['name'] = 'John'\n",
    "print(f\"Values after chaging name to 'John': {all_values}\") "
   ]
  },
  {
   "cell_type": "markdown",
   "id": "30878e6b-055e-4753-a5d1-41d035fb29cb",
   "metadata": {
    "panel-layout": {
     "height": 43.19791793823242,
     "visible": true,
     "width": 100
    }
   },
   "source": [
    "#### **`keys()`**: Returns a **new view** of the dictionary's keys. This view is dynamic, reflecting changes made to the dictionary."
   ]
  },
  {
   "cell_type": "code",
   "execution_count": 64,
   "id": "31be384e-51b0-4249-92d5-f0ef67adbb4b",
   "metadata": {
    "panel-layout": {
     "height": 0,
     "visible": true,
     "width": 100
    }
   },
   "outputs": [
    {
     "name": "stdout",
     "output_type": "stream",
     "text": [
      "All items (person.keys()): dict_keys(['name', 'age', 'city', 'occupation'])\n",
      "Iterating over keys:\n",
      "name\n",
      "age\n",
      "city\n",
      "occupation\n",
      "Keys after adding 'Sex': dict_keys(['name', 'age', 'city', 'occupation', 'Sex'])\n"
     ]
    }
   ],
   "source": [
    "all_keys = person.keys()\n",
    "print(f\"All items (person.keys()): {all_keys}\") \n",
    "\n",
    "# Iterate over items\n",
    "print(\"Iterating over keys:\")\n",
    "for key in all_keys:\n",
    "    print(f\"{key}\")\n",
    "\n",
    "# The view is dynamic\n",
    "person['Sex'] = 'Male'\n",
    "print(f\"Keys after adding 'Sex': {all_keys}\") "
   ]
  },
  {
   "cell_type": "markdown",
   "id": "c8a5790e-fc9f-4a04-a74e-a21b9ee60556",
   "metadata": {
    "panel-layout": {
     "height": 43.19791793823242,
     "visible": true,
     "width": 100
    }
   },
   "source": [
    "#### **`fromkeys(iterable, value=None)`**: Creates a **new dictionary** with keys from the `iterable` and values set to `value`. If `value` is not specified, it defaults to `None`."
   ]
  },
  {
   "cell_type": "code",
   "execution_count": 65,
   "id": "ce233423-39d5-4769-a341-6527c5e969f6",
   "metadata": {
    "panel-layout": {
     "height": 0,
     "visible": true,
     "width": 100
    }
   },
   "outputs": [
    {
     "name": "stdout",
     "output_type": "stream",
     "text": [
      "Dictionary from keys (default None): {'name': None, 'age': None, 'city': None}\n",
      "Dictionary from keys (default 0): {'math': 0, 'science': 0, 'history': 0}\n",
      "Mutable default issue: {'item1': ['added'], 'item2': ['added']}\n"
     ]
    }
   ],
   "source": [
    "# from keys\n",
    "keys = ['name', 'age', 'city']\n",
    "\n",
    "# Create a dictionary with default value None\n",
    "person_info = dict.fromkeys(keys)\n",
    "print(f\"Dictionary from keys (default None): {person_info}\") # {'name': None, 'age': None, 'city': None}\n",
    "\n",
    "# Create a dictionary with a specified default value\n",
    "initial_scores = dict.fromkeys(['math', 'science', 'history'], 0)\n",
    "print(f\"Dictionary from keys (default 0): {initial_scores}\") # {'math': 0, 'science': 0, 'history': 0}\n",
    "\n",
    "# If the default value is a mutable object, all keys will point to the SAME object!\n",
    "# Be careful with this:\n",
    "mutable_default = dict.fromkeys(['item1', 'item2'], [])\n",
    "mutable_default['item1'].append('added')\n",
    "print(f\"Mutable default issue: {mutable_default}\") # {'item1': ['added'], 'item2': ['added']} (both modified!)"
   ]
  },
  {
   "cell_type": "markdown",
   "id": "0c14a1df-c10e-4354-a94a-b6c66fd7d5e2",
   "metadata": {
    "panel-layout": {
     "height": 43.19791793823242,
     "visible": true,
     "width": 100
    }
   },
   "source": [
    "#### **`get(key, default_value=None)`**: Returns the `value` for the specified `key`. If the `key` is not found, it returns `default_value` (which is `None` by default) instead of raising a `KeyError`."
   ]
  },
  {
   "cell_type": "code",
   "execution_count": 66,
   "id": "25c2ddfa-ef8f-4900-baae-dc742c7c35ed",
   "metadata": {},
   "outputs": [
    {
     "name": "stdout",
     "output_type": "stream",
     "text": [
      "Student dictionary: {'name': 'Emily', 'grade': 'A', 'major': 'Computer Science'}\n",
      "Student name (get('name')): Emily\n",
      "Student email (get('email')): None\n",
      "Student phone (get('phone', 'N/A')): N/A\n",
      "Error! Direct access to non-existing key: 'address'\n"
     ]
    }
   ],
   "source": [
    "# get\n",
    "student = {'name': 'Emily', 'grade': 'A', 'major': 'Computer Science'}\n",
    "print(f\"Student dictionary: {student}\")\n",
    "\n",
    "# Get an existing key\n",
    "student_name = student.get('name')\n",
    "print(f\"Student name (get('name')): {student_name}\") \n",
    "\n",
    "# Get a non-existing key (returns None by default)\n",
    "student_email = student.get('email')\n",
    "print(f\"Student email (get('email')): {student_email}\")\n",
    "\n",
    "# Get a non-existing key with a custom default value\n",
    "student_phone = student.get('phone', 'N/A')\n",
    "print(f\"Student phone (get('phone', 'N/A')): {student_phone}\") \n",
    "\n",
    "# Direct access (will raise KeyError if key not found)\n",
    "try:\n",
    "    print(student['address'])\n",
    "except KeyError as e:\n",
    "    print(f\"Error! Direct access to non-existing key: {e}\")"
   ]
  },
  {
   "cell_type": "markdown",
   "id": "6ef17bd7-3c04-4641-a96b-2e6204b0be45",
   "metadata": {
    "panel-layout": {
     "height": 60.333335876464844,
     "visible": true,
     "width": 100
    }
   },
   "source": [
    "#### **`pop(key, default_value_if_not_found)`**: Removes the specified `key` from the dictionary and **returns its corresponding value**. If the `key` is not found, it returns `default_value_if_not_found` if provided; otherwise, it raises a `KeyError`."
   ]
  },
  {
   "cell_type": "code",
   "execution_count": 67,
   "id": "2a9637cb-ffb6-472b-a65c-699ffee5e65b",
   "metadata": {
    "panel-layout": {
     "height": 0,
     "visible": true,
     "width": 100
    }
   },
   "outputs": [
    {
     "name": "stdout",
     "output_type": "stream",
     "text": [
      "Initial profile: {'username': 'coder123', 'email': 'coder@example.com', 'status': 'active'}\n",
      "Popped email: 'coder@example.com', Profile: {'username': 'coder123', 'status': 'active'}\n",
      "Error popping non-existing key without default: 'phone'\n",
      "Popped 'last_login' (with default): 'Never', Profile: {'username': 'coder123', 'status': 'active'}\n"
     ]
    }
   ],
   "source": [
    "# pop\n",
    "user_profile = {'username': 'coder123', 'email': 'coder@example.com', 'status': 'active'}\n",
    "print(f\"Initial profile: {user_profile}\")\n",
    "\n",
    "# Pop an existing key\n",
    "email = user_profile.pop('email')\n",
    "print(f\"Popped email: '{email}', Profile: {user_profile}\") \n",
    "\n",
    "# Try to pop a non-existing key without default (will error)\n",
    "try:\n",
    "    user_profile.pop('phone')\n",
    "except KeyError as e:\n",
    "    print(f\"Error popping non-existing key without default: {e}\")\n",
    "\n",
    "# Pop a non-existing key with a default value\n",
    "last_login = user_profile.pop('last_login', 'Never')\n",
    "print(f\"Popped 'last_login' (with default): '{last_login}', Profile: {user_profile}\")"
   ]
  },
  {
   "cell_type": "markdown",
   "id": "607b50e9-fc7b-4904-973a-e9c631f2e4fa",
   "metadata": {
    "panel-layout": {
     "height": 43.19791793823242,
     "visible": true,
     "width": 100
    }
   },
   "source": [
    "#### **`popitem()`**: Removes and **returns an arbitrary key-value pair** from the dictionary. As of Python 3.7+, it specifically removes and returns the **last** inserted key-value pair. Raises a `KeyError` if the dictionary is empty."
   ]
  },
  {
   "cell_type": "code",
   "execution_count": 68,
   "id": "f2178633-fdbb-4b80-882a-fa4c4ab7ccc2",
   "metadata": {},
   "outputs": [
    {
     "name": "stdout",
     "output_type": "stream",
     "text": [
      "Initial settings: {'theme': 'dark', 'font_size': 14, 'notifications': True}\n",
      "Popped item: ('notifications', True), Remaining settings: {'theme': 'dark', 'font_size': 14}\n",
      "Popped item: ('font_size', 14), Remaining settings: {'theme': 'dark'}\n",
      "Error popping from empty dictionary: 'popitem(): dictionary is empty'\n"
     ]
    }
   ],
   "source": [
    "# pop item \n",
    "settings = {'theme': 'dark', 'font_size': 14, 'notifications': True}\n",
    "print(f\"Initial settings: {settings}\")\n",
    "\n",
    "# Pop the last inserted item (Python 3.7+)\n",
    "item1 = settings.popitem()\n",
    "print(f\"Popped item: {item1}, Remaining settings: {settings}\") \n",
    "\n",
    "item2 = settings.popitem()\n",
    "print(f\"Popped item: {item2}, Remaining settings: {settings}\") \n",
    "\n",
    "# Trying to pop from an empty dictionary\n",
    "empty_settings = {}\n",
    "try:\n",
    "    empty_settings.popitem()\n",
    "except KeyError as e:\n",
    "    print(f\"Error popping from empty dictionary: {e}\")"
   ]
  },
  {
   "cell_type": "markdown",
   "id": "3cd1d290-ebb8-40fd-96a8-422f49b54b30",
   "metadata": {
    "panel-layout": {
     "height": 60.333335876464844,
     "visible": true,
     "width": 100
    }
   },
   "source": [
    "#### **`setdefault(key, default_value=None)`**: Returns the `value` for the specified `key`. If the `key` is not found, it inserts the `key` with `default_value` (or `None` if not specified) into the dictionary and returns that `default_value`."
   ]
  },
  {
   "cell_type": "code",
   "execution_count": 69,
   "id": "d9adac04-1ecd-4c93-8ed0-59e8211819c0",
   "metadata": {
    "panel-layout": {
     "height": 0,
     "visible": true,
     "width": 100
    }
   },
   "outputs": [
    {
     "name": "stdout",
     "output_type": "stream",
     "text": [
      "Initial data: {'count': 10, 'status': 'active'}\n",
      "Value for 'count': 10, Data: {'count': 10, 'status': 'active'}\n",
      "Value for 'last_updated': '2025-01-01', Data: {'count': 10, 'status': 'active', 'last_updated': '2025-01-01'}\n",
      "Value for 'category': None, Data: {'count': 10, 'status': 'active', 'last_updated': '2025-01-01', 'category': None}\n"
     ]
    }
   ],
   "source": [
    "# setdefault\n",
    "data = {'count': 10, 'status': 'active'}\n",
    "print(f\"Initial data: {data}\")\n",
    "\n",
    "# Key exists: returns its value, dictionary unchanged\n",
    "current_count = data.setdefault('count', 0)\n",
    "print(f\"Value for 'count': {current_count}, Data: {data}\") \n",
    "\n",
    "# Key does not exist: inserts key with default value, returns default value\n",
    "last_updated = data.setdefault('last_updated', '2025-01-01')\n",
    "print(f\"Value for 'last_updated': '{last_updated}', Data: {data}\") \n",
    "\n",
    "# Key does not exist, no default value provided: inserts with None\n",
    "category = data.setdefault('category')\n",
    "print(f\"Value for 'category': {category}, Data: {data}\") "
   ]
  },
  {
   "cell_type": "markdown",
   "id": "1e41a25b-c301-4ddb-a46b-0954a27ff11a",
   "metadata": {
    "panel-layout": {
     "height": 43.19791793823242,
     "visible": true,
     "width": 100
    }
   },
   "source": [
    "#### **`update([other_dict_or_iterable])`**: Updates the dictionary with key-value pairs from `other_dict_or_iterable` (which can be another dictionary, or an iterable of key-value pairs), overwriting existing keys."
   ]
  },
  {
   "cell_type": "code",
   "execution_count": 70,
   "id": "1d2025a7-f15c-46af-932d-129350b52bc5",
   "metadata": {
    "panel-layout": {
     "height": 0,
     "visible": true,
     "width": 100
    }
   },
   "outputs": [
    {
     "name": "stdout",
     "output_type": "stream",
     "text": [
      "Initial user_info: {'name': 'John', 'age': 25}\n",
      "After update with new_details: {'name': 'John', 'age': 26, 'city': 'New York'}\n",
      "After update with iterable: {'name': 'John', 'age': 27, 'city': 'New York', 'email': 'john@example.com'}\n",
      "After update with keyword args: {'name': 'John', 'age': 27, 'city': 'Boston', 'email': 'john@example.com', 'phone': '555-1234'}\n"
     ]
    }
   ],
   "source": [
    "# update\n",
    "user_info = {'name': 'John', 'age': 25}\n",
    "new_details = {'age': 26, 'city': 'New York'}\n",
    "print(f\"Initial user_info: {user_info}\") \n",
    "\n",
    "# Update with another dictionary\n",
    "user_info.update(new_details)\n",
    "print(f\"After update with new_details: {user_info}\") \n",
    "\n",
    "# Update with an iterable of key-value pairs\n",
    "more_details = [('email', 'john@example.com'), ('age', 27)]\n",
    "user_info.update(more_details)\n",
    "print(f\"After update with iterable: {user_info}\") \n",
    "\n",
    "# Update with keyword arguments\n",
    "user_info.update(city='Boston', phone='555-1234')\n",
    "print(f\"After update with keyword args: {user_info}\") "
   ]
  },
  {
   "cell_type": "markdown",
   "id": "9d250d57-bc0a-4505-af20-8fa100388c24",
   "metadata": {
    "panel-layout": {
     "height": 443.22918701171875,
     "visible": true,
     "width": 100
    }
   },
   "source": [
    "## Arrays (from `array` module) and Numeric Data\n",
    "\n",
    "While lists are incredibly flexible, they can store heterogeneous data. When you need to store a large sequence of items of the **exact same primitive data type** (like all integers or all floats) and care about memory efficiency, Python's built-in `array` module can be used.\n",
    "\n",
    "  * **Definition/Purpose:** Provides a space-efficient way to store arrays of basic numeric types. Less flexible than lists but more memory-efficient for homogeneous numerical data.\n",
    "\n",
    "  * **Key Characteristics:**\n",
    "\n",
    "      * **Homogeneous:** All elements must be of the same specified type (e.g., all signed integers, all floating-point numbers). This type is specified by a 'type code' during creation.\n",
    "      * **Mutable:** Elements can be changed after creation.\n",
    "      * **Ordered & Indexed:** Like lists, elements maintain order and are accessed by index.\n",
    "      * **Memory Efficient:** Stores elements more compactly than a Python list, which stores full Python objects.\n",
    "\n",
    "  * **Syntax:**\n",
    "    `from array import array`\n",
    "    `array(typecode, [initial items])`\n",
    "\n",
    "    Common `typecode` examples:\n",
    "\n",
    "      * `'i'`: signed integer (2 bytes)\n",
    "      * `'f'`: float (4 bytes)\n",
    "      * `'d'`: double (8 bytes)\n",
    "\n",
    "\n",
    "**Important Note:** For serious numerical computing and data science, the **NumPy `ndarray`** (from the `numpy` library) is the de facto standard. It provides highly optimized array operations and a vast ecosystem of scientific functions, far beyond the basic `array` module."
   ]
  },
  {
   "cell_type": "code",
   "execution_count": 71,
   "id": "5f842d42-2d0e-4d88-b16a-7d3f50d0d0ac",
   "metadata": {
    "panel-layout": {
     "height": 0,
     "visible": true,
     "width": 100
    }
   },
   "outputs": [
    {
     "name": "stdout",
     "output_type": "stream",
     "text": [
      "Integer array: array('i', [30, 60, 10, 0, 20, 40, 50])\n",
      "Type of the array: <class 'array.array'>\n"
     ]
    }
   ],
   "source": [
    "from array import array\n",
    "\n",
    "# Creating an array of signed integers ('i' typecode)\n",
    "my_int_array = array('i', [30,60,10, 0, 20, 40, 50])\n",
    "print(f\"Integer array: {my_int_array}\")\n",
    "print(f\"Type of the array: {type(my_int_array)}\")"
   ]
  },
  {
   "cell_type": "code",
   "execution_count": 72,
   "id": "10aee686-b8fa-4bdf-a282-9eff7cdd1bf4",
   "metadata": {
    "panel-layout": {
     "height": 0,
     "visible": true,
     "width": 100
    }
   },
   "outputs": [
    {
     "name": "stdout",
     "output_type": "stream",
     "text": [
      "Float array: array('d', [1.1, 2.2, 3.3])\n"
     ]
    }
   ],
   "source": [
    "# Creating an array of double-precision floats ('d' typecode)\n",
    "my_float_array = array('d', [1.1, 2.2, 3.3])\n",
    "print(f\"Float array: {my_float_array}\")"
   ]
  },
  {
   "cell_type": "code",
   "execution_count": 73,
   "id": "d323fb07-dfc7-4f03-8029-d30cc1c8107e",
   "metadata": {
    "panel-layout": {
     "height": 0,
     "visible": true,
     "width": 100
    }
   },
   "outputs": [
    {
     "name": "stdout",
     "output_type": "stream",
     "text": [
      "Third element (my_int_array[2]): 10\n",
      "Array after modification: array('i', [5, 60, 10, 0, 20, 40, 50])\n"
     ]
    }
   ],
   "source": [
    "# Accessing and modifying elements works like a list\n",
    "print(f\"Third element (my_int_array[2]): {my_int_array[2]}\")\n",
    "my_int_array[0] = 5\n",
    "print(f\"Array after modification: {my_int_array}\")"
   ]
  },
  {
   "cell_type": "code",
   "execution_count": null,
   "id": "8cacdeb2-3f6f-491d-9363-10ef5ada915a",
   "metadata": {},
   "outputs": [],
   "source": []
  },
  {
   "cell_type": "markdown",
   "id": "86133bb0-e2cb-4a11-b495-97a9674c1bc1",
   "metadata": {
    "panel-layout": {
     "height": 194.73959350585938,
     "visible": true,
     "width": 100
    }
   },
   "source": [
    "### Array Methods and Attributes\n",
    "\n",
    "The `array` module provides an `array.array` object, which is a sequence that can store basic values like numbers (integers, floats) efficiently. All elements in an `array.array` must be of the same type.\n",
    "\n",
    "\n",
    "* **`pop([i])`**: Removes the `item` at the given `index` `i` and **returns it**. If no `index` is specified, it removes and returns the last `item`. Raises an `IndexError` if the array is empty or the index is out of bounds.\n",
    "\n",
    "* **`reverse()`**: Reverses the `order` of the array's `items` **in-place**.\n",
    "\n",
    "* **`tolist()`**: Converts the array into a regular Python `list` containing the same `items`.\n",
    "\n",
    "* **`fromlist(list)`**: Appends `items` from a standard Python `list`. Each `item` in the `list` must be of the array's typecode. The operation modifies the array **in-place**."
   ]
  },
  {
   "cell_type": "markdown",
   "id": "da5e4591-97fd-45ea-aaee-9189c5aa5a7c",
   "metadata": {
    "panel-layout": {
     "height": 43.19791793823242,
     "visible": true,
     "width": 100
    }
   },
   "source": [
    "#### **`append(x)`**: Adds a single `item` `x` to the end of the array. The `item` must be of the array's typecode."
   ]
  },
  {
   "cell_type": "code",
   "execution_count": 74,
   "id": "9d36edf2-1d11-4346-afb3-61241f80aa66",
   "metadata": {
    "panel-layout": {
     "height": 0,
     "visible": true,
     "width": 100
    }
   },
   "outputs": [
    {
     "name": "stdout",
     "output_type": "stream",
     "text": [
      "After append(60): array('i', [5, 60, 10, 0, 20, 40, 50, 60])\n"
     ]
    }
   ],
   "source": [
    "# append\n",
    "my_int_array.append(60)\n",
    "print(f\"After append(60): {my_int_array}\") # array('i', [10, 20, 30, 40, 50, 60])"
   ]
  },
  {
   "cell_type": "code",
   "execution_count": 75,
   "id": "f06c5a17-e24d-4c9b-b420-e4c86e6bac57",
   "metadata": {},
   "outputs": [
    {
     "name": "stdout",
     "output_type": "stream",
     "text": [
      "Error! Array requires a homogeneous type: 'float' object cannot be interpreted as an integer\n"
     ]
    }
   ],
   "source": [
    "# Attempting to add a different data type (will cause a TypeError!)\n",
    "try:\n",
    "    my_int_array.append(3.14) # Trying to add a float to an integer array\n",
    "except TypeError as e:\n",
    "    print(f\"Error! Array requires a homogeneous type: {e}\")"
   ]
  },
  {
   "cell_type": "code",
   "execution_count": 76,
   "id": "01201505-66ad-4bdd-93cc-c72056f27d91",
   "metadata": {},
   "outputs": [
    {
     "name": "stdout",
     "output_type": "stream",
     "text": [
      "Error! Value too large for array type: signed integer is greater than maximum\n"
     ]
    }
   ],
   "source": [
    "# Attempting to add the wrong integer type (e.g., too large for 'i')\n",
    "try:\n",
    "    my_int_array.append(2**31) # Value too large for typical 'i' (signed 32-bit int)\n",
    "except OverflowError as e:\n",
    "    print(f\"Error! Value too large for array type: {e}\")"
   ]
  },
  {
   "cell_type": "markdown",
   "id": "fbf30e6b-e636-4752-a0e1-0e07e22bba40",
   "metadata": {
    "panel-layout": {
     "height": 43.19791793823242,
     "visible": true,
     "width": 100
    }
   },
   "source": [
    "#### **`count(x)`**: Returns the number of times `item` `x` appears in the array."
   ]
  },
  {
   "cell_type": "code",
   "execution_count": 77,
   "id": "4c36bc0a-14f5-403f-a5cd-cab7891df680",
   "metadata": {
    "panel-layout": {
     "height": 0,
     "visible": true,
     "width": 100
    }
   },
   "outputs": [
    {
     "name": "stdout",
     "output_type": "stream",
     "text": [
      "Count the number of times 60 in array: 2\n"
     ]
    }
   ],
   "source": [
    "my_int_array.count(60)\n",
    "print(f\"Count the number of times 60 in array: {my_int_array.count(60)}\")"
   ]
  },
  {
   "cell_type": "markdown",
   "id": "66f9373a-8421-4394-b331-c2c531029b53",
   "metadata": {
    "panel-layout": {
     "height": 43.19791793823242,
     "visible": true,
     "width": 100
    }
   },
   "source": [
    "#### **`extend(iterable)`**: Appends all `items` from an `iterable` to the end of the array. Each `item` in the `iterable` must be of the array's typecode. The operation modifies the array **in-place**."
   ]
  },
  {
   "cell_type": "code",
   "execution_count": 78,
   "id": "22d0917d-5b37-4bff-bb9c-06a13fb43d4a",
   "metadata": {
    "panel-layout": {
     "height": 0,
     "visible": true,
     "width": 100
    }
   },
   "outputs": [
    {
     "name": "stdout",
     "output_type": "stream",
     "text": [
      "After extend([70, 80, 90]): array('i', [5, 60, 10, 0, 20, 40, 50, 60, 70, 80, 90])\n"
     ]
    }
   ],
   "source": [
    "# extend\n",
    "my_int_array.extend([70, 80, 90])\n",
    "print(f\"After extend([70, 80, 90]): {my_int_array}\")"
   ]
  },
  {
   "cell_type": "markdown",
   "id": "4c888fb5-8c53-4e17-84fd-cf72cced5415",
   "metadata": {
    "panel-layout": {
     "height": 43.19791793823242,
     "visible": true,
     "width": 100
    }
   },
   "source": [
    "#### **`index(x)`**: Returns the index of the first occurrence of `item` `x` in the array. Raises a `ValueError` if the `item` is not found."
   ]
  },
  {
   "cell_type": "code",
   "execution_count": 79,
   "id": "569a329f-4c21-49a7-8e23-da7dbbe862df",
   "metadata": {
    "panel-layout": {
     "height": 0,
     "visible": true,
     "width": 100
    }
   },
   "outputs": [
    {
     "name": "stdout",
     "output_type": "stream",
     "text": [
      "The index of first ocurrence of 80 in the array: 9\n"
     ]
    }
   ],
   "source": [
    "# index()\n",
    "my_int_array.index(80)\n",
    "print(f\"The index of first ocurrence of 80 in the array: {my_int_array.index(80)}\")"
   ]
  },
  {
   "cell_type": "markdown",
   "id": "a81eb160-71ce-4c7d-9dfe-362ca8dd47fe",
   "metadata": {
    "panel-layout": {
     "height": 43.19791793823242,
     "visible": true,
     "width": 100
    }
   },
   "source": [
    "#### **`insert(i, x)`**: Inserts `item` `x` at the specified `index` `i`. The `item` must be of the array's typecode. The operation modifies the array **in-place**."
   ]
  },
  {
   "cell_type": "code",
   "execution_count": 80,
   "id": "ab5d7bee-38ba-4e42-8e0a-4b625133ab18",
   "metadata": {
    "panel-layout": {
     "height": 0,
     "visible": true,
     "width": 100
    }
   },
   "outputs": [
    {
     "name": "stdout",
     "output_type": "stream",
     "text": [
      "Original array: \n",
      "array('i', [5, 60, 10, 0, 20, 40, 50, 60, 70, 80, 90])\n",
      "After insert(0, 5) and insert(5, 45): \n",
      "array('i', [5, 5, 60, 10, 0, 45, 20, 40, 50, 60, 70, 80, 90])\n"
     ]
    }
   ],
   "source": [
    "# insert\n",
    "print(f'Original array: \\n{my_int_array}')\n",
    "my_int_array.insert(0, 5) # Insert 5 at the beginning\n",
    "my_int_array.insert(5, 45) # Insert 45 at index 5\n",
    "print(f\"After insert(0, 5) and insert(5, 45): \\n{my_int_array}\") "
   ]
  },
  {
   "cell_type": "markdown",
   "id": "878f4b24-7955-4a58-b5d8-d717f90777fb",
   "metadata": {
    "panel-layout": {
     "height": 43.19791793823242,
     "visible": true,
     "width": 100
    }
   },
   "source": [
    "#### **`remove(x)`**: Removes the **first occurrence** of `item` `x` from the array. Raises a `ValueError` if the `item` is not found. The operation modifies the array **in-place**."
   ]
  },
  {
   "cell_type": "code",
   "execution_count": 81,
   "id": "80c237a8-207c-43ae-af36-bf0eee331e2b",
   "metadata": {
    "panel-layout": {
     "height": 0,
     "visible": true,
     "width": 100
    }
   },
   "outputs": [
    {
     "name": "stdout",
     "output_type": "stream",
     "text": [
      "Original array: \n",
      "array('i', [30, 60, 10, 0, 20, 40, 50])\n",
      "After remove(30): \n",
      "array('i', [60, 10, 0, 20, 40, 50])\n"
     ]
    }
   ],
   "source": [
    "# remove \n",
    "my_int_array = array('i', [30,60,10, 0, 20, 40, 50])\n",
    "print(f'Original array: \\n{my_int_array}')\n",
    "my_int_array.remove(30)\n",
    "print(f\"After remove(30): \\n{my_int_array}\")"
   ]
  },
  {
   "cell_type": "markdown",
   "id": "547c6f30-3c94-4a26-88b9-33d0896f6d2e",
   "metadata": {
    "panel-layout": {
     "height": 43.19791793823242,
     "visible": true,
     "width": 100
    }
   },
   "source": [
    "#### **`pop([i])`**: Removes the `item` at the given `index` `i` and **returns it**. If no `index` is specified, it removes and returns the last `item`. Raises an `IndexError` if the array is empty or the index is out of bounds."
   ]
  },
  {
   "cell_type": "code",
   "execution_count": 82,
   "id": "cca7659a-ec10-4c68-a17c-900e8819df82",
   "metadata": {
    "panel-layout": {
     "height": 0,
     "visible": true,
     "width": 100
    }
   },
   "outputs": [
    {
     "name": "stdout",
     "output_type": "stream",
     "text": [
      "Original array: \n",
      "array('i', [30, 60, 10, 0, 20, 40, 50])\n",
      "After pop(2): \n",
      "array('i', [30, 60, 0, 20, 40, 50])\n"
     ]
    }
   ],
   "source": [
    "# pop \n",
    "my_int_array = array('i', [30,60,10, 0, 20, 40, 50])\n",
    "print(f'Original array: \\n{my_int_array}')\n",
    "my_int_array.pop(2)\n",
    "print(f\"After pop(2): \\n{my_int_array}\")"
   ]
  },
  {
   "cell_type": "markdown",
   "id": "87b8159b-4cc9-49f6-b621-049eea8dac0d",
   "metadata": {
    "panel-layout": {
     "height": 43.19791793823242,
     "visible": true,
     "width": 100
    }
   },
   "source": [
    "#### **`itemsize`**: An **attribute** that returns the size in bytes of one array `item` (e.g., 4 for a `'f'` float, 8 for a `'d'` double). This value is constant for a given array type."
   ]
  },
  {
   "cell_type": "code",
   "execution_count": 83,
   "id": "2d7324d3-740c-4bf0-8668-1c0faab118f3",
   "metadata": {
    "panel-layout": {
     "height": 0,
     "visible": true,
     "width": 100
    }
   },
   "outputs": [
    {
     "name": "stdout",
     "output_type": "stream",
     "text": [
      "Itemsize of array with int : \n",
      "4\n"
     ]
    }
   ],
   "source": [
    "my_int_array = array('i', [30,60,10, 1, 20, 40, 50])\n",
    "print(f\"Itemsize of array with int : \\n{my_int_array.itemsize}\")"
   ]
  },
  {
   "cell_type": "code",
   "execution_count": 84,
   "id": "fe9011b8-9025-4515-9344-379018c4961b",
   "metadata": {
    "panel-layout": {
     "height": 0,
     "visible": true,
     "width": 100
    }
   },
   "outputs": [
    {
     "name": "stdout",
     "output_type": "stream",
     "text": [
      "Itemsize of array with int : \n",
      "8\n"
     ]
    }
   ],
   "source": [
    "my_float_array = array('d', [1.1, 2.2, 3.3])\n",
    "print(f\"Itemsize of array with int : \\n{my_float_array.itemsize}\")"
   ]
  },
  {
   "cell_type": "markdown",
   "id": "d7d73ea0-e71d-42a4-a970-fb5d01b03d2a",
   "metadata": {
    "panel-layout": {
     "height": 43.19791793823242,
     "visible": true,
     "width": 100
    }
   },
   "source": [
    "#### **`reverse()`**: Reverses the `order` of the array's `items` **in-place**."
   ]
  },
  {
   "cell_type": "code",
   "execution_count": 85,
   "id": "07e92edc-8c7d-45c0-82dd-32374ed71701",
   "metadata": {
    "panel-layout": {
     "height": 0,
     "visible": true,
     "width": 100
    }
   },
   "outputs": [
    {
     "name": "stdout",
     "output_type": "stream",
     "text": [
      "Original array: \n",
      "array('i', [30, 60, 10, 0, 20, 40, 50])\n",
      "After reverse: \n",
      "array('i', [50, 40, 20, 0, 10, 60, 30])\n"
     ]
    }
   ],
   "source": [
    "# reverse\n",
    "my_int_array = array('i', [30,60,10, 0, 20, 40, 50])\n",
    "print(f'Original array: \\n{my_int_array}')\n",
    "my_int_array.reverse()\n",
    "print(f\"After reverse: \\n{my_int_array}\")"
   ]
  },
  {
   "cell_type": "markdown",
   "id": "0470f2d4-6bb2-4014-a5ce-aaf346b4f6e6",
   "metadata": {
    "panel-layout": {
     "height": 43.19791793823242,
     "visible": true,
     "width": 100
    }
   },
   "source": [
    "#### **`tolist()`**: Converts the array into a regular Python `list` containing the same `items`."
   ]
  },
  {
   "cell_type": "code",
   "execution_count": 86,
   "id": "42c86bff-f8af-49c7-b699-f544e6eed089",
   "metadata": {
    "panel-layout": {
     "height": 0,
     "visible": true,
     "width": 100
    }
   },
   "outputs": [
    {
     "name": "stdout",
     "output_type": "stream",
     "text": [
      "Original array: \n",
      "array('i', [30, 60, 10, 0, 20, 40, 50])\n",
      "Converting array to list: \n",
      "[30, 60, 10, 0, 20, 40, 50]\n"
     ]
    }
   ],
   "source": [
    "# tolist\n",
    "my_int_array = array('i', [30,60,10, 0, 20, 40, 50])\n",
    "print(f'Original array: \\n{my_int_array}')\n",
    "\n",
    "print(f\"Converting array to list: \\n{my_int_array.tolist()}\")"
   ]
  },
  {
   "cell_type": "markdown",
   "id": "d134e60d-b2dc-4811-acb9-dc62e14ab574",
   "metadata": {
    "panel-layout": {
     "height": 43.19791793823242,
     "visible": true,
     "width": 100
    }
   },
   "source": [
    "#### **`fromlist(list)`**: Appends `items` from a standard Python `list`. Each `item` in the `list` must be of the array's typecode. The operation modifies the array **in-place**."
   ]
  },
  {
   "cell_type": "code",
   "execution_count": 87,
   "id": "c622a521-471b-47f3-ad9c-8824343ac04c",
   "metadata": {
    "panel-layout": {
     "height": 0,
     "visible": true,
     "width": 100
    }
   },
   "outputs": [
    {
     "name": "stdout",
     "output_type": "stream",
     "text": [
      "Original list: \n",
      "[30, 60, 10, 0, 20, 40, 50]\n",
      "Converting list into array: \n",
      "array('i', [30, 60, 10, 0, 20, 40, 50])\n"
     ]
    }
   ],
   "source": [
    "# fromlist\n",
    "my_list = [30, 60, 10, 0, 20, 40, 50]\n",
    "print(f'Original list: \\n{my_list}')\n",
    "my_array_int = array('i', [])\n",
    "my_array_int.fromlist(my_list)\n",
    "print(f\"Converting list into array: \\n{my_array_int}\")"
   ]
  },
  {
   "cell_type": "markdown",
   "id": "19025d06-bcf0-4665-9c9b-30e0d1ad1559",
   "metadata": {
    "panel-layout": {
     "height": 391.82293701171875,
     "visible": true,
     "width": 100
    }
   },
   "source": [
    "### Others Arrays methods\n",
    "The array module also includes methods for more advanced and low-level data handling, involving direct memory access and binary file input/output. These specific functionalities, while powerful, are not within the general scope of this book.\n",
    "* **`fromunicode(s)`**: Appends `items` from a Unicode string `s`. This method is only valid when the array's `typecode` is `'u'` (for Unicode characters). The operation modifies the array **in-place**.\n",
    "\n",
    "* **`frombytes(s)`**: Appends `items` from a `bytes` object `s`. The `bytes` object is interpreted as an array of machine values (as if read from a binary file). The operation modifies the array **in-place**.\n",
    "\n",
    "* **`buffer_info()`**: Returns a tuple `(address, length)` providing the current memory address and the number of elements in the buffer used to hold the array's contents. This is a low-level operation primarily for interfacing with C/C++ code.\n",
    "\n",
    "* **`byteswap()`**: Swaps the byte order of all `items` in the array. This is useful when reading data from files or network streams that use a different byte order (endianness). The operation modifies the array **in-place**.\n",
    "\n",
    "* **`fromfile(f, n)`**: Reads `n` `items` from a file object `f` (which must be an open binary file) and appends them to the array. If fewer than `n` `items` are available, it reads as many as possible and raises an `EOFError` if none were read. The operation modifies the array **in-place**.\n",
    "\n",
    "* **`tobytes()`**: Converts the array into a `bytes` object representing the array's contents. The byte order is machine-dependent.\n",
    "\n",
    "* **`tofile(f)`**: Writes all `items` from the array to a file object `f` (which must be an open binary file). The items are written as their machine values.\n",
    "\n",
    "* **`tounicode()`**: Converts the array into a Unicode string. This method is only valid when the array's `typecode` is `'u'` (for Unicode characters).\n",
    "\n",
    "* **`typecode`**: An **attribute** that returns the `typecode` character used to create the array (e.g., `'i'`, `'f'`, `'d'`). This character defines the type of elements the array can hold."
   ]
  },
  {
   "cell_type": "markdown",
   "id": "f438fdd0-e009-46c3-ba12-de0cd249eaea",
   "metadata": {
    "panel-layout": {
     "height": 246.09375,
     "visible": true,
     "width": 100
    }
   },
   "source": [
    "## Summary of Python's Core Data Structures\n",
    "\n",
    "| Data Structure | Type          | Mutability | Ordered  | Allows Duplicates | Accessed By     | Common Use Cases                                                 |\n",
    "| :------------- | :------------ | :--------- | :------- | :---------------- | :-------------- | :--------------------------------------------------------------- |\n",
    "| **List** | Sequence      | Mutable    | ✅ Yes   | ✅ Yes            | Index (e.g., `[0]`) | General-purpose collection, dynamic arrays, ordered items.       |\n",
    "| **Tuple** | Sequence      | Immutable  | ✅ Yes   | ✅ Yes            | Index (e.g., `[0]`) | Fixed collections, function arguments/returns, dictionary keys.  |\n",
    "| **Set** | Unordered Collection | Mutable    | ❌ No    | ❌ No             | N/A (no index)  | Membership testing, removing duplicates, mathematical set ops.   |\n",
    "| **Frozenset** | Unordered Collection | Immutable  | ❌ No    | ❌ No             | N/A (no index)  | Immutable sets, elements of other sets, dictionary keys.         |\n",
    "| **Dictionary** | Mapping       | Mutable    | ✅ Yes  | ❌ No (keys), ✅ Yes (values) | Key (e.g., `['key']`) | Key-value storage, lookup tables, representing structured data.  |\n",
    "| **Array (`array` module)** | Sequence           | Mutable    | ✅ Yes              | ✅ Yes            | Index (e.g., `[0]`) | Memory-efficient storage for large, homogeneous numerical data. |"
   ]
  },
  {
   "cell_type": "markdown",
   "id": "b691ab28-06a7-4fad-af42-9f10a993066a",
   "metadata": {
    "jp-MarkdownHeadingCollapsed": true,
    "panel-layout": {
     "height": 50.8125,
     "visible": true,
     "width": 100
    }
   },
   "source": [
    "## Project"
   ]
  },
  {
   "cell_type": "code",
   "execution_count": null,
   "id": "4b987110-6431-4dc6-8ff4-06cde9ec1191",
   "metadata": {},
   "outputs": [],
   "source": []
  },
  {
   "cell_type": "code",
   "execution_count": 1,
   "id": "215fcdee-b13e-4fc9-a84e-ff84ef07f374",
   "metadata": {},
   "outputs": [
    {
     "name": "stdout",
     "output_type": "stream",
     "text": [
      "\n",
      "--- Bookstore Management System ---\n",
      "1. Add New Book\n",
      "2. View All Books (Inventory)\n",
      "3. Record a Sale\n",
      "4. Generate Sales Report\n",
      "5. Update Daily Sales Quantity (Array Demo)\n",
      "6. Manage Customer Queue (Queue Demo)\n",
      "7. Exit\n",
      "-----------------------------------\n"
     ]
    },
    {
     "name": "stdin",
     "output_type": "stream",
     "text": [
      "Enter your choice (1-7):  1\n"
     ]
    },
    {
     "name": "stdout",
     "output_type": "stream",
     "text": [
      "\n",
      "--- Add New Book ---\n"
     ]
    },
    {
     "name": "stdin",
     "output_type": "stream",
     "text": [
      "Enter Book ID (e.g., B001):  B0093\n",
      "Enter Title:  Game of thrones\n",
      "Enter Author:  George R R \n",
      "Enter Genre:  Fantasy\n",
      "Enter Price: $ 1000\n",
      "Enter Stock Quantity:  17\n"
     ]
    },
    {
     "name": "stdout",
     "output_type": "stream",
     "text": [
      "Book 'Game of thrones' (ID: B0093) added successfully!\n",
      "\n",
      "--- Bookstore Management System ---\n",
      "1. Add New Book\n",
      "2. View All Books (Inventory)\n",
      "3. Record a Sale\n",
      "4. Generate Sales Report\n",
      "5. Update Daily Sales Quantity (Array Demo)\n",
      "6. Manage Customer Queue (Queue Demo)\n",
      "7. Exit\n",
      "-----------------------------------\n"
     ]
    },
    {
     "name": "stdin",
     "output_type": "stream",
     "text": [
      "Enter your choice (1-7):  2\n"
     ]
    },
    {
     "name": "stdout",
     "output_type": "stream",
     "text": [
      "\n",
      "--- Current Book Inventory ---\n",
      "ID: P002\n",
      "  Title: Clean Code\n",
      "  Author: Robert C. Martin\n",
      "  Genre: Programming\n",
      "  Price: $40.00\n",
      "  Stock: 7\n",
      "-------------------------\n",
      "ID: S001\n",
      "  Title: Cosmos\n",
      "  Author: Carl Sagan\n",
      "  Genre: Science\n",
      "  Price: $20.00\n",
      "  Stock: 5\n",
      "-------------------------\n",
      "ID: B0093\n",
      "  Title: Game of thrones\n",
      "  Author: George R R \n",
      "  Genre: Fantasy\n",
      "  Price: $1000.00\n",
      "  Stock: 17\n",
      "-------------------------\n",
      "ID: P001\n",
      "  Title: Python Crash Course\n",
      "  Author: Eric Matthes\n",
      "  Genre: Programming\n",
      "  Price: $35.00\n",
      "  Stock: 10\n",
      "-------------------------\n",
      "ID: F001\n",
      "  Title: The Lord of the Rings\n",
      "  Author: J.R.R. Tolkien\n",
      "  Genre: Fantasy\n",
      "  Price: $25.50\n",
      "  Stock: 15\n",
      "-------------------------\n",
      "\n",
      "--- Bookstore Management System ---\n",
      "1. Add New Book\n",
      "2. View All Books (Inventory)\n",
      "3. Record a Sale\n",
      "4. Generate Sales Report\n",
      "5. Update Daily Sales Quantity (Array Demo)\n",
      "6. Manage Customer Queue (Queue Demo)\n",
      "7. Exit\n",
      "-----------------------------------\n"
     ]
    },
    {
     "name": "stdin",
     "output_type": "stream",
     "text": [
      "Enter your choice (1-7):  7\n"
     ]
    },
    {
     "name": "stdout",
     "output_type": "stream",
     "text": [
      "Exiting Bookstore Management System. Goodbye!\n"
     ]
    }
   ],
   "source": [
    "from array import array\n",
    "from collections import deque\n",
    "\n",
    "# --- Global Data Structures ---\n",
    "# Dictionary: Stores book details (key: book_id, value: dict of details)\n",
    "# Each book's details include title, author, genre, price, and stock.\n",
    "books_inventory = {}\n",
    "\n",
    "# List: Stores transaction records. Each record is a tuple for immutability.\n",
    "# Format: (book_id, quantity_sold, total_price_for_transaction, current_timestamp)\n",
    "sales_transactions = []\n",
    "\n",
    "# Set: Stores unique genres encountered across all books.\n",
    "unique_genres = set()\n",
    "\n",
    "# Array: Stores daily total sales quantities (e.g., total items sold for the last 7 days).\n",
    "# Using 'i' for signed integers, assuming quantities won't exceed standard integer limits.\n",
    "# Initialized to zeros for 7 days.\n",
    "daily_sales_quantity = array('i', [0] * 7)\n",
    "\n",
    "# Deque: Simulates a customer service queue (First-In, First-Out)\n",
    "customer_service_queue = deque()\n",
    "\n",
    "# --- Helper Functions ---\n",
    "\n",
    "def display_menu():\n",
    "    \"\"\"Displays the main menu options to the user.\"\"\"\n",
    "    print(\"\\n--- Bookstore Management System ---\")\n",
    "    print(\"1. Add New Book\")\n",
    "    print(\"2. View All Books (Inventory)\")\n",
    "    print(\"3. Record a Sale\")\n",
    "    print(\"4. Generate Sales Report\")\n",
    "    print(\"5. Update Daily Sales Quantity (Array Demo)\")\n",
    "    print(\"6. Manage Customer Queue (Queue Demo)\")\n",
    "    print(\"7. Exit\")\n",
    "    print(\"-----------------------------------\")\n",
    "\n",
    "def add_book(inventory, genres_set):\n",
    "    \"\"\"\n",
    "    Allows the user to add a new book to the inventory.\n",
    "    Uses dictionary to store book details and set to track unique genres.\n",
    "    \"\"\"\n",
    "    print(\"\\n--- Add New Book ---\")\n",
    "    book_id = input(\"Enter Book ID (e.g., B001): \").upper()\n",
    "    if book_id in inventory:\n",
    "        print(f\"Error: Book ID '{book_id}' already exists. Please choose a unique ID.\")\n",
    "        return\n",
    "\n",
    "    title = input(\"Enter Title: \")\n",
    "    author = input(\"Enter Author: \")\n",
    "    genre = input(\"Enter Genre: \").strip().capitalize() # Clean and capitalize genre for consistency\n",
    "\n",
    "    try:\n",
    "        price = float(input(\"Enter Price: $\"))\n",
    "        stock = int(input(\"Enter Stock Quantity: \"))\n",
    "        if price <= 0 or stock < 0:\n",
    "            raise ValueError(\"Price must be positive, stock non-negative.\")\n",
    "    except ValueError:\n",
    "        print(\"Invalid input for price or stock. Please enter valid numbers.\")\n",
    "        return\n",
    "\n",
    "    # Store book details. While genre is part of the dictionary value,\n",
    "    # the genre itself is also added to a set for unique tracking.\n",
    "    inventory[book_id] = {\n",
    "        'title': title,\n",
    "        'author': author,\n",
    "        'genre': genre,\n",
    "        'price': price,\n",
    "        'stock': stock\n",
    "    }\n",
    "    genres_set.add(genre) # Add genre to the set of unique genres\n",
    "\n",
    "    print(f\"Book '{title}' (ID: {book_id}) added successfully!\")\n",
    "\n",
    "def view_inventory(inventory):\n",
    "    \"\"\"\n",
    "    Displays all books currently in the inventory, sorted by title.\n",
    "    Demonstrates iterating through a dictionary and using a lambda for sorting.\n",
    "    \"\"\"\n",
    "    print(\"\\n--- Current Book Inventory ---\")\n",
    "    if not inventory:\n",
    "        print(\"Inventory is empty. Add some books first!\")\n",
    "        return\n",
    "\n",
    "    # Sort books by title for better readability\n",
    "    # uses a lambda expression as the sorting key\n",
    "    sorted_books = sorted(inventory.items(), key=lambda item: item[1]['title'].lower())\n",
    "\n",
    "    for book_id, details in sorted_books:\n",
    "        print(f\"ID: {book_id}\")\n",
    "        print(f\"  Title: {details['title']}\")\n",
    "        print(f\"  Author: {details['author']}\")\n",
    "        print(f\"  Genre: {details['genre']}\")\n",
    "        print(f\"  Price: ${details['price']:.2f}\")\n",
    "        print(f\"  Stock: {details['stock']}\")\n",
    "        print(\"-\" * 25)\n",
    "\n",
    "def record_sale(inventory, transactions):\n",
    "    \"\"\"\n",
    "    Records a book sale, updates inventory stock, and stores transaction details.\n",
    "    Uses dictionary for inventory lookup, and list to store transaction tuples.\n",
    "    \"\"\"\n",
    "    print(\"\\n--- Record a Sale ---\")\n",
    "    book_id = input(\"Enter Book ID to purchase: \").upper()\n",
    "\n",
    "    if book_id not in inventory:\n",
    "        print(\"Error: Book not found in inventory. Please check the ID.\")\n",
    "        return\n",
    "\n",
    "    book = inventory[book_id]\n",
    "    print(f\"Book selected: {book['title']} (Current Stock: {book['stock']})\")\n",
    "\n",
    "    try:\n",
    "        qty = int(input(\"Enter quantity to purchase: \"))\n",
    "        if qty <= 0:\n",
    "            raise ValueError(\"Quantity must be positive.\")\n",
    "        if qty > book['stock']:\n",
    "            print(f\"Error: Not enough stock. Only {book['stock']} units of '{book['title']}' available.\")\n",
    "            return\n",
    "    except ValueError:\n",
    "        print(\"Invalid quantity. Please enter a valid whole number.\")\n",
    "        return\n",
    "\n",
    "    # Update stock in inventory (dictionary modification)\n",
    "    book['stock'] -= qty\n",
    "    total_price = qty * book['price']\n",
    "\n",
    "    # Create a transaction record as a tuple (immutable)\n",
    "    # Includes a timestamp for more realism\n",
    "    import time\n",
    "    current_timestamp = int(time.time()) # Unix timestamp (integer seconds since epoch)\n",
    "    transaction_record = (book_id, qty, total_price, current_timestamp) # Tuple packing\n",
    "\n",
    "    # Add the transaction to the list of all sales\n",
    "    transactions.append(transaction_record)\n",
    "\n",
    "    print(f\"Sale recorded: {qty} x '{book['title']}' for ${total_price:.2f}\")\n",
    "    print(f\"Remaining stock for '{book['title']}': {book['stock']}\")\n",
    "\n",
    "def generate_report(transactions, inventory, genres_set, daily_sales_array):\n",
    "    \"\"\"\n",
    "    Generates a sales report, showing total revenue, top-selling books/genres,\n",
    "    and unique genres in the system. Demonstrates set operations and array usage.\n",
    "    \"\"\"\n",
    "    print(\"\\n--- Sales Report ---\")\n",
    "    if not transactions:\n",
    "        print(\"No sales recorded yet to generate a report.\")\n",
    "        return\n",
    "\n",
    "    total_revenue = 0.0\n",
    "    book_sales_count = {} # Dictionary to count units sold per book\n",
    "    genre_sales_count = {} # Dictionary to count units sold per genre\n",
    "\n",
    "    # Iterate through sales_transactions (a list of tuples)\n",
    "    for transaction in transactions:\n",
    "        # Tuple unpacking\n",
    "        book_id, qty, total_sale_value, _ = transaction\n",
    "        total_revenue += total_sale_value\n",
    "\n",
    "        # Update sales count for book (dictionary .get() for safe updates)\n",
    "        book_sales_count[book_id] = book_sales_count.get(book_id, 0) + qty\n",
    "\n",
    "        # Get genre from inventory and update genre sales count\n",
    "        if book_id in inventory: # Check if book still exists in inventory\n",
    "            genre = inventory[book_id]['genre']\n",
    "            genre_sales_count[genre] = genre_sales_count.get(genre, 0) + qty\n",
    "        else:\n",
    "            print(f\"Warning: Book ID '{book_id}' from transaction not found in current inventory.\")\n",
    "\n",
    "    print(f\"Total Revenue from All Sales: ${total_revenue:.2f}\")\n",
    "\n",
    "    print(\"\\n--- Book Sales Summary ---\")\n",
    "    if not book_sales_count:\n",
    "        print(\"No book sales to summarize.\")\n",
    "    else:\n",
    "        # Sort books by quantity sold (descending) using a lambda function\n",
    "        sorted_book_sales = sorted(book_sales_count.items(), key=lambda item: item[1], reverse=True)\n",
    "        for book_id, count in sorted_book_sales:\n",
    "            title = inventory.get(book_id, {}).get('title', 'Unknown Book (ID not found)')\n",
    "            print(f\"  '{title}' (ID: {book_id}): {count} units sold\")\n",
    "\n",
    "    print(\"\\n--- Genre Sales Summary ---\")\n",
    "    if not genre_sales_count:\n",
    "        print(\"No genre sales to summarize.\")\n",
    "    else:\n",
    "        # Sort genres by quantity sold (descending)\n",
    "        sorted_genre_sales = sorted(genre_sales_count.items(), key=lambda item: item[1], reverse=True)\n",
    "        for genre, count in sorted_genre_sales:\n",
    "            print(f\"  {genre}: {count} units sold\")\n",
    "\n",
    "    print(\"\\n--- All Unique Genres in System (Set Demo) ---\")\n",
    "    if genres_set:\n",
    "        # Convert set to list for sorting (sets are unordered), then join for display\n",
    "        print(f\"  Genres: {', '.join(sorted(list(genres_set)))}\")\n",
    "    else:\n",
    "        print(\"No genres added to the system yet.\")\n",
    "\n",
    "    print(\"\\n--- Daily Sales Quantity (Array Demo) ---\")\n",
    "    # Show array contents and simple operations, demonstrating its homogeneous nature\n",
    "    print(f\"  Last {len(daily_sales_array)} days sales quantities: {daily_sales_array.tolist()} items\")\n",
    "    print(f\"  Total items sold in last {len(daily_sales_array)} days: {sum(daily_sales_array)} items\")\n",
    "    # Example of accessing an array element\n",
    "    print(f\"  Sales quantity 3 days ago (index {len(daily_sales_array)-4}): {daily_sales_array[len(daily_sales_array)-4]} items\")\n",
    "\n",
    "\n",
    "def update_daily_sales_array(daily_sales_array):\n",
    "    \"\"\"\n",
    "    Updates the daily sales quantity array.\n",
    "    Demonstrates array modification and shifting elements.\n",
    "    \"\"\"\n",
    "    print(\"\\n--- Update Daily Sales Quantity ---\")\n",
    "    print(f\"Current last {len(daily_sales_array)} days sales quantities: {daily_sales_array.tolist()}\")\n",
    "    try:\n",
    "        new_sale_qty = int(input(\"Enter today's total sales quantity (integer): \"))\n",
    "        if new_sale_qty < 0:\n",
    "            raise ValueError(\"Quantity cannot be negative.\")\n",
    "\n",
    "        # Shift old data to the left and add new data to the right (like a moving window)\n",
    "        # This loop demonstrates modifying an array's elements by index\n",
    "        for i in range(len(daily_sales_array) - 1):\n",
    "            daily_sales_array[i] = daily_sales_array[i+1] # Move value from right to left\n",
    "        daily_sales_array[-1] = new_sale_qty # Place new quantity at the end\n",
    "\n",
    "        print(\"Daily sales quantity updated successfully.\")\n",
    "    except ValueError as e:\n",
    "        print(f\"Invalid input: {e}. Please enter a non-negative integer.\")\n",
    "\n",
    "def manage_customer_queue(customer_queue):\n",
    "    \"\"\"\n",
    "    Manages a simple customer service queue using collections.deque.\n",
    "    Demonstrates FIFO principle (append for enqueue, popleft for dequeue).\n",
    "    \"\"\"\n",
    "    print(\"\\n--- Customer Service Queue ---\")\n",
    "    if not customer_queue:\n",
    "        print(\"Customer queue is currently empty.\")\n",
    "    else:\n",
    "        print(f\"Customers waiting: {list(customer_queue)}\") # Convert deque to list for easy printing\n",
    "\n",
    "    while True:\n",
    "        queue_action = input(\"Action (add/serve/view/back): \").lower().strip()\n",
    "        if queue_action == 'add':\n",
    "            new_customer_id = input(\"Enter new customer ID: \")\n",
    "            customer_queue.append(new_customer_id) # Enqueue\n",
    "            print(f\"Customer '{new_customer_id}' added to queue.\")\n",
    "        elif queue_action == 'serve':\n",
    "            if customer_queue:\n",
    "                served_customer = customer_queue.popleft() # Dequeue\n",
    "                print(f\"Served customer: '{served_customer}'\")\n",
    "            else:\n",
    "                print(\"Queue is empty. No customer to serve.\")\n",
    "        elif queue_action == 'view':\n",
    "            if customer_queue:\n",
    "                print(f\"Current queue: {list(customer_queue)}\")\n",
    "            else:\n",
    "                print(\"Queue is empty.\")\n",
    "        elif queue_action == 'back':\n",
    "            print(\"Returning to main menu.\")\n",
    "            break\n",
    "        else:\n",
    "            print(\"Invalid action. Please choose 'add', 'serve', 'view', or 'back'.\")\n",
    "\n",
    "# --- Main Program Loop ---\n",
    "def main():\n",
    "    \"\"\"\n",
    "    The main function to run the bookstore management system.\n",
    "    Initializes dummy data and manages the main menu loop using if/elif/else.\n",
    "    \"\"\"\n",
    "    # Initial dummy data to start with (Dictionaries and initial Set population)\n",
    "    books_inventory['P001'] = {'title': 'Python Crash Course', 'author': 'Eric Matthes', 'genre': 'Programming', 'price': 35.00, 'stock': 10}\n",
    "    books_inventory['F001'] = {'title': 'The Lord of the Rings', 'author': 'J.R.R. Tolkien', 'genre': 'Fantasy', 'price': 25.50, 'stock': 15}\n",
    "    books_inventory['S001'] = {'title': 'Cosmos', 'author': 'Carl Sagan', 'genre': 'Science', 'price': 20.00, 'stock': 5}\n",
    "    books_inventory['P002'] = {'title': 'Clean Code', 'author': 'Robert C. Martin', 'genre': 'Programming', 'price': 40.00, 'stock': 7}\n",
    "\n",
    "    # Populate unique_genres set from initial books\n",
    "    for book_id in books_inventory:\n",
    "        unique_genres.add(books_inventory[book_id]['genre'])\n",
    "\n",
    "    # Add some dummy sales transactions (List of Tuples)\n",
    "    # (book_id, quantity, total_price, timestamp)\n",
    "    sales_transactions.append(('P001', 2, 70.00, 1720000000)) # Example timestamp\n",
    "    sales_transactions.append(('F001', 1, 25.50, 1720005000))\n",
    "    sales_transactions.append(('P001', 1, 35.00, 1720010000))\n",
    "    sales_transactions.append(('S001', 3, 60.00, 1720015000))\n",
    "\n",
    "    # Add some dummy daily sales quantities for the array (last 7 days)\n",
    "    # The array is mutable and will be updated directly.\n",
    "    daily_sales_quantity[0] = 5  # 7 days ago\n",
    "    daily_sales_quantity[1] = 8\n",
    "    daily_sales_quantity[2] = 3\n",
    "    daily_sales_quantity[3] = 12\n",
    "    daily_sales_quantity[4] = 6\n",
    "    daily_sales_quantity[5] = 9\n",
    "    daily_sales_quantity[6] = 15 # Yesterday's sales quantity\n",
    "\n",
    "    # Add some initial customers to the queue\n",
    "    customer_service_queue.append(\"Alice's Order\")\n",
    "    customer_service_queue.append(\"Bob's Inquiry\")\n",
    "\n",
    "    while True:\n",
    "        display_menu()\n",
    "        choice = input(\"Enter your choice (1-7): \").strip()\n",
    "\n",
    "        if choice == '1':\n",
    "            add_book(books_inventory, unique_genres)\n",
    "        elif choice == '2':\n",
    "            view_inventory(books_inventory)\n",
    "        elif choice == '3':\n",
    "            record_sale(books_inventory, sales_transactions)\n",
    "        elif choice == '4':\n",
    "            generate_report(sales_transactions, books_inventory, unique_genres, daily_sales_quantity)\n",
    "        elif choice == '5':\n",
    "            update_daily_sales_array(daily_sales_quantity)\n",
    "        elif choice == '6':\n",
    "            manage_customer_queue(customer_service_queue)\n",
    "        elif choice == '7':\n",
    "            print(\"Exiting Bookstore Management System. Goodbye!\")\n",
    "            break # Exit the main loop\n",
    "        else:\n",
    "            print(\"Invalid choice. Please enter a number between 1 and 7.\")\n",
    "\n",
    "# This ensures the main() function runs only when the script is executed directly\n",
    "if __name__ == \"__main__\":\n",
    "    main()"
   ]
  },
  {
   "cell_type": "code",
   "execution_count": null,
   "id": "e4072ab4-51d7-4e48-9306-52bfcc3711d5",
   "metadata": {},
   "outputs": [],
   "source": []
  },
  {
   "cell_type": "code",
   "execution_count": null,
   "id": "fa240c45-2808-42a1-9bc4-508ba0960221",
   "metadata": {},
   "outputs": [],
   "source": []
  }
 ],
 "metadata": {
  "kernelspec": {
   "display_name": "Python 3 (ipykernel)",
   "language": "python",
   "name": "python3"
  },
  "language_info": {
   "codemirror_mode": {
    "name": "ipython",
    "version": 3
   },
   "file_extension": ".py",
   "mimetype": "text/x-python",
   "name": "python",
   "nbconvert_exporter": "python",
   "pygments_lexer": "ipython3",
   "version": "3.12.2"
  },
  "panel-cell-order": [
   "5673a831-97fc-4668-b5d2-e4ace1863e37",
   "b0d1e8d7-ebb2-4855-8fa0-0fd5a4e7e7a6",
   "fbd3312e-9259-480a-b6a2-b66d9acd8602",
   "7ffafa00-6b48-4cb4-9f0e-4691552ff0d1",
   "e689eb4c-6f73-41f7-a69d-cfb38fc62a89",
   "03bede48-cd81-4550-b8d8-3603f6d9db4c",
   "90430eaa-d8ff-4751-a8e5-9cd0bf0201ca",
   "78699091-de5c-46c0-884a-d25e6d301fbd",
   "9319e8fc-ee55-4ba1-9d02-33d2fb01db43",
   "7b7b94d2-3958-4529-9241-9b8a5e765400",
   "5f9d494a-b770-4408-a5c4-b4faecd05827",
   "e5f1a157-4cb8-4a3c-bcfd-4eb816905eab",
   "a0649995-898d-420c-8421-f489461e935c",
   "424da653-c839-46f4-b230-913352054689",
   "e871b991-7ce3-4857-95e2-93c7987a8d75",
   "7ce2b1c3-2211-4c17-82d4-562720e890f6",
   "f13e8349-20bf-4d57-a137-3a331d64d27d",
   "5999585d-319c-480a-8b5d-95c46c707da3",
   "466d09e8-13e7-40e7-8877-e069df2282a6",
   "41a0ecd8-0a9c-4838-b504-7597ab2410fb",
   "1fcf266d-8bd1-4a7f-b4cf-5a10d6fdfce1",
   "bfb4f2f8-a9ce-43d7-9cb5-c8bffc85e616",
   "dab2a24d-19fe-4af6-8986-0c612312c8ef",
   "0a323ef9-58a5-4851-a033-346ce1a85455",
   "74d14d10-bfed-4fe1-8f57-c7c98cfe1c6d",
   "029af111-9470-49c8-9a64-5401366fc6fb",
   "293f66e4-93e9-42ff-a622-4203ae6f364c",
   "f4a584fb-84e0-41b0-9099-7dcc3f3cfccc",
   "052c3fc4-e07f-469e-a191-dd4bea055d10",
   "85cc2238-3954-47b0-8d11-ebb9492e05a9",
   "992dc881-f1b3-4424-a8c2-3b454abff65d",
   "0073bbc6-5122-4884-8d75-2edd6a6ce943",
   "80849c3b-ab70-4ae7-88d5-0c425bf28dab",
   "d2e34ff9-a555-4819-8ecd-fc32e5184c02",
   "bc824883-c90b-41a9-a67e-1a3f9691de3d",
   "45312094-bc59-403a-9cfc-5871e3ef0085",
   "a00733f1-13ee-488d-b010-08031866796f",
   "c9b1510e-2cdf-4f43-9b6c-ada124a58aec",
   "e03eaf1e-3526-420a-b217-59349eecfa5f",
   "82d5e4df-a865-4a56-aedd-b6e4c407f738",
   "cd59ab48-bc00-4b56-af12-25e460628c45",
   "f1b72d86-0e34-45f6-b81b-209a79f33c26",
   "4808ce46-2a01-4bc5-a611-c45392d2209e",
   "c60aa79f-fc35-401a-8676-4f4de0333426",
   "55b1e76a-1439-4c18-8523-0cbe2b450880",
   "4e021b61-60fa-46bb-8dfa-252843ed9222",
   "0d095190-0e75-42c4-986b-d92c0466031b",
   "50bc86e0-bd89-43dc-a47e-54c3b7f1aaf0",
   "045dcf9e-9a81-4b20-a4de-307f35200fc6",
   "c8098103-b0ac-4437-bb69-6d69fd2638f2",
   "494432c9-dc68-409b-8ae9-3554ff3df323",
   "9e853c2e-a918-483c-b7e9-03130e97ce17",
   "6cdc802c-389a-40b6-9b7e-94094c7b5417",
   "84216b5a-7d28-4cae-b54b-8628a5585290",
   "9861f345-8639-4c1c-a4b5-97f03f6bd434",
   "233d0090-6e78-46cd-8ef2-72d2a3a6ac1e",
   "b464cfea-c4f7-4090-b0d1-4f7d1cc6e0be",
   "c9939a49-4031-416c-bcc3-e07ae01fb031",
   "84d5895f-a335-484c-86ee-5491fb52e31a",
   "282e07fd-8dfb-46c5-8944-c98380d0f9cb",
   "a4b08d28-35d2-4f60-8a9a-a77b092cbb28",
   "3f6f319d-4e3d-403c-b140-c74da82630f5",
   "f8659431-ffdc-4347-9ea4-e85e78777a7f",
   "4ae30b7e-a7fe-4971-b664-88b45c8b260c",
   "cad7d7c3-4092-4b6b-9b4f-8d6676409051",
   "c6d78df3-3364-4343-9bf6-d066cba12970",
   "bb4a76ca-b627-4b56-aa53-46cc07ebf886",
   "63d7de10-ec94-4873-9193-8852e92f33b6",
   "66c0cac2-4a34-459e-9413-9851a3ee2a34",
   "d96b51fa-7175-43c3-84db-719b663ad5a7",
   "cc531259-0341-465b-b1cc-9d490b382dc7",
   "e4b09692-aacc-4383-8522-d073eba885e0",
   "8c35d682-8539-45b2-8e65-34f2dc3584b1",
   "dd23689a-0733-4144-b7d2-1018ce5d2d7d",
   "fbf9dac6-f822-4bc3-8c67-4b9598c0ed47",
   "bdd40eef-4a1f-4f80-b91a-91f08638e187",
   "94525236-1363-414f-b15e-e9b264d793cc",
   "cd4da611-a34a-47e9-82e6-2013e4aa27fe",
   "b4d25f86-4cb0-454a-90f0-23d5b06bd6f0",
   "d1ab955b-7b73-4e52-bf1d-26a0bc8d1440",
   "85f26571-a70e-451d-97c0-eb9f2c5bcb33",
   "7ac30a40-91a5-48dd-b1fc-0c84313fc9e1",
   "9deb82f8-80a4-43b1-b9cf-056ddcaa7616",
   "7a92b977-08d5-4398-9982-9ee94afe34f0",
   "b0fc76ea-a541-4a95-91c7-16e2bf7fe049",
   "d2d82a40-97de-4fd4-8940-b7715ceb52cb",
   "2543deb5-d9d6-42fd-8757-4218bd74d8f7",
   "a4faa2f5-1e79-4be6-afbb-980084800268",
   "a02d896b-d446-4d7e-b6ae-c000f1842942",
   "9f078992-1921-42b1-802b-279849c0f84d",
   "389dc326-e890-42d4-b54e-72c7a8e5d13d",
   "4fba568f-a659-4ee8-b199-606e3ba49326",
   "eb85c551-e79c-4d39-b14d-d8e358ce3677",
   "18a46369-1401-457f-8ece-e0ba3cc2d864",
   "e21be853-0d11-4511-a83a-a36718a854c4",
   "b76ea89d-2a86-4dae-815a-6806f9400cbf",
   "5eceac3d-e0ae-4440-9505-0ea03b6c6c51",
   "525d744b-a6f7-4ab2-9fcc-8355eeff6d2b",
   "10d3ca68-83c1-48a7-88d1-ce1e1775a496",
   "1bcc00a8-3197-4321-8de8-9edfcf57af43",
   "13f65968-33a8-4080-8255-b1d2f7a75528",
   "427898d6-bad9-4b0a-aeba-afe5f51eff74",
   "5a4addbe-a563-4f94-bc7b-fab72afcc950",
   "a95935cf-90e5-41dc-8dde-e3f326dd1ce1",
   "0d964972-39b0-4fdb-a181-82ab536c527c",
   "ede2f19c-2c2e-4b1c-b4ea-41259dfefcd0",
   "605fb1d7-870c-47f4-84db-c08ce1302c00",
   "ef7779cc-4d6c-41e6-b7df-440a7b68958f",
   "30878e6b-055e-4753-a5d1-41d035fb29cb",
   "31be384e-51b0-4249-92d5-f0ef67adbb4b",
   "c8a5790e-fc9f-4a04-a74e-a21b9ee60556",
   "ce233423-39d5-4769-a341-6527c5e969f6",
   "0c14a1df-c10e-4354-a94a-b6c66fd7d5e2",
   "6ef17bd7-3c04-4641-a96b-2e6204b0be45",
   "2a9637cb-ffb6-472b-a65c-699ffee5e65b",
   "607b50e9-fc7b-4904-973a-e9c631f2e4fa",
   "3cd1d290-ebb8-40fd-96a8-422f49b54b30",
   "d9adac04-1ecd-4c93-8ed0-59e8211819c0",
   "1e41a25b-c301-4ddb-a46b-0954a27ff11a",
   "1d2025a7-f15c-46af-932d-129350b52bc5",
   "9d250d57-bc0a-4505-af20-8fa100388c24",
   "5f842d42-2d0e-4d88-b16a-7d3f50d0d0ac",
   "10aee686-b8fa-4bdf-a282-9eff7cdd1bf4",
   "d323fb07-dfc7-4f03-8029-d30cc1c8107e",
   "86133bb0-e2cb-4a11-b495-97a9674c1bc1",
   "da5e4591-97fd-45ea-aaee-9189c5aa5a7c",
   "9d36edf2-1d11-4346-afb3-61241f80aa66",
   "fbf30e6b-e636-4752-a0e1-0e07e22bba40",
   "4c36bc0a-14f5-403f-a5cd-cab7891df680",
   "66f9373a-8421-4394-b331-c2c531029b53",
   "22d0917d-5b37-4bff-bb9c-06a13fb43d4a",
   "4c888fb5-8c53-4e17-84fd-cf72cced5415",
   "569a329f-4c21-49a7-8e23-da7dbbe862df",
   "a81eb160-71ce-4c7d-9dfe-362ca8dd47fe",
   "ab5d7bee-38ba-4e42-8e0a-4b625133ab18",
   "878f4b24-7955-4a58-b5d8-d717f90777fb",
   "80c237a8-207c-43ae-af36-bf0eee331e2b",
   "547c6f30-3c94-4a26-88b9-33d0896f6d2e",
   "cca7659a-ec10-4c68-a17c-900e8819df82",
   "87b8159b-4cc9-49f6-b621-049eea8dac0d",
   "2d7324d3-740c-4bf0-8668-1c0faab118f3",
   "fe9011b8-9025-4515-9344-379018c4961b",
   "d7d73ea0-e71d-42a4-a970-fb5d01b03d2a",
   "07e92edc-8c7d-45c0-82dd-32374ed71701",
   "0470f2d4-6bb2-4014-a5ce-aaf346b4f6e6",
   "42c86bff-f8af-49c7-b699-f544e6eed089",
   "d134e60d-b2dc-4811-acb9-dc62e14ab574",
   "c622a521-471b-47f3-ad9c-8824343ac04c",
   "19025d06-bcf0-4665-9c9b-30e0d1ad1559",
   "f438fdd0-e009-46c3-ba12-de0cd249eaea",
   "b691ab28-06a7-4fad-af42-9f10a993066a"
  ]
 },
 "nbformat": 4,
 "nbformat_minor": 5
}
