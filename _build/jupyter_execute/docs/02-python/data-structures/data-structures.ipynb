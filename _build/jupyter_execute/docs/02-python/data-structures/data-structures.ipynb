{
 "cells": [
  {
   "cell_type": "markdown",
   "id": "5673a831-97fc-4668-b5d2-e4ace1863e37",
   "metadata": {},
   "source": [
    "# Data Structures in Python\n",
    "\n",
    "In programming, a **data structure** is a specialized format for organizing, processing, retrieving, and storing data. They are fundamental building blocks that allow you to manage data efficiently. Python offers several powerful built-in data structures, each with unique properties and use cases.\n",
    "\n",
    "## Lists\n",
    "\n",
    "A `list` is a versatile and common data structure that holds an ordered collection of items.\n",
    "\n",
    "  * **Characteristics:**\n",
    "\n",
    "      * **Ordered:** Items are stored in a defined sequence, and their order will not change.\n",
    "      * **Mutable:** You can change, add, or remove items after the list has been created.\n",
    "      * **Allows Duplicates:** Can contain multiple items with the same value.\n",
    "      * **Indexed:** Items can be accessed using an integer index, starting from `0`.\n",
    "      * **Heterogeneous:** Can contain items of different data types (integers, strings, floats, other lists, etc.).\n",
    "\n",
    "  * **Syntax:**\n",
    "    `[item1, item2, item3, ...]`"
   ]
  }
 ],
 "metadata": {
  "kernelspec": {
   "display_name": "Python 3 (ipykernel)",
   "language": "python",
   "name": "python3"
  },
  "language_info": {
   "codemirror_mode": {
    "name": "ipython",
    "version": 3
   },
   "file_extension": ".py",
   "mimetype": "text/x-python",
   "name": "python",
   "nbconvert_exporter": "python",
   "pygments_lexer": "ipython3",
   "version": "3.12.2"
  }
 },
 "nbformat": 4,
 "nbformat_minor": 5
}