{
 "cells": [
  {
   "cell_type": "markdown",
   "id": "5673a831-97fc-4668-b5d2-e4ace1863e37",
   "metadata": {},
   "source": [
    "# Data Structures in Python\n",
    "\n",
    "In programming, a **data structure** is a specialized format for organizing, processing, retrieving, and storing data. They are fundamental building blocks that allow you to manage data efficiently and effectively. Choosing the right data structure for a given task is crucial for writing performant, readable, and maintainable code.\n",
    "\n",
    "Python offers several powerful built-in data structures, each with unique properties and use cases. Understanding their characteristics is key to leveraging Python's full potential.\n",
    "\n",
    "## Lists\n",
    "\n",
    "A `list` is Python's most versatile and widely used ordered collection of items.\n",
    "\n",
    "  * **Definition/Purpose:** A sequence of items, similar to an array in other languages, but with greater flexibility.\n",
    "\n",
    "  * **Key Characteristics:**\n",
    "\n",
    "      * **Ordered:** Items are stored in a defined sequence based on their insertion order. This order will not change unless explicitly modified.\n",
    "      * **Mutable:** You can change, add, or remove items after the list has been created. This \"changeability\" is a primary distinction from tuples.\n",
    "      * **Allows Duplicates:** Can contain multiple items with the same value.\n",
    "      * **Indexed:** Items can be accessed using an integer index, starting from `0` for the first element. Negative indexing allows access from the end (`-1` for the last element).\n",
    "      * **Slicing:** Supports slicing to extract sub-sequences of elements.\n",
    "      * **Heterogeneous:** Can contain items of different data types within the same list (integers, strings, floats, booleans, other lists, tuples, dictionaries, etc.).\n",
    "      * **Dynamic Size:** Can grow or shrink as needed.\n",
    "\n",
    "  * **Syntax:**\n",
    "    `[item1, item2, item3, ...]`\n"
   ]
  },
  {
   "cell_type": "code",
   "execution_count": 1,
   "id": "b0d1e8d7-ebb2-4855-8fa0-0fd5a4e7e7a6",
   "metadata": {},
   "outputs": [
    {
     "name": "stdout",
     "output_type": "stream",
     "text": [
      "Empty list: []\n",
      "List of numbers: [10, 20, 30, 40, 50]\n",
      "Mixed list: ['apple', 1, True, 3.14, [6, 7]]\n"
     ]
    }
   ],
   "source": [
    "# Creating a list\n",
    "empty_list = []\n",
    "my_numbers = [10, 20, 30, 40, 50]\n",
    "mixed_list = [\"apple\", 1, True, 3.14, [6, 7]] # A list containing other data types\n",
    "\n",
    "print(f\"Empty list: {empty_list}\")\n",
    "print(f\"List of numbers: {my_numbers}\")\n",
    "print(f\"Mixed list: {mixed_list}\")"
   ]
  },
  {
   "cell_type": "markdown",
   "id": "fbd3312e-9259-480a-b6a2-b66d9acd8602",
   "metadata": {},
   "source": [
    "### Common List Methods\n",
    "\n",
    "Python's lists come with a rich set of built-in methods for manipulation. Remember that many of these methods modify the list **in-place** and do not return a new list.\n",
    "\n",
    "  * **`append(item)`:** Adds a single `item` to the end of the list.\n",
    "  * **`extend(iterable)`:** Adds all items from an `iterable` (like another list) to the end of the list.\n",
    "  * **`insert(index, item)`:** Inserts an `item` at a specific `index`.\n",
    "  * **`remove(value)`:** Removes the **first occurrence** of a specified `value`. Raises a `ValueError` if the value is not found.\n",
    "  * **`pop([index])`:** Removes the item at the given `index` and **returns it**. If no index is specified, it removes and returns the last item.\n",
    "  * **`clear()`:** Removes all items from the list, making it empty.\n",
    "  * **`index(value)`:** Returns the index of the first occurrence of a `value`. Raises a `ValueError` if the value is not found.\n",
    "  * **`count(value)`:** Returns the number of times a `value` appears in the list.\n",
    "  * **`sort()`:** Sorts the list's items **in-place** in ascending order. You can use `reverse=True` for descending order.\n",
    "  * **`reverse()`:** Reverses the order of the list's items **in-place**.\n",
    "  * **`copy()`:** Returns a **shallow copy** of the list. This is important to avoid modifying the original list unintentionally."
   ]
  },
  {
   "cell_type": "code",
   "execution_count": 2,
   "id": "03bede48-cd81-4550-b8d8-3603f6d9db4c",
   "metadata": {},
   "outputs": [
    {
     "name": "stdout",
     "output_type": "stream",
     "text": [
      "Initial list: ['apple', 'banana', 'cherry']\n",
      "After append('date'): ['apple', 'banana', 'cherry', 'date']\n"
     ]
    }
   ],
   "source": [
    "fruits = [\"apple\", \"banana\", \"cherry\"]\n",
    "print(f\"Initial list: {fruits}\")\n",
    "\n",
    "# append()\n",
    "fruits.append(\"date\")\n",
    "print(f\"After append('date'): {fruits}\") # Output: ['apple', 'banana', 'cherry', 'date']"
   ]
  },
  {
   "cell_type": "code",
   "execution_count": 3,
   "id": "78699091-de5c-46c0-884a-d25e6d301fbd",
   "metadata": {},
   "outputs": [
    {
     "name": "stdout",
     "output_type": "stream",
     "text": [
      "After extend(['elderberry', 'fig']): ['apple', 'banana', 'cherry', 'date', 'elderberry', 'fig']\n"
     ]
    }
   ],
   "source": [
    "# extend()\n",
    "fruits.extend([\"elderberry\", \"fig\"])\n",
    "print(f\"After extend(['elderberry', 'fig']): {fruits}\") # Output: ['apple', 'banana', 'cherry', 'date', 'elderberry', 'fig']"
   ]
  },
  {
   "cell_type": "code",
   "execution_count": 4,
   "id": "e5f1a157-4cb8-4a3c-bcfd-4eb816905eab",
   "metadata": {},
   "outputs": [
    {
     "name": "stdout",
     "output_type": "stream",
     "text": [
      "After remove('banana'): ['apple', 'cherry', 'date', 'elderberry', 'fig']\n"
     ]
    }
   ],
   "source": [
    "# remove()\n",
    "fruits.remove(\"banana\")\n",
    "print(f\"After remove('banana'): {fruits}\") # Output: ['apple', 'cherry', 'date', 'elderberry', 'fig']"
   ]
  },
  {
   "cell_type": "code",
   "execution_count": 5,
   "id": "7ce2b1c3-2211-4c17-82d4-562720e890f6",
   "metadata": {},
   "outputs": [
    {
     "name": "stdout",
     "output_type": "stream",
     "text": [
      "Popped last: fig, Popped first: apple, List: ['cherry', 'date', 'elderberry']\n"
     ]
    }
   ],
   "source": [
    "# pop()\n",
    "last_fruit = fruits.pop() # Removes 'fig'\n",
    "first_fruit = fruits.pop(0) # Removes 'apple'\n",
    "print(f\"Popped last: {last_fruit}, Popped first: {first_fruit}, List: {fruits}\")"
   ]
  },
  {
   "cell_type": "code",
   "execution_count": 6,
   "id": "5999585d-319c-480a-8b5d-95c46c707da3",
   "metadata": {},
   "outputs": [
    {
     "name": "stdout",
     "output_type": "stream",
     "text": [
      "Index of first '5': 1\n",
      "Count of '5': 3\n"
     ]
    }
   ],
   "source": [
    "# index() and count()\n",
    "numbers = [1, 5, 8, 5, 2, 5]\n",
    "print(f\"Index of first '5': {numbers.index(5)}\") # Output: 1\n",
    "print(f\"Count of '5': {numbers.count(5)}\") # Output: 3"
   ]
  },
  {
   "cell_type": "code",
   "execution_count": 7,
   "id": "bfb4f2f8-a9ce-43d7-9cb5-c8bffc85e616",
   "metadata": {},
   "outputs": [
    {
     "name": "stdout",
     "output_type": "stream",
     "text": [
      "After sort(): [1, 2, 5, 5, 5, 8]\n",
      "After reverse(): [8, 5, 5, 5, 2, 1]\n"
     ]
    }
   ],
   "source": [
    "# sort() and reverse()\n",
    "numbers.sort()\n",
    "print(f\"After sort(): {numbers}\") # Output: [1, 2, 5, 5, 5, 8]\n",
    "numbers.reverse()\n",
    "print(f\"After reverse(): {numbers}\") # Output: [8, 5, 5, 5, 2, 1]"
   ]
  },
  {
   "cell_type": "code",
   "execution_count": 8,
   "id": "029af111-9470-49c8-9a64-5401366fc6fb",
   "metadata": {},
   "outputs": [
    {
     "name": "stdout",
     "output_type": "stream",
     "text": [
      "\n",
      "Original after modifying copy: [[99, 2], 3, 4]\n",
      "Copied list: [[99, 2], 3, 4]\n"
     ]
    }
   ],
   "source": [
    "# copy() (Shallow vs. Deep)\n",
    "# A shallow copy creates a new list, but references to nested objects are shared.\n",
    "original = [[1, 2], 3, 4]\n",
    "copied = original.copy()\n",
    "copied[0][0] = 99 # This will change the original list too, as the inner list is shared!\n",
    "print(f\"\\nOriginal after modifying copy: {original}\") # Output: [[99, 2], 3, 4]\n",
    "print(f\"Copied list: {copied}\") # Output: [[99, 2], 3, 4]"
   ]
  },
  {
   "cell_type": "markdown",
   "id": "293f66e4-93e9-42ff-a622-4203ae6f364c",
   "metadata": {},
   "source": [
    "#### Using the `del` statement\n",
    "\n",
    "The `del` keyword is a **statement**, not a list method (which is why it's not called like `del()`). It is a general-purpose statement in Python used to delete objects, including items from a list at a specified index or a slice.\n",
    "\n",
    "  * **Syntax:** `del list[index]` or `del list[start:end]`\n",
    "  * **Behavior:** It removes the item(s) from the list at the specified position(s) and does **not** return the removed item(s)."
   ]
  },
  {
   "cell_type": "code",
   "execution_count": 9,
   "id": "f4a584fb-84e0-41b0-9099-7dcc3f3cfccc",
   "metadata": {},
   "outputs": [
    {
     "name": "stdout",
     "output_type": "stream",
     "text": [
      "\n",
      "Using 'del' statement:\n",
      "Original list: ['red', 'green', 'blue', 'yellow']\n",
      "After 'del colors[1]': ['red', 'blue', 'yellow']\n",
      "After 'del colors[1:3]': ['red']\n"
     ]
    }
   ],
   "source": [
    "# del statement (removes by index)\n",
    "print(f\"\\nUsing 'del' statement:\")\n",
    "colors = ['red', 'green', 'blue', 'yellow']\n",
    "print(f\"Original list: {colors}\")\n",
    "del colors[1] # Deletes the item at index 1 ('green')\n",
    "print(f\"After 'del colors[1]': {colors}\") # Output: ['red', 'blue', 'yellow']\n",
    "del colors[1:3] # Deletes a slice of items\n",
    "print(f\"After 'del colors[1:3]': {colors}\") # Output: ['red']"
   ]
  },
  {
   "cell_type": "markdown",
   "id": "052c3fc4-e07f-469e-a191-dd4bea055d10",
   "metadata": {},
   "source": [
    "### Using Lists as Stacks\n",
    "\n",
    "A **Stack** is a data structure that follows the **LIFO (Last-In, First-Out)** principle. The last item added is the first one to be removed. You can easily implement a stack using a list.\n",
    "\n",
    "  * **Pushing an item:** Use `append()` to add an item to the top of the stack.\n",
    "  * **Popping an item:** Use `pop()` to remove and return the item from the top of the stack."
   ]
  },
  {
   "cell_type": "code",
   "execution_count": 10,
   "id": "85cc2238-3954-47b0-8d11-ebb9492e05a9",
   "metadata": {},
   "outputs": [
    {
     "name": "stdout",
     "output_type": "stream",
     "text": [
      "\n",
      "Initial stack: ['Task 1: Prepare slides', 'Task 2: Write code', 'Task 3: Review documentation']\n"
     ]
    }
   ],
   "source": [
    "# Create a stack of tasks\n",
    "task_stack = []\n",
    "\n",
    "# Push items onto the stack (append)\n",
    "task_stack.append(\"Task 1: Prepare slides\")\n",
    "task_stack.append(\"Task 2: Write code\")\n",
    "task_stack.append(\"Task 3: Review documentation\")\n",
    "\n",
    "print(f\"\\nInitial stack: {task_stack}\")"
   ]
  },
  {
   "cell_type": "code",
   "execution_count": 11,
   "id": "992dc881-f1b3-4424-a8c2-3b454abff65d",
   "metadata": {},
   "outputs": [
    {
     "name": "stdout",
     "output_type": "stream",
     "text": [
      "Popped task: 'Task 3: Review documentation'\n",
      "Popped task: 'Task 2: Write code'\n",
      "Stack after popping: ['Task 1: Prepare slides']\n"
     ]
    }
   ],
   "source": [
    "# Pop items from the stack (the last one added is removed first)\n",
    "last_task = task_stack.pop()\n",
    "print(f\"Popped task: '{last_task}'\") # Output: 'Task 3: Review documentation'\n",
    "\n",
    "current_task = task_stack.pop()\n",
    "print(f\"Popped task: '{current_task}'\") # Output: 'Task 2: Write code'\n",
    "\n",
    "print(f\"Stack after popping: {task_stack}\") # Output: ['Task 1: Prepare slides']"
   ]
  },
  {
   "cell_type": "markdown",
   "id": "0073bbc6-5122-4884-8d75-2edd6a6ce943",
   "metadata": {},
   "source": [
    "### Using Lists as Queues\n",
    "\n",
    "A **Queue** is a data structure that follows the **FIFO (First-In, First-Out)** principle. The first item added is the first one to be removed.\n",
    "\n",
    "  * **Enqueuing (adding):** Use `append()` to add an item to the end of the queue.\n",
    "  * **Dequeuing (removing):** Use `pop(0)` to remove and return the item from the beginning of the queue.\n",
    "\n",
    "**Important Performance Note:** For large lists, `pop(0)` is **very inefficient**. Removing the first element requires shifting all other elements one position to the left, which can be a slow operation (O(n) time complexity).\n",
    "\n",
    "**Recommendation:** For a true and efficient queue, use `collections.deque`. It's a double-ended queue designed for fast appends and pops from both ends.\n"
   ]
  },
  {
   "cell_type": "code",
   "execution_count": 12,
   "id": "80849c3b-ab70-4ae7-88d5-0c425bf28dab",
   "metadata": {},
   "outputs": [
    {
     "name": "stdout",
     "output_type": "stream",
     "text": [
      "\n",
      "Initial queue: deque(['Customer A', 'Customer B', 'Customer C'])\n",
      "After adding 'Customer D': deque(['Customer A', 'Customer B', 'Customer C', 'Customer D'])\n",
      "Serving customer: 'Customer A'\n",
      "Queue after serving: deque(['Customer B', 'Customer C', 'Customer D'])\n"
     ]
    }
   ],
   "source": [
    "from collections import deque\n",
    "\n",
    "# Using deque for an efficient queue\n",
    "customer_queue = deque([\"Customer A\", \"Customer B\", \"Customer C\"])\n",
    "\n",
    "print(f\"\\nInitial queue: {customer_queue}\")\n",
    "\n",
    "# Enqueue an item (append to the right)\n",
    "customer_queue.append(\"Customer D\")\n",
    "print(f\"After adding 'Customer D': {customer_queue}\")\n",
    "\n",
    "# Dequeue an item (pop from the left)\n",
    "next_customer = customer_queue.popleft()\n",
    "print(f\"Serving customer: '{next_customer}'\") # Output: 'Customer A'\n",
    "\n",
    "print(f\"Queue after serving: {customer_queue}\")"
   ]
  },
  {
   "cell_type": "markdown",
   "id": "d2e34ff9-a555-4819-8ecd-fc32e5184c02",
   "metadata": {},
   "source": [
    "### List Comprehensions\n",
    "\n",
    "List comprehensions provide a concise and elegant way to create lists. They are a more readable and often faster alternative to using `for` loops with `append()`.\n",
    "\n",
    "  * **Syntax:** `[expression for item in iterable if condition]`"
   ]
  },
  {
   "cell_type": "code",
   "execution_count": 13,
   "id": "bc824883-c90b-41a9-a67e-1a3f9691de3d",
   "metadata": {},
   "outputs": [
    {
     "name": "stdout",
     "output_type": "stream",
     "text": [
      "\n",
      "Squares (old way): [1, 4, 9, 16, 25]\n",
      "Squares (new way): [1, 4, 9, 16, 25]\n",
      "Even numbers squared: [4, 16, 36, 64, 100]\n"
     ]
    }
   ],
   "source": [
    "# Old way: Using a for loop\n",
    "squares_old = []\n",
    "for i in range(1, 6):\n",
    "    squares_old.append(i**2)\n",
    "print(f\"\\nSquares (old way): {squares_old}\")\n",
    "\n",
    "# New way: Using a list comprehension\n",
    "squares_new = [i**2 for i in range(1, 6)]\n",
    "print(f\"Squares (new way): {squares_new}\")\n",
    "\n",
    "# List comprehension with a conditional (filtering)\n",
    "even_squares = [i**2 for i in range(1, 11) if i % 2 == 0]\n",
    "print(f\"Even numbers squared: {even_squares}\") # Output: [4, 16, 36, 64, 100]"
   ]
  },
  {
   "cell_type": "markdown",
   "id": "45312094-bc59-403a-9cfc-5871e3ef0085",
   "metadata": {},
   "source": [
    "### Nested List Comprehensions\n",
    "\n",
    "You can also use list comprehensions to create nested lists, often replacing nested loops. This is useful for creating matrices or grids."
   ]
  },
  {
   "cell_type": "code",
   "execution_count": 14,
   "id": "a00733f1-13ee-488d-b010-08031866796f",
   "metadata": {},
   "outputs": [
    {
     "name": "stdout",
     "output_type": "stream",
     "text": [
      "\n",
      "3x3 matrix: [[0, 1, 2], [0, 1, 2], [0, 1, 2]]\n",
      "Flattened list: [1, 2, 3, 4, 5, 6, 7, 8, 9]\n"
     ]
    }
   ],
   "source": [
    "# Create a 3x3 matrix (list of lists)\n",
    "matrix = [[j for j in range(3)] for i in range(3)]\n",
    "print(f\"\\n3x3 matrix: {matrix}\")\n",
    "# Output: [[0, 1, 2], [0, 1, 2], [0, 1, 2]]\n",
    "\n",
    "# Flatten a nested list into a single list\n",
    "nested_list = [[1, 2, 3], [4, 5, 6], [7, 8, 9]]\n",
    "flattened_list = [num for sublist in nested_list for num in sublist]\n",
    "print(f\"Flattened list: {flattened_list}\") # Output: [1, 2, 3, 4, 5, 6, 7, 8, 9]"
   ]
  },
  {
   "cell_type": "markdown",
   "id": "c9b1510e-2cdf-4f43-9b6c-ada124a58aec",
   "metadata": {},
   "source": [
    "## Tuples\n",
    "\n",
    "A `tuple` is an ordered, immutable collection of items.\n",
    "\n",
    "  * **Definition/Purpose:** Often used for fixed collections of items where the content is not expected to change, such as coordinates, database records, or function arguments.\n",
    "\n",
    "  * **Key Characteristics:**\n",
    "\n",
    "      * **Ordered:** Items have a defined order, similar to lists.\n",
    "      * **Immutable:** This is its key feature. Once a tuple is created, you **cannot** change its elements, add new ones, or remove existing ones.\n",
    "      * **Allows Duplicates:** Can hold multiple items with the same value.\n",
    "      * **Indexed:** Items can be accessed using an integer index.\n",
    "      * **Slicing:** Supports slicing to extract sub-sequences.\n",
    "      * **Heterogeneous:** Can contain items of different data types.\n",
    "      * **Fixed Size:** Its size is determined at creation and cannot change.\n",
    "\n",
    "  * **Syntax:**\n",
    "    `(item1, item2, item3, ...)`\n",
    "    For a single-item tuple, you must include a trailing comma: `(item,)`"
   ]
  },
  {
   "cell_type": "code",
   "execution_count": 15,
   "id": "99c606e8-2604-4013-b07b-915c1258bc22",
   "metadata": {},
   "outputs": [
    {
     "name": "stdout",
     "output_type": "stream",
     "text": [
      "Empty tuple: ()\n",
      "My tuple: ('red', 'green', 'blue', 123)\n",
      "Single item tuple: (42,)\n",
      "Another tuple: ('apple', 'banana')\n"
     ]
    }
   ],
   "source": [
    "# Creating a tuple\n",
    "empty_tuple = ()\n",
    "my_tuple = (\"red\", \"green\", \"blue\", 123)\n",
    "single_item_tuple = (42,) # Note the comma for single item tuple\n",
    "another_tuple = \"apple\", \"banana\" # Parentheses are often optional during creation\n",
    "\n",
    "print(f\"Empty tuple: {empty_tuple}\")\n",
    "print(f\"My tuple: {my_tuple}\")\n",
    "print(f\"Single item tuple: {single_item_tuple}\")\n",
    "print(f\"Another tuple: {another_tuple}\")"
   ]
  },
  {
   "cell_type": "code",
   "execution_count": 16,
   "id": "3cdeafd2-5b81-4874-ae05-5a12af604596",
   "metadata": {},
   "outputs": [
    {
     "name": "stdout",
     "output_type": "stream",
     "text": [
      "\n",
      "Accessing Elements:\n",
      "First element (my_tuple[0]): red\n",
      "Last element (my_tuple[-1]): 123\n"
     ]
    }
   ],
   "source": [
    "# Accessing elements\n",
    "print(f\"\\nAccessing Elements:\")\n",
    "print(f\"First element (my_tuple[0]): {my_tuple[0]}\") # Output: red\n",
    "print(f\"Last element (my_tuple[-1]): {my_tuple[-1]}\") # Output: 123"
   ]
  },
  {
   "cell_type": "code",
   "execution_count": 17,
   "id": "7df4b222-3390-4437-9f75-513d48ab161a",
   "metadata": {},
   "outputs": [
    {
     "name": "stdout",
     "output_type": "stream",
     "text": [
      "\n",
      "Attempting to Modify:\n",
      "Error! Tuples are immutable: 'tuple' object does not support item assignment\n"
     ]
    }
   ],
   "source": [
    "# --- Attempting to modify (will cause a TypeError!) ---\n",
    "print(f\"\\nAttempting to Modify:\")\n",
    "try:\n",
    "    my_tuple[0] = \"yellow\"\n",
    "except TypeError as e:\n",
    "    print(f\"Error! Tuples are immutable: {e}\")"
   ]
  },
  {
   "cell_type": "code",
   "execution_count": 18,
   "id": "8f212d7e-2dd8-4ebd-8e1a-a0e13b4e8a37",
   "metadata": {},
   "outputs": [
    {
     "name": "stdout",
     "output_type": "stream",
     "text": [
      "\n",
      "Slicing Tuples:\n",
      "Sliced tuple (my_tuple[1:3]): ('green', 'blue')\n"
     ]
    }
   ],
   "source": [
    "# Slicing tuples (returns a new tuple)\n",
    "print(f\"\\nSlicing Tuples:\")\n",
    "print(f\"Sliced tuple (my_tuple[1:3]): {my_tuple[1:3]}\") # Output: ('green', 'blue')\n"
   ]
  },
  {
   "cell_type": "code",
   "execution_count": 19,
   "id": "d8364c19-3347-4ebe-aa90-a3cbfcfd711e",
   "metadata": {},
   "outputs": [
    {
     "name": "stdout",
     "output_type": "stream",
     "text": [
      "\n",
      "Tuple Packing and Unpacking:\n",
      "Coordinates: x=10, y=20\n"
     ]
    }
   ],
   "source": [
    "# Tuple packing and unpacking\n",
    "print(f\"\\nTuple Packing and Unpacking:\")\n",
    "coordinates = (10, 20) # Packing\n",
    "x, y = coordinates     # Unpacking\n",
    "print(f\"Coordinates: x={x}, y={y}\")"
   ]
  },
  {
   "cell_type": "code",
   "execution_count": 20,
   "id": "217e2dea-45e7-4b09-be80-891ae73559d6",
   "metadata": {},
   "outputs": [
    {
     "name": "stdout",
     "output_type": "stream",
     "text": [
      "Min: 1, Max: 20\n"
     ]
    }
   ],
   "source": [
    "# Functions returning multiple values often return them as a tuple\n",
    "def get_min_max(numbers):\n",
    "    return min(numbers), max(numbers)\n",
    "\n",
    "min_val, max_val = get_min_max([10, 5, 20, 1])\n",
    "print(f\"Min: {min_val}, Max: {max_val}\")"
   ]
  },
  {
   "cell_type": "markdown",
   "id": "c8098103-b0ac-4437-bb69-6d69fd2638f2",
   "metadata": {},
   "source": [
    "## Sets\n",
    "\n",
    "A `set` is an unordered collection of **unique** items.\n",
    "\n",
    "  * **Definition/Purpose:** Primarily used for membership testing, removing duplicates from a sequence, and mathematical set operations (union, intersection, difference).\n",
    "\n",
    "  * **Key Characteristics:**\n",
    "\n",
    "      * **Unordered:** Items do not have a defined order and cannot be accessed by index or key. The order of elements when printed might vary.\n",
    "      * **Mutable:** You can add or remove items from a set, but you cannot change individual elements in place (as elements are not indexed).\n",
    "      * **No Duplicates:** Automatically removes duplicate elements. If you add an existing element, the set remains unchanged.\n",
    "      * **Unindexed:** Does not support indexing or slicing.\n",
    "      * **Elements Must Be Hashable:** Elements must be immutable and hashable (like numbers, strings, tuples containing only immutable types). Lists or dictionaries cannot be direct elements of a set.\n",
    "      * **Dynamic Size:** Can grow or shrink.\n",
    "\n",
    "  * **Syntax:**\n",
    "    `{item1, item2, ...}` (use `set()` to create an empty set, as `{}` creates an empty dictionary)."
   ]
  },
  {
   "cell_type": "code",
   "execution_count": 21,
   "id": "d8f1d6fe-4e7f-42a9-bd94-f91ce3bad15e",
   "metadata": {},
   "outputs": [
    {
     "name": "stdout",
     "output_type": "stream",
     "text": [
      "Set with duplicates removed: {'banana', 'apple', 'cherry'}\n"
     ]
    }
   ],
   "source": [
    "# Creating a set with duplicate values\n",
    "my_set = {\"apple\", \"banana\", \"cherry\", \"apple\", \"banana\"}\n",
    "print(f\"Set with duplicates removed: {my_set}\") # Output might be {'cherry', 'banana', 'apple'} (order is not guaranteed)"
   ]
  },
  {
   "cell_type": "code",
   "execution_count": 22,
   "id": "2a9fc5c9-7173-4430-a62e-12df7dda8b61",
   "metadata": {},
   "outputs": [
    {
     "name": "stdout",
     "output_type": "stream",
     "text": [
      "Empty set: set()\n"
     ]
    }
   ],
   "source": [
    "# Creating an empty set\n",
    "empty_set = set()\n",
    "print(f\"Empty set: {empty_set}\")"
   ]
  },
  {
   "cell_type": "code",
   "execution_count": 23,
   "id": "282e07fd-8dfb-46c5-8944-c98380d0f9cb",
   "metadata": {},
   "outputs": [
    {
     "name": "stdout",
     "output_type": "stream",
     "text": [
      "\n",
      "Adding Elements:\n",
      "Set after adding 'orange' and 'cherry': {'banana', 'apple', 'orange', 'cherry'}\n"
     ]
    }
   ],
   "source": [
    "# Adding elements\n",
    "print(f\"\\nAdding Elements:\")\n",
    "my_set.add(\"orange\")\n",
    "my_set.add(\"cherry\") # Adding an existing element has no effect\n",
    "print(f\"Set after adding 'orange' and 'cherry': {my_set}\")"
   ]
  },
  {
   "cell_type": "code",
   "execution_count": 24,
   "id": "5a3df716-51ea-4015-b123-55148582055e",
   "metadata": {},
   "outputs": [
    {
     "name": "stdout",
     "output_type": "stream",
     "text": [
      "\n",
      "Removing Elements:\n",
      "Set after removing 'banana': {'apple', 'orange', 'cherry'}\n",
      "Set after discarding 'grape': {'apple', 'orange', 'cherry'}\n",
      "Popped item: apple, Set: {'orange', 'cherry'}\n"
     ]
    }
   ],
   "source": [
    "# Removing elements\n",
    "print(f\"\\nRemoving Elements:\")\n",
    "my_set.remove(\"banana\") # Removes a specific element\n",
    "print(f\"Set after removing 'banana': {my_set}\")\n",
    "my_set.discard(\"grape\") # Removes 'grape' if it exists, but does not raise an error if not found\n",
    "print(f\"Set after discarding 'grape': {my_set}\")\n",
    "popped_item = my_set.pop() # Removes and returns an arbitrary element\n",
    "print(f\"Popped item: {popped_item}, Set: {my_set}\") # Note: The item removed is arbitrary due to unordered nature\n"
   ]
  },
  {
   "cell_type": "code",
   "execution_count": 25,
   "id": "93a97271-43f8-4b87-bc3a-66452c75b5d9",
   "metadata": {},
   "outputs": [
    {
     "name": "stdout",
     "output_type": "stream",
     "text": [
      "\n",
      "Set Operations:\n"
     ]
    }
   ],
   "source": [
    "# Set operations (mathematical operations)\n",
    "print(f\"\\nSet Operations:\")\n",
    "set1 = {1, 2, 3, 4}\n",
    "set2 = {3, 4, 5, 6}"
   ]
  },
  {
   "cell_type": "code",
   "execution_count": 26,
   "id": "fc5e2425-e849-41b4-8476-11ee05d41e2d",
   "metadata": {},
   "outputs": [
    {
     "name": "stdout",
     "output_type": "stream",
     "text": [
      "Set1: {1, 2, 3, 4}, Set2: {3, 4, 5, 6}\n",
      "Union (set1 | set2): {1, 2, 3, 4, 5, 6}\n",
      "Intersection (set1 & set2): {3, 4}\n",
      "Difference (set1 - set2): {1, 2}\n",
      "Symmetric Difference (set1 ^ set2): {1, 2, 5, 6}\n"
     ]
    }
   ],
   "source": [
    "print(f\"Set1: {set1}, Set2: {set2}\")\n",
    "print(f\"Union (set1 | set2): {set1 | set2}\") # All unique elements from both sets\n",
    "print(f\"Intersection (set1 & set2): {set1 & set2}\") # Common elements\n",
    "print(f\"Difference (set1 - set2): {set1 - set2}\") # Elements in set1 but not in set2\n",
    "print(f\"Symmetric Difference (set1 ^ set2): {set1 ^ set2}\") # Elements in either set, but not in both\n"
   ]
  },
  {
   "cell_type": "code",
   "execution_count": 27,
   "id": "46b1c17d-83a9-4cbb-8012-29902b14dc9b",
   "metadata": {},
   "outputs": [
    {
     "name": "stdout",
     "output_type": "stream",
     "text": [
      "\n",
      "Membership Testing:\n",
      "Is 'apple' in my_set? False\n",
      "Is 'banana' in my_set? False\n"
     ]
    }
   ],
   "source": [
    "# Checking for membership (very fast!)\n",
    "print(f\"\\nMembership Testing:\")\n",
    "print(f\"Is 'apple' in my_set? {'apple' in my_set}\") # Output: True\n",
    "print(f\"Is 'banana' in my_set? {'banana' in my_set}\") # Output: False (it was removed)"
   ]
  },
  {
   "cell_type": "code",
   "execution_count": 28,
   "id": "db89331b-c05b-45ec-ba68-171d0a7461a3",
   "metadata": {},
   "outputs": [
    {
     "name": "stdout",
     "output_type": "stream",
     "text": [
      "\n",
      "Original list with duplicates: [1, 2, 2, 3, 4, 4, 5]\n",
      "List after removing duplicates: [1, 2, 3, 4, 5]\n"
     ]
    }
   ],
   "source": [
    "# Converting list to set to remove duplicates\n",
    "numbers_with_duplicates = [1, 2, 2, 3, 4, 4, 5]\n",
    "unique_numbers = list(set(numbers_with_duplicates))\n",
    "print(f\"\\nOriginal list with duplicates: {numbers_with_duplicates}\")\n",
    "print(f\"List after removing duplicates: {unique_numbers}\")"
   ]
  },
  {
   "cell_type": "markdown",
   "id": "18a46369-1401-457f-8ece-e0ba3cc2d864",
   "metadata": {},
   "source": [
    "### `frozenset`\n",
    "\n",
    "A `frozenset` is an **immutable** version of a `set`. Once created, you cannot add or remove elements. This makes `frozenset`s hashable, meaning they can be used as elements in other sets or as keys in dictionaries.\n"
   ]
  },
  {
   "cell_type": "code",
   "execution_count": 29,
   "id": "e21be853-0d11-4511-a83a-a36718a854c4",
   "metadata": {},
   "outputs": [
    {
     "name": "stdout",
     "output_type": "stream",
     "text": [
      "Frozenset: frozenset({1, 2, 3})\n",
      "Type of frozenset: <class 'frozenset'>\n",
      "Error! Frozensets are immutable: 'frozenset' object has no attribute 'add'\n",
      "Nested set with frozensets: {frozenset({3, 4}), frozenset({1, 2})}\n"
     ]
    }
   ],
   "source": [
    "# Creating a frozenset\n",
    "immutable_set = frozenset([1, 2, 3, 2])\n",
    "print(f\"Frozenset: {immutable_set}\")\n",
    "print(f\"Type of frozenset: {type(immutable_set)}\")\n",
    "\n",
    "# Attempting to add/remove (will raise an AttributeError)\n",
    "try:\n",
    "    immutable_set.add(4)\n",
    "except AttributeError as e:\n",
    "    print(f\"Error! Frozensets are immutable: {e}\")\n",
    "\n",
    "# Frozensets can be elements of a regular set\n",
    "nested_set = {frozenset([1, 2]), frozenset([3, 4])}\n",
    "print(f\"Nested set with frozensets: {nested_set}\")"
   ]
  },
  {
   "cell_type": "markdown",
   "id": "b76ea89d-2a86-4dae-815a-6806f9400cbf",
   "metadata": {},
   "source": [
    "## Dictionaries\n",
    "\n",
    "A `dict` (dictionary) is a collection of **key-value pairs**. Each unique key maps to a specific value.\n",
    "\n",
    "  * **Definition/Purpose:** Ideal for storing data where each piece of information is associated with a unique identifier (the key), allowing for very fast lookups.\n",
    "\n",
    "  * **Key Characteristics:**\n",
    "\n",
    "      * **Ordered (since Python 3.7):** Items are kept in the order they were inserted. Before 3.7, they were unordered.\n",
    "      * **Mutable:** You can add new key-value pairs, remove existing ones, and change the values associated with keys.\n",
    "      * **Keys are Unique:** Each key must be unique within a dictionary. If you assign a new value to an existing key, it overwrites the old value.\n",
    "      * **Keys Must Be Immutable and Hashable:** Keys must be of an immutable type (e.g., strings, numbers, tuples containing only immutable types). Lists and dictionaries cannot be keys.\n",
    "      * **Values Can Be Anything:** Values can be of any data type and can be duplicates.\n",
    "      * **Mapped:** You access values using their associated keys, not a numerical index.\n",
    "      * **Dynamic Size:** Can grow or shrink as needed.\n",
    "\n",
    "  * **Syntax:**\n",
    "    `{key1: value1, key2: value2, ...}`"
   ]
  },
  {
   "cell_type": "code",
   "execution_count": 30,
   "id": "062695a0-1fcb-4600-aba2-229b2f794147",
   "metadata": {},
   "outputs": [
    {
     "name": "stdout",
     "output_type": "stream",
     "text": [
      "Empty dictionary: {}\n",
      "Person dictionary: {'name': 'Alice', 'age': 30, 'city': 'New York', 'occupation': 'Engineer', 'skills': ['Python', 'SQL', 'ML']}\n"
     ]
    }
   ],
   "source": [
    "# Creating a dictionary\n",
    "empty_dict = {}\n",
    "person = {\n",
    "    \"name\": \"Alice\",\n",
    "    \"age\": 30,\n",
    "    \"city\": \"New York\",\n",
    "    \"occupation\": \"Engineer\",\n",
    "    \"skills\": [\"Python\", \"SQL\", \"ML\"] # Value can be a list\n",
    "}\n",
    "\n",
    "print(f\"Empty dictionary: {empty_dict}\")\n",
    "print(f\"Person dictionary: {person}\")"
   ]
  },
  {
   "cell_type": "code",
   "execution_count": 31,
   "id": "fd4d0a08-b912-4f92-953b-716ac39ded77",
   "metadata": {},
   "outputs": [
    {
     "name": "stdout",
     "output_type": "stream",
     "text": [
      "\n",
      "Accessing Values:\n",
      "Person's name (person['name']): Alice\n",
      "Person's age (person.get('age')): 30\n",
      "Person's country (person.get('country', 'Not specified')): Not specified\n"
     ]
    }
   ],
   "source": [
    "# Accessing values by key\n",
    "print(f\"\\nAccessing Values:\")\n",
    "print(f\"Person's name (person['name']): {person['name']}\") # Output: Alice\n",
    "print(f\"Person's age (person.get('age')): {person.get('age')}\") # Safer way to access (returns None if key not found)\n",
    "print(f\"Person's country (person.get('country', 'Not specified')): {person.get('country', 'Not specified')}\") # Provides a default value\n"
   ]
  },
  {
   "cell_type": "code",
   "execution_count": 32,
   "id": "c6a2c164-b50e-4c25-ba71-c31774e657ce",
   "metadata": {},
   "outputs": [
    {
     "name": "stdout",
     "output_type": "stream",
     "text": [
      "\n",
      "Modifying Values:\n",
      "Dictionary after modifying age: {'name': 'Alice', 'age': 31, 'city': 'New York', 'occupation': 'Engineer', 'skills': ['Python', 'SQL', 'ML']}\n"
     ]
    }
   ],
   "source": [
    "# Modifying a value\n",
    "print(f\"\\nModifying Values:\")\n",
    "person[\"age\"] = 31\n",
    "print(f\"Dictionary after modifying age: {person}\")"
   ]
  },
  {
   "cell_type": "code",
   "execution_count": 33,
   "id": "4eadc0cd-b635-4a2f-b516-2492af6f784c",
   "metadata": {},
   "outputs": [
    {
     "name": "stdout",
     "output_type": "stream",
     "text": [
      "\n",
      "Adding Key-Value Pairs:\n",
      "Dictionary after adding email: {'name': 'Alice', 'age': 31, 'city': 'New York', 'occupation': 'Engineer', 'skills': ['Python', 'SQL', 'ML'], 'email': 'alice@example.com'}\n"
     ]
    }
   ],
   "source": [
    "# Adding a new key-value pair\n",
    "print(f\"\\nAdding Key-Value Pairs:\")\n",
    "person[\"email\"] = \"alice@example.com\"\n",
    "print(f\"Dictionary after adding email: {person}\")"
   ]
  },
  {
   "cell_type": "code",
   "execution_count": 34,
   "id": "f22481ab-57c9-4171-816c-e1683a87efd5",
   "metadata": {},
   "outputs": [
    {
     "name": "stdout",
     "output_type": "stream",
     "text": [
      "\n",
      "Removing Key-Value Pairs:\n",
      "Removed occupation: Engineer, Dictionary: {'name': 'Alice', 'age': 31, 'city': 'New York', 'skills': ['Python', 'SQL', 'ML'], 'email': 'alice@example.com'}\n",
      "Dictionary after deleting city: {'name': 'Alice', 'age': 31, 'skills': ['Python', 'SQL', 'ML'], 'email': 'alice@example.com'}\n"
     ]
    }
   ],
   "source": [
    "# Removing key-value pairs\n",
    "print(f\"\\nRemoving Key-Value Pairs:\")\n",
    "removed_occupation = person.pop(\"occupation\") # Removes key and returns its value\n",
    "print(f\"Removed occupation: {removed_occupation}, Dictionary: {person}\")\n",
    "del person[\"city\"] # Deletes key-value pair\n",
    "print(f\"Dictionary after deleting city: {person}\")"
   ]
  },
  {
   "cell_type": "code",
   "execution_count": 35,
   "id": "55e071c7-199a-42fe-82cd-66a423cf6268",
   "metadata": {},
   "outputs": [
    {
     "name": "stdout",
     "output_type": "stream",
     "text": [
      "\n",
      "Iterating Through Dictionary:\n",
      "Keys:\n",
      "name\n",
      "age\n",
      "skills\n",
      "email\n",
      "Values:\n",
      "Alice\n",
      "31\n",
      "['Python', 'SQL', 'ML']\n",
      "alice@example.com\n",
      "Items (key-value pairs):\n",
      "name: Alice\n",
      "age: 31\n",
      "skills: ['Python', 'SQL', 'ML']\n",
      "email: alice@example.com\n"
     ]
    }
   ],
   "source": [
    "# Iterating through a dictionary\n",
    "print(f\"\\nIterating Through Dictionary:\")\n",
    "print(f\"Keys:\")\n",
    "for key in person: # Iterates over keys by default\n",
    "    print(key)\n",
    "print(f\"Values:\")\n",
    "for value in person.values(): # Iterates over values\n",
    "    print(value)\n",
    "print(f\"Items (key-value pairs):\")\n",
    "for key, value in person.items(): # Iterates over (key, value) tuples\n",
    "    print(f\"{key}: {value}\")\n"
   ]
  },
  {
   "cell_type": "code",
   "execution_count": 36,
   "id": "549f171b-1b84-4657-a116-376bbcab280b",
   "metadata": {},
   "outputs": [
    {
     "name": "stdout",
     "output_type": "stream",
     "text": [
      "\n",
      "Checking Key Existence:\n",
      "Is 'name' in person? True\n",
      "Is 'salary' in person? False\n"
     ]
    }
   ],
   "source": [
    "# Checking for key existence\n",
    "print(f\"\\nChecking Key Existence:\")\n",
    "print(f\"Is 'name' in person? {'name' in person}\") # Output: True\n",
    "print(f\"Is 'salary' in person? {'salary' in person}\") # Output: False"
   ]
  },
  {
   "cell_type": "markdown",
   "id": "9d250d57-bc0a-4505-af20-8fa100388c24",
   "metadata": {},
   "source": [
    "## Arrays (from `array` module) and Numeric Data\n",
    "\n",
    "While lists are incredibly flexible, they can store heterogeneous data. When you need to store a large sequence of items of the **exact same primitive data type** (like all integers or all floats) and care about memory efficiency, Python's built-in `array` module can be used.\n",
    "\n",
    "  * **Definition/Purpose:** Provides a space-efficient way to store arrays of basic numeric types. Less flexible than lists but more memory-efficient for homogeneous numerical data.\n",
    "\n",
    "  * **Key Characteristics:**\n",
    "\n",
    "      * **Homogeneous:** All elements must be of the same specified type (e.g., all signed integers, all floating-point numbers). This type is specified by a 'type code' during creation.\n",
    "      * **Mutable:** Elements can be changed after creation.\n",
    "      * **Ordered & Indexed:** Like lists, elements maintain order and are accessed by index.\n",
    "      * **Memory Efficient:** Stores elements more compactly than a Python list, which stores full Python objects.\n",
    "\n",
    "  * **Syntax:**\n",
    "    `from array import array`\n",
    "    `array(typecode, [initial items])`\n",
    "\n",
    "    Common `typecode` examples:\n",
    "\n",
    "      * `'i'`: signed integer (2 bytes)\n",
    "      * `'f'`: float (4 bytes)\n",
    "      * `'d'`: double (8 bytes)\n",
    "\n",
    "\n",
    "**Important Note:** For serious numerical computing and data science, the **NumPy `ndarray`** (from the `numpy` library) is the de facto standard. It provides highly optimized array operations and a vast ecosystem of scientific functions, far beyond the basic `array` module."
   ]
  },
  {
   "cell_type": "code",
   "execution_count": 37,
   "id": "eb9c85cd-81b0-4728-a1f7-ba17ad9c1cd1",
   "metadata": {},
   "outputs": [
    {
     "name": "stdout",
     "output_type": "stream",
     "text": [
      "Integer array: array('i', [10, 20, 30, 40, 50])\n",
      "Type of the array: <class 'array.array'>\n"
     ]
    }
   ],
   "source": [
    "from array import array\n",
    "\n",
    "# Creating an array of signed integers ('i' typecode)\n",
    "my_int_array = array('i', [10, 20, 30, 40, 50])\n",
    "print(f\"Integer array: {my_int_array}\")\n",
    "print(f\"Type of the array: {type(my_int_array)}\")"
   ]
  },
  {
   "cell_type": "code",
   "execution_count": 38,
   "id": "433d1174-fddf-4951-a23f-9cab56ee5256",
   "metadata": {},
   "outputs": [
    {
     "name": "stdout",
     "output_type": "stream",
     "text": [
      "Float array: array('d', [1.1, 2.2, 3.3])\n"
     ]
    }
   ],
   "source": [
    "# Creating an array of double-precision floats ('d' typecode)\n",
    "my_float_array = array('d', [1.1, 2.2, 3.3])\n",
    "print(f\"Float array: {my_float_array}\")"
   ]
  },
  {
   "cell_type": "code",
   "execution_count": 39,
   "id": "6a06481c-fe55-4467-91d0-ccfcb723a36a",
   "metadata": {},
   "outputs": [
    {
     "name": "stdout",
     "output_type": "stream",
     "text": [
      "Third element (my_int_array[2]): 30\n",
      "Array after modification: array('i', [5, 20, 30, 40, 50])\n"
     ]
    }
   ],
   "source": [
    "# Accessing and modifying elements works like a list\n",
    "print(f\"Third element (my_int_array[2]): {my_int_array[2]}\") # Output: 30\n",
    "my_int_array[0] = 5\n",
    "print(f\"Array after modification: {my_int_array}\")"
   ]
  },
  {
   "cell_type": "code",
   "execution_count": 40,
   "id": "f06c5a17-e24d-4c9b-b420-e4c86e6bac57",
   "metadata": {},
   "outputs": [
    {
     "name": "stdout",
     "output_type": "stream",
     "text": [
      "Error! Array requires a homogeneous type: 'float' object cannot be interpreted as an integer\n"
     ]
    }
   ],
   "source": [
    "# Attempting to add a different data type (will cause a TypeError!)\n",
    "try:\n",
    "    my_int_array.append(3.14) # Trying to add a float to an integer array\n",
    "except TypeError as e:\n",
    "    print(f\"Error! Array requires a homogeneous type: {e}\")"
   ]
  },
  {
   "cell_type": "code",
   "execution_count": 41,
   "id": "01201505-66ad-4bdd-93cc-c72056f27d91",
   "metadata": {},
   "outputs": [
    {
     "name": "stdout",
     "output_type": "stream",
     "text": [
      "Error! Value too large for array type: signed integer is greater than maximum\n"
     ]
    }
   ],
   "source": [
    "# Attempting to add the wrong integer type (e.g., too large for 'i')\n",
    "try:\n",
    "    my_int_array.append(2**31) # Value too large for typical 'i' (signed 32-bit int)\n",
    "except OverflowError as e:\n",
    "    print(f\"Error! Value too large for array type: {e}\")"
   ]
  },
  {
   "cell_type": "markdown",
   "id": "f438fdd0-e009-46c3-ba12-de0cd249eaea",
   "metadata": {},
   "source": [
    "## Summary of Python's Core Data Structures\n",
    "\n",
    "| Data Structure | Type          | Mutability | Ordered  | Allows Duplicates | Accessed By     | Common Use Cases                                                 |\n",
    "| :------------- | :------------ | :--------- | :------- | :---------------- | :-------------- | :--------------------------------------------------------------- |\n",
    "| **List** | Sequence      | Mutable    | ✅ Yes   | ✅ Yes            | Index (e.g., `[0]`) | General-purpose collection, dynamic arrays, ordered items.       |\n",
    "| **Tuple** | Sequence      | Immutable  | ✅ Yes   | ✅ Yes            | Index (e.g., `[0]`) | Fixed collections, function arguments/returns, dictionary keys.  |\n",
    "| **Set** | Unordered Collection | Mutable    | ❌ No    | ❌ No             | N/A (no index)  | Membership testing, removing duplicates, mathematical set ops.   |\n",
    "| **Frozenset** | Unordered Collection | Immutable  | ❌ No    | ❌ No             | N/A (no index)  | Immutable sets, elements of other sets, dictionary keys.         |\n",
    "| **Dictionary** | Mapping       | Mutable    | ✅ Yes  | ❌ No (keys), ✅ Yes (values) | Key (e.g., `['key']`) | Key-value storage, lookup tables, representing structured data.  |"
   ]
  }
 ],
 "metadata": {
  "kernelspec": {
   "display_name": "Python 3 (ipykernel)",
   "language": "python",
   "name": "python3"
  },
  "language_info": {
   "codemirror_mode": {
    "name": "ipython",
    "version": 3
   },
   "file_extension": ".py",
   "mimetype": "text/x-python",
   "name": "python",
   "nbconvert_exporter": "python",
   "pygments_lexer": "ipython3",
   "version": "3.12.2"
  }
 },
 "nbformat": 4,
 "nbformat_minor": 5
}
